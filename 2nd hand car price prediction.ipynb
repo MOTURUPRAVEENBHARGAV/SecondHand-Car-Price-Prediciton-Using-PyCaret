{
 "cells": [
  {
   "cell_type": "markdown",
   "metadata": {},
   "source": [
    "For Documentary about PyCaret Library Refer: https://pycaret.readthedocs.io/en/latest/api/regression.html"
   ]
  },
  {
   "cell_type": "code",
   "execution_count": 1,
   "metadata": {},
   "outputs": [],
   "source": [
    "import pandas as pd\n",
    "import numpy as np\n",
    "import matplotlib.pyplot as plt\n",
    "import seaborn as sns\n",
    "%matplotlib inline\n",
    "from pycaret.regression import *\n",
    "import plotly.express as px"
   ]
  },
  {
   "cell_type": "code",
   "execution_count": 2,
   "metadata": {},
   "outputs": [
    {
     "data": {
      "text/html": [
       "<div>\n",
       "<style scoped>\n",
       "    .dataframe tbody tr th:only-of-type {\n",
       "        vertical-align: middle;\n",
       "    }\n",
       "\n",
       "    .dataframe tbody tr th {\n",
       "        vertical-align: top;\n",
       "    }\n",
       "\n",
       "    .dataframe thead th {\n",
       "        text-align: right;\n",
       "    }\n",
       "</style>\n",
       "<table border=\"1\" class=\"dataframe\">\n",
       "  <thead>\n",
       "    <tr style=\"text-align: right;\">\n",
       "      <th></th>\n",
       "      <th>Car_Name</th>\n",
       "      <th>Year</th>\n",
       "      <th>Selling_Price</th>\n",
       "      <th>Present_Price</th>\n",
       "      <th>Kms_Driven</th>\n",
       "      <th>Fuel_Type</th>\n",
       "      <th>Seller_Type</th>\n",
       "      <th>Transmission</th>\n",
       "      <th>Owner</th>\n",
       "    </tr>\n",
       "  </thead>\n",
       "  <tbody>\n",
       "    <tr>\n",
       "      <th>0</th>\n",
       "      <td>ritz</td>\n",
       "      <td>2014</td>\n",
       "      <td>3.35</td>\n",
       "      <td>5.59</td>\n",
       "      <td>27000</td>\n",
       "      <td>Petrol</td>\n",
       "      <td>Dealer</td>\n",
       "      <td>Manual</td>\n",
       "      <td>0</td>\n",
       "    </tr>\n",
       "    <tr>\n",
       "      <th>1</th>\n",
       "      <td>sx4</td>\n",
       "      <td>2013</td>\n",
       "      <td>4.75</td>\n",
       "      <td>9.54</td>\n",
       "      <td>43000</td>\n",
       "      <td>Diesel</td>\n",
       "      <td>Dealer</td>\n",
       "      <td>Manual</td>\n",
       "      <td>0</td>\n",
       "    </tr>\n",
       "    <tr>\n",
       "      <th>2</th>\n",
       "      <td>ciaz</td>\n",
       "      <td>2017</td>\n",
       "      <td>7.25</td>\n",
       "      <td>9.85</td>\n",
       "      <td>6900</td>\n",
       "      <td>Petrol</td>\n",
       "      <td>Dealer</td>\n",
       "      <td>Manual</td>\n",
       "      <td>0</td>\n",
       "    </tr>\n",
       "  </tbody>\n",
       "</table>\n",
       "</div>"
      ],
      "text/plain": [
       "  Car_Name  Year  Selling_Price  Present_Price  Kms_Driven Fuel_Type  \\\n",
       "0     ritz  2014           3.35           5.59       27000    Petrol   \n",
       "1      sx4  2013           4.75           9.54       43000    Diesel   \n",
       "2     ciaz  2017           7.25           9.85        6900    Petrol   \n",
       "\n",
       "  Seller_Type Transmission  Owner  \n",
       "0      Dealer       Manual      0  \n",
       "1      Dealer       Manual      0  \n",
       "2      Dealer       Manual      0  "
      ]
     },
     "execution_count": 2,
     "metadata": {},
     "output_type": "execute_result"
    }
   ],
   "source": [
    "df=pd.read_csv(\"car data.csv\")\n",
    "df.head(3)"
   ]
  },
  {
   "cell_type": "code",
   "execution_count": 3,
   "metadata": {},
   "outputs": [
    {
     "name": "stdout",
     "output_type": "stream",
     "text": [
      " Volume in drive C is Windows\n",
      " Volume Serial Number is BAE7-516A\n",
      "\n",
      " Directory of C:\\Users\\Praveen Bhargav\\Desktop\\DSE\\PyCaret\\Car_Price_Pred-master\\Praveen CAR PRICE Project\n",
      "\n",
      "20-04-2021  22:03    <DIR>          .\n",
      "20-04-2021  22:03    <DIR>          ..\n",
      "20-04-2021  13:33    <DIR>          .ipynb_checkpoints\n",
      "20-04-2021  22:03           388,316 2nd hand car price prediction.ipynb\n",
      "05-04-2021  10:20            16,907 car data.csv\n",
      "20-04-2021  16:49    <DIR>          catboost_info\n",
      "20-04-2021  17:26           148,091 logs.log\n",
      "20-04-2021  17:17           222,021 saved_xgbmodel.pkl\n",
      "               4 File(s)        775,335 bytes\n",
      "               4 Dir(s)  171,803,684,864 bytes free\n"
     ]
    }
   ],
   "source": [
    "!dir"
   ]
  },
  {
   "cell_type": "code",
   "execution_count": 8,
   "metadata": {},
   "outputs": [
    {
     "data": {
      "text/plain": [
       "Car_Name         0\n",
       "Year             0\n",
       "Selling_Price    0\n",
       "Present_Price    0\n",
       "Kms_Driven       0\n",
       "Fuel_Type        0\n",
       "Seller_Type      0\n",
       "Transmission     0\n",
       "Owner            0\n",
       "dtype: int64"
      ]
     },
     "execution_count": 8,
     "metadata": {},
     "output_type": "execute_result"
    }
   ],
   "source": [
    "#Feature Engineering\n",
    "\n",
    "df.isnull().sum()  \n"
   ]
  },
  {
   "cell_type": "code",
   "execution_count": 9,
   "metadata": {},
   "outputs": [],
   "source": [
    "## No nnull Values"
   ]
  },
  {
   "cell_type": "code",
   "execution_count": 10,
   "metadata": {},
   "outputs": [
    {
     "name": "stdout",
     "output_type": "stream",
     "text": [
      "<class 'pandas.core.frame.DataFrame'>\n",
      "RangeIndex: 301 entries, 0 to 300\n",
      "Data columns (total 9 columns):\n",
      " #   Column         Non-Null Count  Dtype  \n",
      "---  ------         --------------  -----  \n",
      " 0   Car_Name       301 non-null    object \n",
      " 1   Year           301 non-null    int64  \n",
      " 2   Selling_Price  301 non-null    float64\n",
      " 3   Present_Price  301 non-null    float64\n",
      " 4   Kms_Driven     301 non-null    int64  \n",
      " 5   Fuel_Type      301 non-null    object \n",
      " 6   Seller_Type    301 non-null    object \n",
      " 7   Transmission   301 non-null    object \n",
      " 8   Owner          301 non-null    int64  \n",
      "dtypes: float64(2), int64(3), object(4)\n",
      "memory usage: 21.3+ KB\n"
     ]
    }
   ],
   "source": [
    "df.info()"
   ]
  },
  {
   "cell_type": "code",
   "execution_count": 4,
   "metadata": {},
   "outputs": [
    {
     "name": "stdout",
     "output_type": "stream",
     "text": [
      "Categorical Columns: ['Car_Name', 'Fuel_Type', 'Seller_Type', 'Transmission']\n"
     ]
    }
   ],
   "source": [
    "cat_cols= df.select_dtypes(include= [\"object\"]).columns.tolist()\n",
    "print(f\"Categorical Columns: {cat_cols}\")"
   ]
  },
  {
   "cell_type": "code",
   "execution_count": 5,
   "metadata": {},
   "outputs": [
    {
     "name": "stdout",
     "output_type": "stream",
     "text": [
      "Numerical Columns: ['Year', 'Selling_Price', 'Present_Price', 'Kms_Driven', 'Owner']\n"
     ]
    }
   ],
   "source": [
    "num_cols= df.select_dtypes(exclude= [\"object\"]).columns.tolist()\n",
    "print(f\"Numerical Columns: {num_cols}\")"
   ]
  },
  {
   "cell_type": "code",
   "execution_count": 19,
   "metadata": {},
   "outputs": [
    {
     "data": {
      "text/html": [
       "<div>\n",
       "<style scoped>\n",
       "    .dataframe tbody tr th:only-of-type {\n",
       "        vertical-align: middle;\n",
       "    }\n",
       "\n",
       "    .dataframe tbody tr th {\n",
       "        vertical-align: top;\n",
       "    }\n",
       "\n",
       "    .dataframe thead th {\n",
       "        text-align: right;\n",
       "    }\n",
       "</style>\n",
       "<table border=\"1\" class=\"dataframe\">\n",
       "  <thead>\n",
       "    <tr style=\"text-align: right;\">\n",
       "      <th></th>\n",
       "      <th>count</th>\n",
       "      <th>mean</th>\n",
       "      <th>std</th>\n",
       "      <th>min</th>\n",
       "      <th>25%</th>\n",
       "      <th>50%</th>\n",
       "      <th>75%</th>\n",
       "      <th>max</th>\n",
       "    </tr>\n",
       "  </thead>\n",
       "  <tbody>\n",
       "    <tr>\n",
       "      <th>Year</th>\n",
       "      <td>301.0</td>\n",
       "      <td>2013.627907</td>\n",
       "      <td>2.891554</td>\n",
       "      <td>2003.00</td>\n",
       "      <td>2012.0</td>\n",
       "      <td>2014.0</td>\n",
       "      <td>2016.0</td>\n",
       "      <td>2018.0</td>\n",
       "    </tr>\n",
       "    <tr>\n",
       "      <th>Selling_Price</th>\n",
       "      <td>301.0</td>\n",
       "      <td>4.661296</td>\n",
       "      <td>5.082812</td>\n",
       "      <td>0.10</td>\n",
       "      <td>0.9</td>\n",
       "      <td>3.6</td>\n",
       "      <td>6.0</td>\n",
       "      <td>35.0</td>\n",
       "    </tr>\n",
       "    <tr>\n",
       "      <th>Present_Price</th>\n",
       "      <td>301.0</td>\n",
       "      <td>7.628472</td>\n",
       "      <td>8.644115</td>\n",
       "      <td>0.32</td>\n",
       "      <td>1.2</td>\n",
       "      <td>6.4</td>\n",
       "      <td>9.9</td>\n",
       "      <td>92.6</td>\n",
       "    </tr>\n",
       "    <tr>\n",
       "      <th>Kms_Driven</th>\n",
       "      <td>301.0</td>\n",
       "      <td>36947.205980</td>\n",
       "      <td>38886.883882</td>\n",
       "      <td>500.00</td>\n",
       "      <td>15000.0</td>\n",
       "      <td>32000.0</td>\n",
       "      <td>48767.0</td>\n",
       "      <td>500000.0</td>\n",
       "    </tr>\n",
       "    <tr>\n",
       "      <th>Owner</th>\n",
       "      <td>301.0</td>\n",
       "      <td>0.043189</td>\n",
       "      <td>0.247915</td>\n",
       "      <td>0.00</td>\n",
       "      <td>0.0</td>\n",
       "      <td>0.0</td>\n",
       "      <td>0.0</td>\n",
       "      <td>3.0</td>\n",
       "    </tr>\n",
       "  </tbody>\n",
       "</table>\n",
       "</div>"
      ],
      "text/plain": [
       "               count          mean           std      min      25%      50%  \\\n",
       "Year           301.0   2013.627907      2.891554  2003.00   2012.0   2014.0   \n",
       "Selling_Price  301.0      4.661296      5.082812     0.10      0.9      3.6   \n",
       "Present_Price  301.0      7.628472      8.644115     0.32      1.2      6.4   \n",
       "Kms_Driven     301.0  36947.205980  38886.883882   500.00  15000.0  32000.0   \n",
       "Owner          301.0      0.043189      0.247915     0.00      0.0      0.0   \n",
       "\n",
       "                   75%       max  \n",
       "Year            2016.0    2018.0  \n",
       "Selling_Price      6.0      35.0  \n",
       "Present_Price      9.9      92.6  \n",
       "Kms_Driven     48767.0  500000.0  \n",
       "Owner              0.0       3.0  "
      ]
     },
     "execution_count": 19,
     "metadata": {},
     "output_type": "execute_result"
    }
   ],
   "source": [
    "df.describe().T"
   ]
  },
  {
   "cell_type": "code",
   "execution_count": 6,
   "metadata": {},
   "outputs": [
    {
     "data": {
      "text/html": [
       "<div>\n",
       "<style scoped>\n",
       "    .dataframe tbody tr th:only-of-type {\n",
       "        vertical-align: middle;\n",
       "    }\n",
       "\n",
       "    .dataframe tbody tr th {\n",
       "        vertical-align: top;\n",
       "    }\n",
       "\n",
       "    .dataframe thead th {\n",
       "        text-align: right;\n",
       "    }\n",
       "</style>\n",
       "<table border=\"1\" class=\"dataframe\">\n",
       "  <thead>\n",
       "    <tr style=\"text-align: right;\">\n",
       "      <th></th>\n",
       "      <th>Car_Name</th>\n",
       "      <th>Year</th>\n",
       "      <th>Selling_Price</th>\n",
       "      <th>Present_Price</th>\n",
       "      <th>Kms_Driven</th>\n",
       "      <th>Fuel_Type</th>\n",
       "      <th>Seller_Type</th>\n",
       "      <th>Transmission</th>\n",
       "      <th>Owner</th>\n",
       "      <th>Years_Used</th>\n",
       "    </tr>\n",
       "  </thead>\n",
       "  <tbody>\n",
       "    <tr>\n",
       "      <th>0</th>\n",
       "      <td>ritz</td>\n",
       "      <td>2014</td>\n",
       "      <td>3.35</td>\n",
       "      <td>5.59</td>\n",
       "      <td>27000</td>\n",
       "      <td>Petrol</td>\n",
       "      <td>Dealer</td>\n",
       "      <td>Manual</td>\n",
       "      <td>0</td>\n",
       "      <td>7</td>\n",
       "    </tr>\n",
       "    <tr>\n",
       "      <th>1</th>\n",
       "      <td>sx4</td>\n",
       "      <td>2013</td>\n",
       "      <td>4.75</td>\n",
       "      <td>9.54</td>\n",
       "      <td>43000</td>\n",
       "      <td>Diesel</td>\n",
       "      <td>Dealer</td>\n",
       "      <td>Manual</td>\n",
       "      <td>0</td>\n",
       "      <td>8</td>\n",
       "    </tr>\n",
       "    <tr>\n",
       "      <th>2</th>\n",
       "      <td>ciaz</td>\n",
       "      <td>2017</td>\n",
       "      <td>7.25</td>\n",
       "      <td>9.85</td>\n",
       "      <td>6900</td>\n",
       "      <td>Petrol</td>\n",
       "      <td>Dealer</td>\n",
       "      <td>Manual</td>\n",
       "      <td>0</td>\n",
       "      <td>4</td>\n",
       "    </tr>\n",
       "    <tr>\n",
       "      <th>3</th>\n",
       "      <td>wagon r</td>\n",
       "      <td>2011</td>\n",
       "      <td>2.85</td>\n",
       "      <td>4.15</td>\n",
       "      <td>5200</td>\n",
       "      <td>Petrol</td>\n",
       "      <td>Dealer</td>\n",
       "      <td>Manual</td>\n",
       "      <td>0</td>\n",
       "      <td>10</td>\n",
       "    </tr>\n",
       "    <tr>\n",
       "      <th>4</th>\n",
       "      <td>swift</td>\n",
       "      <td>2014</td>\n",
       "      <td>4.60</td>\n",
       "      <td>6.87</td>\n",
       "      <td>42450</td>\n",
       "      <td>Diesel</td>\n",
       "      <td>Dealer</td>\n",
       "      <td>Manual</td>\n",
       "      <td>0</td>\n",
       "      <td>7</td>\n",
       "    </tr>\n",
       "  </tbody>\n",
       "</table>\n",
       "</div>"
      ],
      "text/plain": [
       "  Car_Name  Year  Selling_Price  Present_Price  Kms_Driven Fuel_Type  \\\n",
       "0     ritz  2014           3.35           5.59       27000    Petrol   \n",
       "1      sx4  2013           4.75           9.54       43000    Diesel   \n",
       "2     ciaz  2017           7.25           9.85        6900    Petrol   \n",
       "3  wagon r  2011           2.85           4.15        5200    Petrol   \n",
       "4    swift  2014           4.60           6.87       42450    Diesel   \n",
       "\n",
       "  Seller_Type Transmission  Owner  Years_Used  \n",
       "0      Dealer       Manual      0           7  \n",
       "1      Dealer       Manual      0           8  \n",
       "2      Dealer       Manual      0           4  \n",
       "3      Dealer       Manual      0          10  \n",
       "4      Dealer       Manual      0           7  "
      ]
     },
     "execution_count": 6,
     "metadata": {},
     "output_type": "execute_result"
    }
   ],
   "source": [
    "from datetime import date\n",
    "today_date= date.today()\n",
    "cur_year= today_date.year\n",
    "# cur_year\n",
    "df[\"Years_Used\"]= cur_year-df[\"Year\"]\n",
    "df.head()"
   ]
  },
  {
   "cell_type": "markdown",
   "metadata": {},
   "source": [
    "## Exploratoy Data Analysis"
   ]
  },
  {
   "cell_type": "code",
   "execution_count": 23,
   "metadata": {},
   "outputs": [],
   "source": [
    "#The features/variables which are not helpful for the modeling are \"Car_Name, Year\" so we can drop those."
   ]
  },
  {
   "cell_type": "code",
   "execution_count": 7,
   "metadata": {},
   "outputs": [
    {
     "data": {
      "text/html": [
       "<div>\n",
       "<style scoped>\n",
       "    .dataframe tbody tr th:only-of-type {\n",
       "        vertical-align: middle;\n",
       "    }\n",
       "\n",
       "    .dataframe tbody tr th {\n",
       "        vertical-align: top;\n",
       "    }\n",
       "\n",
       "    .dataframe thead th {\n",
       "        text-align: right;\n",
       "    }\n",
       "</style>\n",
       "<table border=\"1\" class=\"dataframe\">\n",
       "  <thead>\n",
       "    <tr style=\"text-align: right;\">\n",
       "      <th></th>\n",
       "      <th>Car_Name</th>\n",
       "      <th>No.of_Sales</th>\n",
       "    </tr>\n",
       "  </thead>\n",
       "  <tbody>\n",
       "    <tr>\n",
       "      <th>0</th>\n",
       "      <td>city</td>\n",
       "      <td>26</td>\n",
       "    </tr>\n",
       "    <tr>\n",
       "      <th>1</th>\n",
       "      <td>corolla altis</td>\n",
       "      <td>16</td>\n",
       "    </tr>\n",
       "    <tr>\n",
       "      <th>2</th>\n",
       "      <td>verna</td>\n",
       "      <td>14</td>\n",
       "    </tr>\n",
       "    <tr>\n",
       "      <th>3</th>\n",
       "      <td>fortuner</td>\n",
       "      <td>11</td>\n",
       "    </tr>\n",
       "    <tr>\n",
       "      <th>4</th>\n",
       "      <td>brio</td>\n",
       "      <td>10</td>\n",
       "    </tr>\n",
       "    <tr>\n",
       "      <th>5</th>\n",
       "      <td>innova</td>\n",
       "      <td>9</td>\n",
       "    </tr>\n",
       "    <tr>\n",
       "      <th>6</th>\n",
       "      <td>i20</td>\n",
       "      <td>9</td>\n",
       "    </tr>\n",
       "    <tr>\n",
       "      <th>7</th>\n",
       "      <td>ciaz</td>\n",
       "      <td>9</td>\n",
       "    </tr>\n",
       "    <tr>\n",
       "      <th>8</th>\n",
       "      <td>grand i10</td>\n",
       "      <td>8</td>\n",
       "    </tr>\n",
       "    <tr>\n",
       "      <th>9</th>\n",
       "      <td>Royal Enfield Classic 350</td>\n",
       "      <td>7</td>\n",
       "    </tr>\n",
       "  </tbody>\n",
       "</table>\n",
       "</div>"
      ],
      "text/plain": [
       "                    Car_Name  No.of_Sales\n",
       "0                       city           26\n",
       "1              corolla altis           16\n",
       "2                      verna           14\n",
       "3                   fortuner           11\n",
       "4                       brio           10\n",
       "5                     innova            9\n",
       "6                        i20            9\n",
       "7                       ciaz            9\n",
       "8                  grand i10            8\n",
       "9  Royal Enfield Classic 350            7"
      ]
     },
     "execution_count": 7,
     "metadata": {},
     "output_type": "execute_result"
    }
   ],
   "source": [
    "top10_best_sales_cars = pd.DataFrame(df.Car_Name.value_counts()[0:10])\n",
    "top10_best_sales_cars= top10_best_sales_cars.reset_index().rename(columns={\"index\":\"Car_Name\", \"Car_Name\":\"No.of_Sales\"}).sort_values(by=[\"No.of_Sales\"],ascending= False)\n",
    "top10_best_sales_cars"
   ]
  },
  {
   "cell_type": "code",
   "execution_count": 10,
   "metadata": {},
   "outputs": [
    {
     "data": {
      "application/vnd.plotly.v1+json": {
       "config": {
        "plotlyServerURL": "https://plot.ly"
       },
       "data": [
        {
         "alignmentgroup": "True",
         "customdata": [
          [
           26
          ],
          [
           16
          ],
          [
           14
          ],
          [
           11
          ],
          [
           10
          ],
          [
           9
          ],
          [
           9
          ],
          [
           9
          ],
          [
           8
          ],
          [
           7
          ]
         ],
         "hovertemplate": "No.of_Sales=%{marker.color}<br>Car_Name=%{y}<extra></extra>",
         "legendgroup": "",
         "marker": {
          "color": [
           26,
           16,
           14,
           11,
           10,
           9,
           9,
           9,
           8,
           7
          ],
          "coloraxis": "coloraxis"
         },
         "name": "",
         "offsetgroup": "",
         "orientation": "h",
         "showlegend": false,
         "text": [
          26,
          16,
          14,
          11,
          10,
          9,
          9,
          9,
          8,
          7
         ],
         "textposition": "outside",
         "texttemplate": "%{text:.2s}",
         "type": "bar",
         "x": [
          26,
          16,
          14,
          11,
          10,
          9,
          9,
          9,
          8,
          7
         ],
         "xaxis": "x",
         "y": [
          "city",
          "corolla altis",
          "verna",
          "fortuner",
          "brio",
          "innova",
          "i20",
          "ciaz",
          "grand i10",
          "Royal Enfield Classic 350"
         ],
         "yaxis": "y"
        }
       ],
       "layout": {
        "barmode": "relative",
        "coloraxis": {
         "colorbar": {
          "title": {
           "text": "No.of_Sales"
          }
         },
         "colorscale": [
          [
           0,
           "#0d0887"
          ],
          [
           0.1111111111111111,
           "#46039f"
          ],
          [
           0.2222222222222222,
           "#7201a8"
          ],
          [
           0.3333333333333333,
           "#9c179e"
          ],
          [
           0.4444444444444444,
           "#bd3786"
          ],
          [
           0.5555555555555556,
           "#d8576b"
          ],
          [
           0.6666666666666666,
           "#ed7953"
          ],
          [
           0.7777777777777778,
           "#fb9f3a"
          ],
          [
           0.8888888888888888,
           "#fdca26"
          ],
          [
           1,
           "#f0f921"
          ]
         ]
        },
        "legend": {
         "tracegroupgap": 0
        },
        "template": {
         "data": {
          "bar": [
           {
            "error_x": {
             "color": "#2a3f5f"
            },
            "error_y": {
             "color": "#2a3f5f"
            },
            "marker": {
             "line": {
              "color": "#E5ECF6",
              "width": 0.5
             }
            },
            "type": "bar"
           }
          ],
          "barpolar": [
           {
            "marker": {
             "line": {
              "color": "#E5ECF6",
              "width": 0.5
             }
            },
            "type": "barpolar"
           }
          ],
          "carpet": [
           {
            "aaxis": {
             "endlinecolor": "#2a3f5f",
             "gridcolor": "white",
             "linecolor": "white",
             "minorgridcolor": "white",
             "startlinecolor": "#2a3f5f"
            },
            "baxis": {
             "endlinecolor": "#2a3f5f",
             "gridcolor": "white",
             "linecolor": "white",
             "minorgridcolor": "white",
             "startlinecolor": "#2a3f5f"
            },
            "type": "carpet"
           }
          ],
          "choropleth": [
           {
            "colorbar": {
             "outlinewidth": 0,
             "ticks": ""
            },
            "type": "choropleth"
           }
          ],
          "contour": [
           {
            "colorbar": {
             "outlinewidth": 0,
             "ticks": ""
            },
            "colorscale": [
             [
              0,
              "#0d0887"
             ],
             [
              0.1111111111111111,
              "#46039f"
             ],
             [
              0.2222222222222222,
              "#7201a8"
             ],
             [
              0.3333333333333333,
              "#9c179e"
             ],
             [
              0.4444444444444444,
              "#bd3786"
             ],
             [
              0.5555555555555556,
              "#d8576b"
             ],
             [
              0.6666666666666666,
              "#ed7953"
             ],
             [
              0.7777777777777778,
              "#fb9f3a"
             ],
             [
              0.8888888888888888,
              "#fdca26"
             ],
             [
              1,
              "#f0f921"
             ]
            ],
            "type": "contour"
           }
          ],
          "contourcarpet": [
           {
            "colorbar": {
             "outlinewidth": 0,
             "ticks": ""
            },
            "type": "contourcarpet"
           }
          ],
          "heatmap": [
           {
            "colorbar": {
             "outlinewidth": 0,
             "ticks": ""
            },
            "colorscale": [
             [
              0,
              "#0d0887"
             ],
             [
              0.1111111111111111,
              "#46039f"
             ],
             [
              0.2222222222222222,
              "#7201a8"
             ],
             [
              0.3333333333333333,
              "#9c179e"
             ],
             [
              0.4444444444444444,
              "#bd3786"
             ],
             [
              0.5555555555555556,
              "#d8576b"
             ],
             [
              0.6666666666666666,
              "#ed7953"
             ],
             [
              0.7777777777777778,
              "#fb9f3a"
             ],
             [
              0.8888888888888888,
              "#fdca26"
             ],
             [
              1,
              "#f0f921"
             ]
            ],
            "type": "heatmap"
           }
          ],
          "heatmapgl": [
           {
            "colorbar": {
             "outlinewidth": 0,
             "ticks": ""
            },
            "colorscale": [
             [
              0,
              "#0d0887"
             ],
             [
              0.1111111111111111,
              "#46039f"
             ],
             [
              0.2222222222222222,
              "#7201a8"
             ],
             [
              0.3333333333333333,
              "#9c179e"
             ],
             [
              0.4444444444444444,
              "#bd3786"
             ],
             [
              0.5555555555555556,
              "#d8576b"
             ],
             [
              0.6666666666666666,
              "#ed7953"
             ],
             [
              0.7777777777777778,
              "#fb9f3a"
             ],
             [
              0.8888888888888888,
              "#fdca26"
             ],
             [
              1,
              "#f0f921"
             ]
            ],
            "type": "heatmapgl"
           }
          ],
          "histogram": [
           {
            "marker": {
             "colorbar": {
              "outlinewidth": 0,
              "ticks": ""
             }
            },
            "type": "histogram"
           }
          ],
          "histogram2d": [
           {
            "colorbar": {
             "outlinewidth": 0,
             "ticks": ""
            },
            "colorscale": [
             [
              0,
              "#0d0887"
             ],
             [
              0.1111111111111111,
              "#46039f"
             ],
             [
              0.2222222222222222,
              "#7201a8"
             ],
             [
              0.3333333333333333,
              "#9c179e"
             ],
             [
              0.4444444444444444,
              "#bd3786"
             ],
             [
              0.5555555555555556,
              "#d8576b"
             ],
             [
              0.6666666666666666,
              "#ed7953"
             ],
             [
              0.7777777777777778,
              "#fb9f3a"
             ],
             [
              0.8888888888888888,
              "#fdca26"
             ],
             [
              1,
              "#f0f921"
             ]
            ],
            "type": "histogram2d"
           }
          ],
          "histogram2dcontour": [
           {
            "colorbar": {
             "outlinewidth": 0,
             "ticks": ""
            },
            "colorscale": [
             [
              0,
              "#0d0887"
             ],
             [
              0.1111111111111111,
              "#46039f"
             ],
             [
              0.2222222222222222,
              "#7201a8"
             ],
             [
              0.3333333333333333,
              "#9c179e"
             ],
             [
              0.4444444444444444,
              "#bd3786"
             ],
             [
              0.5555555555555556,
              "#d8576b"
             ],
             [
              0.6666666666666666,
              "#ed7953"
             ],
             [
              0.7777777777777778,
              "#fb9f3a"
             ],
             [
              0.8888888888888888,
              "#fdca26"
             ],
             [
              1,
              "#f0f921"
             ]
            ],
            "type": "histogram2dcontour"
           }
          ],
          "mesh3d": [
           {
            "colorbar": {
             "outlinewidth": 0,
             "ticks": ""
            },
            "type": "mesh3d"
           }
          ],
          "parcoords": [
           {
            "line": {
             "colorbar": {
              "outlinewidth": 0,
              "ticks": ""
             }
            },
            "type": "parcoords"
           }
          ],
          "pie": [
           {
            "automargin": true,
            "type": "pie"
           }
          ],
          "scatter": [
           {
            "marker": {
             "colorbar": {
              "outlinewidth": 0,
              "ticks": ""
             }
            },
            "type": "scatter"
           }
          ],
          "scatter3d": [
           {
            "line": {
             "colorbar": {
              "outlinewidth": 0,
              "ticks": ""
             }
            },
            "marker": {
             "colorbar": {
              "outlinewidth": 0,
              "ticks": ""
             }
            },
            "type": "scatter3d"
           }
          ],
          "scattercarpet": [
           {
            "marker": {
             "colorbar": {
              "outlinewidth": 0,
              "ticks": ""
             }
            },
            "type": "scattercarpet"
           }
          ],
          "scattergeo": [
           {
            "marker": {
             "colorbar": {
              "outlinewidth": 0,
              "ticks": ""
             }
            },
            "type": "scattergeo"
           }
          ],
          "scattergl": [
           {
            "marker": {
             "colorbar": {
              "outlinewidth": 0,
              "ticks": ""
             }
            },
            "type": "scattergl"
           }
          ],
          "scattermapbox": [
           {
            "marker": {
             "colorbar": {
              "outlinewidth": 0,
              "ticks": ""
             }
            },
            "type": "scattermapbox"
           }
          ],
          "scatterpolar": [
           {
            "marker": {
             "colorbar": {
              "outlinewidth": 0,
              "ticks": ""
             }
            },
            "type": "scatterpolar"
           }
          ],
          "scatterpolargl": [
           {
            "marker": {
             "colorbar": {
              "outlinewidth": 0,
              "ticks": ""
             }
            },
            "type": "scatterpolargl"
           }
          ],
          "scatterternary": [
           {
            "marker": {
             "colorbar": {
              "outlinewidth": 0,
              "ticks": ""
             }
            },
            "type": "scatterternary"
           }
          ],
          "surface": [
           {
            "colorbar": {
             "outlinewidth": 0,
             "ticks": ""
            },
            "colorscale": [
             [
              0,
              "#0d0887"
             ],
             [
              0.1111111111111111,
              "#46039f"
             ],
             [
              0.2222222222222222,
              "#7201a8"
             ],
             [
              0.3333333333333333,
              "#9c179e"
             ],
             [
              0.4444444444444444,
              "#bd3786"
             ],
             [
              0.5555555555555556,
              "#d8576b"
             ],
             [
              0.6666666666666666,
              "#ed7953"
             ],
             [
              0.7777777777777778,
              "#fb9f3a"
             ],
             [
              0.8888888888888888,
              "#fdca26"
             ],
             [
              1,
              "#f0f921"
             ]
            ],
            "type": "surface"
           }
          ],
          "table": [
           {
            "cells": {
             "fill": {
              "color": "#EBF0F8"
             },
             "line": {
              "color": "white"
             }
            },
            "header": {
             "fill": {
              "color": "#C8D4E3"
             },
             "line": {
              "color": "white"
             }
            },
            "type": "table"
           }
          ]
         },
         "layout": {
          "annotationdefaults": {
           "arrowcolor": "#2a3f5f",
           "arrowhead": 0,
           "arrowwidth": 1
          },
          "coloraxis": {
           "colorbar": {
            "outlinewidth": 0,
            "ticks": ""
           }
          },
          "colorscale": {
           "diverging": [
            [
             0,
             "#8e0152"
            ],
            [
             0.1,
             "#c51b7d"
            ],
            [
             0.2,
             "#de77ae"
            ],
            [
             0.3,
             "#f1b6da"
            ],
            [
             0.4,
             "#fde0ef"
            ],
            [
             0.5,
             "#f7f7f7"
            ],
            [
             0.6,
             "#e6f5d0"
            ],
            [
             0.7,
             "#b8e186"
            ],
            [
             0.8,
             "#7fbc41"
            ],
            [
             0.9,
             "#4d9221"
            ],
            [
             1,
             "#276419"
            ]
           ],
           "sequential": [
            [
             0,
             "#0d0887"
            ],
            [
             0.1111111111111111,
             "#46039f"
            ],
            [
             0.2222222222222222,
             "#7201a8"
            ],
            [
             0.3333333333333333,
             "#9c179e"
            ],
            [
             0.4444444444444444,
             "#bd3786"
            ],
            [
             0.5555555555555556,
             "#d8576b"
            ],
            [
             0.6666666666666666,
             "#ed7953"
            ],
            [
             0.7777777777777778,
             "#fb9f3a"
            ],
            [
             0.8888888888888888,
             "#fdca26"
            ],
            [
             1,
             "#f0f921"
            ]
           ],
           "sequentialminus": [
            [
             0,
             "#0d0887"
            ],
            [
             0.1111111111111111,
             "#46039f"
            ],
            [
             0.2222222222222222,
             "#7201a8"
            ],
            [
             0.3333333333333333,
             "#9c179e"
            ],
            [
             0.4444444444444444,
             "#bd3786"
            ],
            [
             0.5555555555555556,
             "#d8576b"
            ],
            [
             0.6666666666666666,
             "#ed7953"
            ],
            [
             0.7777777777777778,
             "#fb9f3a"
            ],
            [
             0.8888888888888888,
             "#fdca26"
            ],
            [
             1,
             "#f0f921"
            ]
           ]
          },
          "colorway": [
           "#636efa",
           "#EF553B",
           "#00cc96",
           "#ab63fa",
           "#FFA15A",
           "#19d3f3",
           "#FF6692",
           "#B6E880",
           "#FF97FF",
           "#FECB52"
          ],
          "font": {
           "color": "#2a3f5f"
          },
          "geo": {
           "bgcolor": "white",
           "lakecolor": "white",
           "landcolor": "#E5ECF6",
           "showlakes": true,
           "showland": true,
           "subunitcolor": "white"
          },
          "hoverlabel": {
           "align": "left"
          },
          "hovermode": "closest",
          "mapbox": {
           "style": "light"
          },
          "paper_bgcolor": "white",
          "plot_bgcolor": "#E5ECF6",
          "polar": {
           "angularaxis": {
            "gridcolor": "white",
            "linecolor": "white",
            "ticks": ""
           },
           "bgcolor": "#E5ECF6",
           "radialaxis": {
            "gridcolor": "white",
            "linecolor": "white",
            "ticks": ""
           }
          },
          "scene": {
           "xaxis": {
            "backgroundcolor": "#E5ECF6",
            "gridcolor": "white",
            "gridwidth": 2,
            "linecolor": "white",
            "showbackground": true,
            "ticks": "",
            "zerolinecolor": "white"
           },
           "yaxis": {
            "backgroundcolor": "#E5ECF6",
            "gridcolor": "white",
            "gridwidth": 2,
            "linecolor": "white",
            "showbackground": true,
            "ticks": "",
            "zerolinecolor": "white"
           },
           "zaxis": {
            "backgroundcolor": "#E5ECF6",
            "gridcolor": "white",
            "gridwidth": 2,
            "linecolor": "white",
            "showbackground": true,
            "ticks": "",
            "zerolinecolor": "white"
           }
          },
          "shapedefaults": {
           "line": {
            "color": "#2a3f5f"
           }
          },
          "ternary": {
           "aaxis": {
            "gridcolor": "white",
            "linecolor": "white",
            "ticks": ""
           },
           "baxis": {
            "gridcolor": "white",
            "linecolor": "white",
            "ticks": ""
           },
           "bgcolor": "#E5ECF6",
           "caxis": {
            "gridcolor": "white",
            "linecolor": "white",
            "ticks": ""
           }
          },
          "title": {
           "x": 0.05
          },
          "xaxis": {
           "automargin": true,
           "gridcolor": "white",
           "linecolor": "white",
           "ticks": "",
           "title": {
            "standoff": 15
           },
           "zerolinecolor": "white",
           "zerolinewidth": 2
          },
          "yaxis": {
           "automargin": true,
           "gridcolor": "white",
           "linecolor": "white",
           "ticks": "",
           "title": {
            "standoff": 15
           },
           "zerolinecolor": "white",
           "zerolinewidth": 2
          }
         }
        },
        "title": {
         "text": "Top 10 Cars In High Sales"
        },
        "uniformtext": {
         "minsize": 8,
         "mode": "hide"
        },
        "width": 700,
        "xaxis": {
         "anchor": "y",
         "domain": [
          0,
          1
         ],
         "title": {
          "text": "No.of_Sales"
         }
        },
        "yaxis": {
         "anchor": "x",
         "domain": [
          0,
          1
         ],
         "title": {
          "text": "Car_Name"
         }
        }
       }
      },
      "text/html": [
       "<div>\n",
       "        \n",
       "        \n",
       "            <div id=\"1493af48-424f-48e0-a3e8-e7a73ed462b1\" class=\"plotly-graph-div\" style=\"height:525px; width:700px;\"></div>\n",
       "            <script type=\"text/javascript\">\n",
       "                require([\"plotly\"], function(Plotly) {\n",
       "                    window.PLOTLYENV=window.PLOTLYENV || {};\n",
       "                    \n",
       "                if (document.getElementById(\"1493af48-424f-48e0-a3e8-e7a73ed462b1\")) {\n",
       "                    Plotly.newPlot(\n",
       "                        '1493af48-424f-48e0-a3e8-e7a73ed462b1',\n",
       "                        [{\"alignmentgroup\": \"True\", \"customdata\": [[26], [16], [14], [11], [10], [9], [9], [9], [8], [7]], \"hovertemplate\": \"No.of_Sales=%{marker.color}<br>Car_Name=%{y}<extra></extra>\", \"legendgroup\": \"\", \"marker\": {\"color\": [26, 16, 14, 11, 10, 9, 9, 9, 8, 7], \"coloraxis\": \"coloraxis\"}, \"name\": \"\", \"offsetgroup\": \"\", \"orientation\": \"h\", \"showlegend\": false, \"text\": [26.0, 16.0, 14.0, 11.0, 10.0, 9.0, 9.0, 9.0, 8.0, 7.0], \"textposition\": \"outside\", \"texttemplate\": \"%{text:.2s}\", \"type\": \"bar\", \"x\": [26, 16, 14, 11, 10, 9, 9, 9, 8, 7], \"xaxis\": \"x\", \"y\": [\"city\", \"corolla altis\", \"verna\", \"fortuner\", \"brio\", \"innova\", \"i20\", \"ciaz\", \"grand i10\", \"Royal Enfield Classic 350\"], \"yaxis\": \"y\"}],\n",
       "                        {\"barmode\": \"relative\", \"coloraxis\": {\"colorbar\": {\"title\": {\"text\": \"No.of_Sales\"}}, \"colorscale\": [[0.0, \"#0d0887\"], [0.1111111111111111, \"#46039f\"], [0.2222222222222222, \"#7201a8\"], [0.3333333333333333, \"#9c179e\"], [0.4444444444444444, \"#bd3786\"], [0.5555555555555556, \"#d8576b\"], [0.6666666666666666, \"#ed7953\"], [0.7777777777777778, \"#fb9f3a\"], [0.8888888888888888, \"#fdca26\"], [1.0, \"#f0f921\"]]}, \"legend\": {\"tracegroupgap\": 0}, \"template\": {\"data\": {\"bar\": [{\"error_x\": {\"color\": \"#2a3f5f\"}, \"error_y\": {\"color\": \"#2a3f5f\"}, \"marker\": {\"line\": {\"color\": \"#E5ECF6\", \"width\": 0.5}}, \"type\": \"bar\"}], \"barpolar\": [{\"marker\": {\"line\": {\"color\": \"#E5ECF6\", \"width\": 0.5}}, \"type\": \"barpolar\"}], \"carpet\": [{\"aaxis\": {\"endlinecolor\": \"#2a3f5f\", \"gridcolor\": \"white\", \"linecolor\": \"white\", \"minorgridcolor\": \"white\", \"startlinecolor\": \"#2a3f5f\"}, \"baxis\": {\"endlinecolor\": \"#2a3f5f\", \"gridcolor\": \"white\", \"linecolor\": \"white\", \"minorgridcolor\": \"white\", \"startlinecolor\": \"#2a3f5f\"}, \"type\": \"carpet\"}], \"choropleth\": [{\"colorbar\": {\"outlinewidth\": 0, \"ticks\": \"\"}, \"type\": \"choropleth\"}], \"contour\": [{\"colorbar\": {\"outlinewidth\": 0, \"ticks\": \"\"}, \"colorscale\": [[0.0, \"#0d0887\"], [0.1111111111111111, \"#46039f\"], [0.2222222222222222, \"#7201a8\"], [0.3333333333333333, \"#9c179e\"], [0.4444444444444444, \"#bd3786\"], [0.5555555555555556, \"#d8576b\"], [0.6666666666666666, \"#ed7953\"], [0.7777777777777778, \"#fb9f3a\"], [0.8888888888888888, \"#fdca26\"], [1.0, \"#f0f921\"]], \"type\": \"contour\"}], \"contourcarpet\": [{\"colorbar\": {\"outlinewidth\": 0, \"ticks\": \"\"}, \"type\": \"contourcarpet\"}], \"heatmap\": [{\"colorbar\": {\"outlinewidth\": 0, \"ticks\": \"\"}, \"colorscale\": [[0.0, \"#0d0887\"], [0.1111111111111111, \"#46039f\"], [0.2222222222222222, \"#7201a8\"], [0.3333333333333333, \"#9c179e\"], [0.4444444444444444, \"#bd3786\"], [0.5555555555555556, \"#d8576b\"], [0.6666666666666666, \"#ed7953\"], [0.7777777777777778, \"#fb9f3a\"], [0.8888888888888888, \"#fdca26\"], [1.0, \"#f0f921\"]], \"type\": \"heatmap\"}], \"heatmapgl\": [{\"colorbar\": {\"outlinewidth\": 0, \"ticks\": \"\"}, \"colorscale\": [[0.0, \"#0d0887\"], [0.1111111111111111, \"#46039f\"], [0.2222222222222222, \"#7201a8\"], [0.3333333333333333, \"#9c179e\"], [0.4444444444444444, \"#bd3786\"], [0.5555555555555556, \"#d8576b\"], [0.6666666666666666, \"#ed7953\"], [0.7777777777777778, \"#fb9f3a\"], [0.8888888888888888, \"#fdca26\"], [1.0, \"#f0f921\"]], \"type\": \"heatmapgl\"}], \"histogram\": [{\"marker\": {\"colorbar\": {\"outlinewidth\": 0, \"ticks\": \"\"}}, \"type\": \"histogram\"}], \"histogram2d\": [{\"colorbar\": {\"outlinewidth\": 0, \"ticks\": \"\"}, \"colorscale\": [[0.0, \"#0d0887\"], [0.1111111111111111, \"#46039f\"], [0.2222222222222222, \"#7201a8\"], [0.3333333333333333, \"#9c179e\"], [0.4444444444444444, \"#bd3786\"], [0.5555555555555556, \"#d8576b\"], [0.6666666666666666, \"#ed7953\"], [0.7777777777777778, \"#fb9f3a\"], [0.8888888888888888, \"#fdca26\"], [1.0, \"#f0f921\"]], \"type\": \"histogram2d\"}], \"histogram2dcontour\": [{\"colorbar\": {\"outlinewidth\": 0, \"ticks\": \"\"}, \"colorscale\": [[0.0, \"#0d0887\"], [0.1111111111111111, \"#46039f\"], [0.2222222222222222, \"#7201a8\"], [0.3333333333333333, \"#9c179e\"], [0.4444444444444444, \"#bd3786\"], [0.5555555555555556, \"#d8576b\"], [0.6666666666666666, \"#ed7953\"], [0.7777777777777778, \"#fb9f3a\"], [0.8888888888888888, \"#fdca26\"], [1.0, \"#f0f921\"]], \"type\": \"histogram2dcontour\"}], \"mesh3d\": [{\"colorbar\": {\"outlinewidth\": 0, \"ticks\": \"\"}, \"type\": \"mesh3d\"}], \"parcoords\": [{\"line\": {\"colorbar\": {\"outlinewidth\": 0, \"ticks\": \"\"}}, \"type\": \"parcoords\"}], \"pie\": [{\"automargin\": true, \"type\": \"pie\"}], \"scatter\": [{\"marker\": {\"colorbar\": {\"outlinewidth\": 0, \"ticks\": \"\"}}, \"type\": \"scatter\"}], \"scatter3d\": [{\"line\": {\"colorbar\": {\"outlinewidth\": 0, \"ticks\": \"\"}}, \"marker\": {\"colorbar\": {\"outlinewidth\": 0, \"ticks\": \"\"}}, \"type\": \"scatter3d\"}], \"scattercarpet\": [{\"marker\": {\"colorbar\": {\"outlinewidth\": 0, \"ticks\": \"\"}}, \"type\": \"scattercarpet\"}], \"scattergeo\": [{\"marker\": {\"colorbar\": {\"outlinewidth\": 0, \"ticks\": \"\"}}, \"type\": \"scattergeo\"}], \"scattergl\": [{\"marker\": {\"colorbar\": {\"outlinewidth\": 0, \"ticks\": \"\"}}, \"type\": \"scattergl\"}], \"scattermapbox\": [{\"marker\": {\"colorbar\": {\"outlinewidth\": 0, \"ticks\": \"\"}}, \"type\": \"scattermapbox\"}], \"scatterpolar\": [{\"marker\": {\"colorbar\": {\"outlinewidth\": 0, \"ticks\": \"\"}}, \"type\": \"scatterpolar\"}], \"scatterpolargl\": [{\"marker\": {\"colorbar\": {\"outlinewidth\": 0, \"ticks\": \"\"}}, \"type\": \"scatterpolargl\"}], \"scatterternary\": [{\"marker\": {\"colorbar\": {\"outlinewidth\": 0, \"ticks\": \"\"}}, \"type\": \"scatterternary\"}], \"surface\": [{\"colorbar\": {\"outlinewidth\": 0, \"ticks\": \"\"}, \"colorscale\": [[0.0, \"#0d0887\"], [0.1111111111111111, \"#46039f\"], [0.2222222222222222, \"#7201a8\"], [0.3333333333333333, \"#9c179e\"], [0.4444444444444444, \"#bd3786\"], [0.5555555555555556, \"#d8576b\"], [0.6666666666666666, \"#ed7953\"], [0.7777777777777778, \"#fb9f3a\"], [0.8888888888888888, \"#fdca26\"], [1.0, \"#f0f921\"]], \"type\": \"surface\"}], \"table\": [{\"cells\": {\"fill\": {\"color\": \"#EBF0F8\"}, \"line\": {\"color\": \"white\"}}, \"header\": {\"fill\": {\"color\": \"#C8D4E3\"}, \"line\": {\"color\": \"white\"}}, \"type\": \"table\"}]}, \"layout\": {\"annotationdefaults\": {\"arrowcolor\": \"#2a3f5f\", \"arrowhead\": 0, \"arrowwidth\": 1}, \"coloraxis\": {\"colorbar\": {\"outlinewidth\": 0, \"ticks\": \"\"}}, \"colorscale\": {\"diverging\": [[0, \"#8e0152\"], [0.1, \"#c51b7d\"], [0.2, \"#de77ae\"], [0.3, \"#f1b6da\"], [0.4, \"#fde0ef\"], [0.5, \"#f7f7f7\"], [0.6, \"#e6f5d0\"], [0.7, \"#b8e186\"], [0.8, \"#7fbc41\"], [0.9, \"#4d9221\"], [1, \"#276419\"]], \"sequential\": [[0.0, \"#0d0887\"], [0.1111111111111111, \"#46039f\"], [0.2222222222222222, \"#7201a8\"], [0.3333333333333333, \"#9c179e\"], [0.4444444444444444, \"#bd3786\"], [0.5555555555555556, \"#d8576b\"], [0.6666666666666666, \"#ed7953\"], [0.7777777777777778, \"#fb9f3a\"], [0.8888888888888888, \"#fdca26\"], [1.0, \"#f0f921\"]], \"sequentialminus\": [[0.0, \"#0d0887\"], [0.1111111111111111, \"#46039f\"], [0.2222222222222222, \"#7201a8\"], [0.3333333333333333, \"#9c179e\"], [0.4444444444444444, \"#bd3786\"], [0.5555555555555556, \"#d8576b\"], [0.6666666666666666, \"#ed7953\"], [0.7777777777777778, \"#fb9f3a\"], [0.8888888888888888, \"#fdca26\"], [1.0, \"#f0f921\"]]}, \"colorway\": [\"#636efa\", \"#EF553B\", \"#00cc96\", \"#ab63fa\", \"#FFA15A\", \"#19d3f3\", \"#FF6692\", \"#B6E880\", \"#FF97FF\", \"#FECB52\"], \"font\": {\"color\": \"#2a3f5f\"}, \"geo\": {\"bgcolor\": \"white\", \"lakecolor\": \"white\", \"landcolor\": \"#E5ECF6\", \"showlakes\": true, \"showland\": true, \"subunitcolor\": \"white\"}, \"hoverlabel\": {\"align\": \"left\"}, \"hovermode\": \"closest\", \"mapbox\": {\"style\": \"light\"}, \"paper_bgcolor\": \"white\", \"plot_bgcolor\": \"#E5ECF6\", \"polar\": {\"angularaxis\": {\"gridcolor\": \"white\", \"linecolor\": \"white\", \"ticks\": \"\"}, \"bgcolor\": \"#E5ECF6\", \"radialaxis\": {\"gridcolor\": \"white\", \"linecolor\": \"white\", \"ticks\": \"\"}}, \"scene\": {\"xaxis\": {\"backgroundcolor\": \"#E5ECF6\", \"gridcolor\": \"white\", \"gridwidth\": 2, \"linecolor\": \"white\", \"showbackground\": true, \"ticks\": \"\", \"zerolinecolor\": \"white\"}, \"yaxis\": {\"backgroundcolor\": \"#E5ECF6\", \"gridcolor\": \"white\", \"gridwidth\": 2, \"linecolor\": \"white\", \"showbackground\": true, \"ticks\": \"\", \"zerolinecolor\": \"white\"}, \"zaxis\": {\"backgroundcolor\": \"#E5ECF6\", \"gridcolor\": \"white\", \"gridwidth\": 2, \"linecolor\": \"white\", \"showbackground\": true, \"ticks\": \"\", \"zerolinecolor\": \"white\"}}, \"shapedefaults\": {\"line\": {\"color\": \"#2a3f5f\"}}, \"ternary\": {\"aaxis\": {\"gridcolor\": \"white\", \"linecolor\": \"white\", \"ticks\": \"\"}, \"baxis\": {\"gridcolor\": \"white\", \"linecolor\": \"white\", \"ticks\": \"\"}, \"bgcolor\": \"#E5ECF6\", \"caxis\": {\"gridcolor\": \"white\", \"linecolor\": \"white\", \"ticks\": \"\"}}, \"title\": {\"x\": 0.05}, \"xaxis\": {\"automargin\": true, \"gridcolor\": \"white\", \"linecolor\": \"white\", \"ticks\": \"\", \"title\": {\"standoff\": 15}, \"zerolinecolor\": \"white\", \"zerolinewidth\": 2}, \"yaxis\": {\"automargin\": true, \"gridcolor\": \"white\", \"linecolor\": \"white\", \"ticks\": \"\", \"title\": {\"standoff\": 15}, \"zerolinecolor\": \"white\", \"zerolinewidth\": 2}}}, \"title\": {\"text\": \"Top 10 Cars In High Sales\"}, \"uniformtext\": {\"minsize\": 8, \"mode\": \"hide\"}, \"width\": 700, \"xaxis\": {\"anchor\": \"y\", \"domain\": [0.0, 1.0], \"title\": {\"text\": \"No.of_Sales\"}}, \"yaxis\": {\"anchor\": \"x\", \"domain\": [0.0, 1.0], \"title\": {\"text\": \"Car_Name\"}}},\n",
       "                        {\"responsive\": true}\n",
       "                    ).then(function(){\n",
       "                            \n",
       "var gd = document.getElementById('1493af48-424f-48e0-a3e8-e7a73ed462b1');\n",
       "var x = new MutationObserver(function (mutations, observer) {{\n",
       "        var display = window.getComputedStyle(gd).display;\n",
       "        if (!display || display === 'none') {{\n",
       "            console.log([gd, 'removed!']);\n",
       "            Plotly.purge(gd);\n",
       "            observer.disconnect();\n",
       "        }}\n",
       "}});\n",
       "\n",
       "// Listen for the removal of the full notebook cells\n",
       "var notebookContainer = gd.closest('#notebook-container');\n",
       "if (notebookContainer) {{\n",
       "    x.observe(notebookContainer, {childList: true});\n",
       "}}\n",
       "\n",
       "// Listen for the clearing of the current output cell\n",
       "var outputEl = gd.closest('.output');\n",
       "if (outputEl) {{\n",
       "    x.observe(outputEl, {childList: true});\n",
       "}}\n",
       "\n",
       "                        })\n",
       "                };\n",
       "                });\n",
       "            </script>\n",
       "        </div>"
      ]
     },
     "metadata": {},
     "output_type": "display_data"
    }
   ],
   "source": [
    "fig=px.bar(top10_best_sales_cars,y=\"Car_Name\", x=\"No.of_Sales\", \n",
    "           hover_data=[\"No.of_Sales\"], color=\"No.of_Sales\",\n",
    "          title= \"Top 10 Cars In High Sales\",width= 700,\n",
    "           text=\"No.of_Sales\")\n",
    "fig.update_traces(texttemplate='%{text:.2s}', textposition='outside')\n",
    "fig.update_layout(uniformtext_minsize=8, uniformtext_mode='hide')\n",
    "fig.show()"
   ]
  },
  {
   "cell_type": "code",
   "execution_count": 11,
   "metadata": {},
   "outputs": [
    {
     "name": "stdout",
     "output_type": "stream",
     "text": [
      "The Maximum Price of Petrol Type\t19.75L\n",
      "The Minimum Price of Petrol Type\t0.1L\n"
     ]
    }
   ],
   "source": [
    "#Checking the selling prices of fuel_type cars\n",
    "print(f'The Maximum Price of Petrol Type\\t{df[df[\"Fuel_Type\"]== \"Petrol\"].Selling_Price.max()}L\\nThe Minimum Price of Petrol Type\\t{df[df[\"Fuel_Type\"]== \"Petrol\"].Selling_Price.min()}L')"
   ]
  },
  {
   "cell_type": "code",
   "execution_count": 12,
   "metadata": {},
   "outputs": [
    {
     "name": "stdout",
     "output_type": "stream",
     "text": [
      "The Maximum Price of Diesel Type\t35.0L\n",
      "The Minimum Price of Diesel Type\t3.1L\n"
     ]
    }
   ],
   "source": [
    "#Checking the selling prices of fuel_type cars\n",
    "print(f'The Maximum Price of Diesel Type\\t{df[df[\"Fuel_Type\"]== \"Diesel\"].Selling_Price.max()}L\\nThe Minimum Price of Diesel Type\\t{df[df[\"Fuel_Type\"]== \"Diesel\"].Selling_Price.min()}L')"
   ]
  },
  {
   "cell_type": "code",
   "execution_count": 13,
   "metadata": {},
   "outputs": [
    {
     "name": "stdout",
     "output_type": "stream",
     "text": [
      "The Maximum Price of CNG Type\t3.25L\n",
      "The Minimum Price of CNG Type\t2.95L\n"
     ]
    }
   ],
   "source": [
    "#Checking the selling prices of fuel_type cars\n",
    "print(f'The Maximum Price of CNG Type\\t{df[df[\"Fuel_Type\"]== \"CNG\"].Selling_Price.max()}L\\nThe Minimum Price of CNG Type\\t{df[df[\"Fuel_Type\"]== \"CNG\"].Selling_Price.min()}L')"
   ]
  },
  {
   "cell_type": "code",
   "execution_count": 14,
   "metadata": {},
   "outputs": [
    {
     "data": {
      "text/plain": [
       "[239, 60, 2]"
      ]
     },
     "execution_count": 14,
     "metadata": {},
     "output_type": "execute_result"
    }
   ],
   "source": [
    "list(df[\"Fuel_Type\"].value_counts())"
   ]
  },
  {
   "cell_type": "code",
   "execution_count": 15,
   "metadata": {},
   "outputs": [
    {
     "data": {
      "application/vnd.plotly.v1+json": {
       "config": {
        "plotlyServerURL": "https://plot.ly"
       },
       "data": [
        {
         "alignmentgroup": "True",
         "hovertemplate": "Fuel_Type=%{x}<br>count=%{y}<extra></extra>",
         "legendgroup": "Petrol",
         "marker": {
          "color": "#636efa"
         },
         "name": "Petrol",
         "offsetgroup": "Petrol",
         "orientation": "v",
         "showlegend": true,
         "textposition": "auto",
         "type": "bar",
         "x": [
          "Petrol",
          "Petrol",
          "Petrol",
          "Petrol",
          "Petrol",
          "Petrol",
          "Petrol",
          "Petrol",
          "Petrol",
          "Petrol",
          "Petrol",
          "Petrol",
          "Petrol",
          "Petrol",
          "Petrol",
          "Petrol",
          "Petrol",
          "Petrol",
          "Petrol",
          "Petrol",
          "Petrol",
          "Petrol",
          "Petrol",
          "Petrol",
          "Petrol",
          "Petrol",
          "Petrol",
          "Petrol",
          "Petrol",
          "Petrol",
          "Petrol",
          "Petrol",
          "Petrol",
          "Petrol",
          "Petrol",
          "Petrol",
          "Petrol",
          "Petrol",
          "Petrol",
          "Petrol",
          "Petrol",
          "Petrol",
          "Petrol",
          "Petrol",
          "Petrol",
          "Petrol",
          "Petrol",
          "Petrol",
          "Petrol",
          "Petrol",
          "Petrol",
          "Petrol",
          "Petrol",
          "Petrol",
          "Petrol",
          "Petrol",
          "Petrol",
          "Petrol",
          "Petrol",
          "Petrol",
          "Petrol",
          "Petrol",
          "Petrol",
          "Petrol",
          "Petrol",
          "Petrol",
          "Petrol",
          "Petrol",
          "Petrol",
          "Petrol",
          "Petrol",
          "Petrol",
          "Petrol",
          "Petrol",
          "Petrol",
          "Petrol",
          "Petrol",
          "Petrol",
          "Petrol",
          "Petrol",
          "Petrol",
          "Petrol",
          "Petrol",
          "Petrol",
          "Petrol",
          "Petrol",
          "Petrol",
          "Petrol",
          "Petrol",
          "Petrol",
          "Petrol",
          "Petrol",
          "Petrol",
          "Petrol",
          "Petrol",
          "Petrol",
          "Petrol",
          "Petrol",
          "Petrol",
          "Petrol",
          "Petrol",
          "Petrol",
          "Petrol",
          "Petrol",
          "Petrol",
          "Petrol",
          "Petrol",
          "Petrol",
          "Petrol",
          "Petrol",
          "Petrol",
          "Petrol",
          "Petrol",
          "Petrol",
          "Petrol",
          "Petrol",
          "Petrol",
          "Petrol",
          "Petrol",
          "Petrol",
          "Petrol",
          "Petrol",
          "Petrol",
          "Petrol",
          "Petrol",
          "Petrol",
          "Petrol",
          "Petrol",
          "Petrol",
          "Petrol",
          "Petrol",
          "Petrol",
          "Petrol",
          "Petrol",
          "Petrol",
          "Petrol",
          "Petrol",
          "Petrol",
          "Petrol",
          "Petrol",
          "Petrol",
          "Petrol",
          "Petrol",
          "Petrol",
          "Petrol",
          "Petrol",
          "Petrol",
          "Petrol",
          "Petrol",
          "Petrol",
          "Petrol",
          "Petrol",
          "Petrol",
          "Petrol",
          "Petrol",
          "Petrol",
          "Petrol",
          "Petrol",
          "Petrol",
          "Petrol",
          "Petrol",
          "Petrol",
          "Petrol",
          "Petrol",
          "Petrol",
          "Petrol",
          "Petrol",
          "Petrol",
          "Petrol",
          "Petrol",
          "Petrol",
          "Petrol",
          "Petrol",
          "Petrol",
          "Petrol",
          "Petrol",
          "Petrol",
          "Petrol",
          "Petrol",
          "Petrol",
          "Petrol",
          "Petrol",
          "Petrol",
          "Petrol",
          "Petrol",
          "Petrol",
          "Petrol",
          "Petrol",
          "Petrol",
          "Petrol",
          "Petrol",
          "Petrol",
          "Petrol",
          "Petrol",
          "Petrol",
          "Petrol",
          "Petrol",
          "Petrol",
          "Petrol",
          "Petrol",
          "Petrol",
          "Petrol",
          "Petrol",
          "Petrol",
          "Petrol",
          "Petrol",
          "Petrol",
          "Petrol",
          "Petrol",
          "Petrol",
          "Petrol",
          "Petrol",
          "Petrol",
          "Petrol",
          "Petrol",
          "Petrol",
          "Petrol",
          "Petrol",
          "Petrol",
          "Petrol",
          "Petrol",
          "Petrol",
          "Petrol",
          "Petrol",
          "Petrol",
          "Petrol",
          "Petrol",
          "Petrol",
          "Petrol",
          "Petrol",
          "Petrol",
          "Petrol",
          "Petrol",
          "Petrol",
          "Petrol",
          "Petrol",
          "Petrol",
          "Petrol",
          "Petrol"
         ],
         "xaxis": "x",
         "y": [
          1,
          1,
          1,
          1,
          1,
          1,
          1,
          1,
          1,
          1,
          1,
          1,
          1,
          1,
          1,
          1,
          1,
          1,
          1,
          1,
          1,
          1,
          1,
          1,
          1,
          1,
          1,
          1,
          1,
          1,
          1,
          1,
          1,
          1,
          1,
          1,
          1,
          1,
          1,
          1,
          1,
          1,
          1,
          1,
          1,
          1,
          1,
          1,
          1,
          1,
          1,
          1,
          1,
          1,
          1,
          1,
          1,
          1,
          1,
          1,
          1,
          1,
          1,
          1,
          1,
          1,
          1,
          1,
          1,
          1,
          1,
          1,
          1,
          1,
          1,
          1,
          1,
          1,
          1,
          1,
          1,
          1,
          1,
          1,
          1,
          1,
          1,
          1,
          1,
          1,
          1,
          1,
          1,
          1,
          1,
          1,
          1,
          1,
          1,
          1,
          1,
          1,
          1,
          1,
          1,
          1,
          1,
          1,
          1,
          1,
          1,
          1,
          1,
          1,
          1,
          1,
          1,
          1,
          1,
          1,
          1,
          1,
          1,
          1,
          1,
          1,
          1,
          1,
          1,
          1,
          1,
          1,
          1,
          1,
          1,
          1,
          1,
          1,
          1,
          1,
          1,
          1,
          1,
          1,
          1,
          1,
          1,
          1,
          1,
          1,
          1,
          1,
          1,
          1,
          1,
          1,
          1,
          1,
          1,
          1,
          1,
          1,
          1,
          1,
          1,
          1,
          1,
          1,
          1,
          1,
          1,
          1,
          1,
          1,
          1,
          1,
          1,
          1,
          1,
          1,
          1,
          1,
          1,
          1,
          1,
          1,
          1,
          1,
          1,
          1,
          1,
          1,
          1,
          1,
          1,
          1,
          1,
          1,
          1,
          1,
          1,
          1,
          1,
          1,
          1,
          1,
          1,
          1,
          1,
          1,
          1,
          1,
          1,
          1,
          1,
          1,
          1,
          1,
          1,
          1,
          1,
          1,
          1,
          1,
          1,
          1,
          1,
          1,
          1,
          1,
          1,
          1,
          1,
          1,
          1,
          1,
          1,
          1,
          1
         ],
         "yaxis": "y"
        },
        {
         "alignmentgroup": "True",
         "hovertemplate": "Fuel_Type=%{x}<br>count=%{y}<extra></extra>",
         "legendgroup": "Diesel",
         "marker": {
          "color": "#EF553B"
         },
         "name": "Diesel",
         "offsetgroup": "Diesel",
         "orientation": "v",
         "showlegend": true,
         "textposition": "auto",
         "type": "bar",
         "x": [
          "Diesel",
          "Diesel",
          "Diesel",
          "Diesel",
          "Diesel",
          "Diesel",
          "Diesel",
          "Diesel",
          "Diesel",
          "Diesel",
          "Diesel",
          "Diesel",
          "Diesel",
          "Diesel",
          "Diesel",
          "Diesel",
          "Diesel",
          "Diesel",
          "Diesel",
          "Diesel",
          "Diesel",
          "Diesel",
          "Diesel",
          "Diesel",
          "Diesel",
          "Diesel",
          "Diesel",
          "Diesel",
          "Diesel",
          "Diesel",
          "Diesel",
          "Diesel",
          "Diesel",
          "Diesel",
          "Diesel",
          "Diesel",
          "Diesel",
          "Diesel",
          "Diesel",
          "Diesel",
          "Diesel",
          "Diesel",
          "Diesel",
          "Diesel",
          "Diesel",
          "Diesel",
          "Diesel",
          "Diesel",
          "Diesel",
          "Diesel",
          "Diesel",
          "Diesel",
          "Diesel",
          "Diesel",
          "Diesel",
          "Diesel",
          "Diesel",
          "Diesel",
          "Diesel",
          "Diesel"
         ],
         "xaxis": "x",
         "y": [
          1,
          1,
          1,
          1,
          1,
          1,
          1,
          1,
          1,
          1,
          1,
          1,
          1,
          1,
          1,
          1,
          1,
          1,
          1,
          1,
          1,
          1,
          1,
          1,
          1,
          1,
          1,
          1,
          1,
          1,
          1,
          1,
          1,
          1,
          1,
          1,
          1,
          1,
          1,
          1,
          1,
          1,
          1,
          1,
          1,
          1,
          1,
          1,
          1,
          1,
          1,
          1,
          1,
          1,
          1,
          1,
          1,
          1,
          1,
          1
         ],
         "yaxis": "y"
        },
        {
         "alignmentgroup": "True",
         "hovertemplate": "Fuel_Type=%{x}<br>count=%{y}<extra></extra>",
         "legendgroup": "CNG",
         "marker": {
          "color": "#00cc96"
         },
         "name": "CNG",
         "offsetgroup": "CNG",
         "orientation": "v",
         "showlegend": true,
         "textposition": "auto",
         "type": "bar",
         "x": [
          "CNG",
          "CNG"
         ],
         "xaxis": "x",
         "y": [
          1,
          1
         ],
         "yaxis": "y"
        }
       ],
       "layout": {
        "barmode": "relative",
        "legend": {
         "title": {
          "text": "Fuel_Type"
         },
         "tracegroupgap": 0
        },
        "template": {
         "data": {
          "bar": [
           {
            "error_x": {
             "color": "#2a3f5f"
            },
            "error_y": {
             "color": "#2a3f5f"
            },
            "marker": {
             "line": {
              "color": "#E5ECF6",
              "width": 0.5
             }
            },
            "type": "bar"
           }
          ],
          "barpolar": [
           {
            "marker": {
             "line": {
              "color": "#E5ECF6",
              "width": 0.5
             }
            },
            "type": "barpolar"
           }
          ],
          "carpet": [
           {
            "aaxis": {
             "endlinecolor": "#2a3f5f",
             "gridcolor": "white",
             "linecolor": "white",
             "minorgridcolor": "white",
             "startlinecolor": "#2a3f5f"
            },
            "baxis": {
             "endlinecolor": "#2a3f5f",
             "gridcolor": "white",
             "linecolor": "white",
             "minorgridcolor": "white",
             "startlinecolor": "#2a3f5f"
            },
            "type": "carpet"
           }
          ],
          "choropleth": [
           {
            "colorbar": {
             "outlinewidth": 0,
             "ticks": ""
            },
            "type": "choropleth"
           }
          ],
          "contour": [
           {
            "colorbar": {
             "outlinewidth": 0,
             "ticks": ""
            },
            "colorscale": [
             [
              0,
              "#0d0887"
             ],
             [
              0.1111111111111111,
              "#46039f"
             ],
             [
              0.2222222222222222,
              "#7201a8"
             ],
             [
              0.3333333333333333,
              "#9c179e"
             ],
             [
              0.4444444444444444,
              "#bd3786"
             ],
             [
              0.5555555555555556,
              "#d8576b"
             ],
             [
              0.6666666666666666,
              "#ed7953"
             ],
             [
              0.7777777777777778,
              "#fb9f3a"
             ],
             [
              0.8888888888888888,
              "#fdca26"
             ],
             [
              1,
              "#f0f921"
             ]
            ],
            "type": "contour"
           }
          ],
          "contourcarpet": [
           {
            "colorbar": {
             "outlinewidth": 0,
             "ticks": ""
            },
            "type": "contourcarpet"
           }
          ],
          "heatmap": [
           {
            "colorbar": {
             "outlinewidth": 0,
             "ticks": ""
            },
            "colorscale": [
             [
              0,
              "#0d0887"
             ],
             [
              0.1111111111111111,
              "#46039f"
             ],
             [
              0.2222222222222222,
              "#7201a8"
             ],
             [
              0.3333333333333333,
              "#9c179e"
             ],
             [
              0.4444444444444444,
              "#bd3786"
             ],
             [
              0.5555555555555556,
              "#d8576b"
             ],
             [
              0.6666666666666666,
              "#ed7953"
             ],
             [
              0.7777777777777778,
              "#fb9f3a"
             ],
             [
              0.8888888888888888,
              "#fdca26"
             ],
             [
              1,
              "#f0f921"
             ]
            ],
            "type": "heatmap"
           }
          ],
          "heatmapgl": [
           {
            "colorbar": {
             "outlinewidth": 0,
             "ticks": ""
            },
            "colorscale": [
             [
              0,
              "#0d0887"
             ],
             [
              0.1111111111111111,
              "#46039f"
             ],
             [
              0.2222222222222222,
              "#7201a8"
             ],
             [
              0.3333333333333333,
              "#9c179e"
             ],
             [
              0.4444444444444444,
              "#bd3786"
             ],
             [
              0.5555555555555556,
              "#d8576b"
             ],
             [
              0.6666666666666666,
              "#ed7953"
             ],
             [
              0.7777777777777778,
              "#fb9f3a"
             ],
             [
              0.8888888888888888,
              "#fdca26"
             ],
             [
              1,
              "#f0f921"
             ]
            ],
            "type": "heatmapgl"
           }
          ],
          "histogram": [
           {
            "marker": {
             "colorbar": {
              "outlinewidth": 0,
              "ticks": ""
             }
            },
            "type": "histogram"
           }
          ],
          "histogram2d": [
           {
            "colorbar": {
             "outlinewidth": 0,
             "ticks": ""
            },
            "colorscale": [
             [
              0,
              "#0d0887"
             ],
             [
              0.1111111111111111,
              "#46039f"
             ],
             [
              0.2222222222222222,
              "#7201a8"
             ],
             [
              0.3333333333333333,
              "#9c179e"
             ],
             [
              0.4444444444444444,
              "#bd3786"
             ],
             [
              0.5555555555555556,
              "#d8576b"
             ],
             [
              0.6666666666666666,
              "#ed7953"
             ],
             [
              0.7777777777777778,
              "#fb9f3a"
             ],
             [
              0.8888888888888888,
              "#fdca26"
             ],
             [
              1,
              "#f0f921"
             ]
            ],
            "type": "histogram2d"
           }
          ],
          "histogram2dcontour": [
           {
            "colorbar": {
             "outlinewidth": 0,
             "ticks": ""
            },
            "colorscale": [
             [
              0,
              "#0d0887"
             ],
             [
              0.1111111111111111,
              "#46039f"
             ],
             [
              0.2222222222222222,
              "#7201a8"
             ],
             [
              0.3333333333333333,
              "#9c179e"
             ],
             [
              0.4444444444444444,
              "#bd3786"
             ],
             [
              0.5555555555555556,
              "#d8576b"
             ],
             [
              0.6666666666666666,
              "#ed7953"
             ],
             [
              0.7777777777777778,
              "#fb9f3a"
             ],
             [
              0.8888888888888888,
              "#fdca26"
             ],
             [
              1,
              "#f0f921"
             ]
            ],
            "type": "histogram2dcontour"
           }
          ],
          "mesh3d": [
           {
            "colorbar": {
             "outlinewidth": 0,
             "ticks": ""
            },
            "type": "mesh3d"
           }
          ],
          "parcoords": [
           {
            "line": {
             "colorbar": {
              "outlinewidth": 0,
              "ticks": ""
             }
            },
            "type": "parcoords"
           }
          ],
          "pie": [
           {
            "automargin": true,
            "type": "pie"
           }
          ],
          "scatter": [
           {
            "marker": {
             "colorbar": {
              "outlinewidth": 0,
              "ticks": ""
             }
            },
            "type": "scatter"
           }
          ],
          "scatter3d": [
           {
            "line": {
             "colorbar": {
              "outlinewidth": 0,
              "ticks": ""
             }
            },
            "marker": {
             "colorbar": {
              "outlinewidth": 0,
              "ticks": ""
             }
            },
            "type": "scatter3d"
           }
          ],
          "scattercarpet": [
           {
            "marker": {
             "colorbar": {
              "outlinewidth": 0,
              "ticks": ""
             }
            },
            "type": "scattercarpet"
           }
          ],
          "scattergeo": [
           {
            "marker": {
             "colorbar": {
              "outlinewidth": 0,
              "ticks": ""
             }
            },
            "type": "scattergeo"
           }
          ],
          "scattergl": [
           {
            "marker": {
             "colorbar": {
              "outlinewidth": 0,
              "ticks": ""
             }
            },
            "type": "scattergl"
           }
          ],
          "scattermapbox": [
           {
            "marker": {
             "colorbar": {
              "outlinewidth": 0,
              "ticks": ""
             }
            },
            "type": "scattermapbox"
           }
          ],
          "scatterpolar": [
           {
            "marker": {
             "colorbar": {
              "outlinewidth": 0,
              "ticks": ""
             }
            },
            "type": "scatterpolar"
           }
          ],
          "scatterpolargl": [
           {
            "marker": {
             "colorbar": {
              "outlinewidth": 0,
              "ticks": ""
             }
            },
            "type": "scatterpolargl"
           }
          ],
          "scatterternary": [
           {
            "marker": {
             "colorbar": {
              "outlinewidth": 0,
              "ticks": ""
             }
            },
            "type": "scatterternary"
           }
          ],
          "surface": [
           {
            "colorbar": {
             "outlinewidth": 0,
             "ticks": ""
            },
            "colorscale": [
             [
              0,
              "#0d0887"
             ],
             [
              0.1111111111111111,
              "#46039f"
             ],
             [
              0.2222222222222222,
              "#7201a8"
             ],
             [
              0.3333333333333333,
              "#9c179e"
             ],
             [
              0.4444444444444444,
              "#bd3786"
             ],
             [
              0.5555555555555556,
              "#d8576b"
             ],
             [
              0.6666666666666666,
              "#ed7953"
             ],
             [
              0.7777777777777778,
              "#fb9f3a"
             ],
             [
              0.8888888888888888,
              "#fdca26"
             ],
             [
              1,
              "#f0f921"
             ]
            ],
            "type": "surface"
           }
          ],
          "table": [
           {
            "cells": {
             "fill": {
              "color": "#EBF0F8"
             },
             "line": {
              "color": "white"
             }
            },
            "header": {
             "fill": {
              "color": "#C8D4E3"
             },
             "line": {
              "color": "white"
             }
            },
            "type": "table"
           }
          ]
         },
         "layout": {
          "annotationdefaults": {
           "arrowcolor": "#2a3f5f",
           "arrowhead": 0,
           "arrowwidth": 1
          },
          "coloraxis": {
           "colorbar": {
            "outlinewidth": 0,
            "ticks": ""
           }
          },
          "colorscale": {
           "diverging": [
            [
             0,
             "#8e0152"
            ],
            [
             0.1,
             "#c51b7d"
            ],
            [
             0.2,
             "#de77ae"
            ],
            [
             0.3,
             "#f1b6da"
            ],
            [
             0.4,
             "#fde0ef"
            ],
            [
             0.5,
             "#f7f7f7"
            ],
            [
             0.6,
             "#e6f5d0"
            ],
            [
             0.7,
             "#b8e186"
            ],
            [
             0.8,
             "#7fbc41"
            ],
            [
             0.9,
             "#4d9221"
            ],
            [
             1,
             "#276419"
            ]
           ],
           "sequential": [
            [
             0,
             "#0d0887"
            ],
            [
             0.1111111111111111,
             "#46039f"
            ],
            [
             0.2222222222222222,
             "#7201a8"
            ],
            [
             0.3333333333333333,
             "#9c179e"
            ],
            [
             0.4444444444444444,
             "#bd3786"
            ],
            [
             0.5555555555555556,
             "#d8576b"
            ],
            [
             0.6666666666666666,
             "#ed7953"
            ],
            [
             0.7777777777777778,
             "#fb9f3a"
            ],
            [
             0.8888888888888888,
             "#fdca26"
            ],
            [
             1,
             "#f0f921"
            ]
           ],
           "sequentialminus": [
            [
             0,
             "#0d0887"
            ],
            [
             0.1111111111111111,
             "#46039f"
            ],
            [
             0.2222222222222222,
             "#7201a8"
            ],
            [
             0.3333333333333333,
             "#9c179e"
            ],
            [
             0.4444444444444444,
             "#bd3786"
            ],
            [
             0.5555555555555556,
             "#d8576b"
            ],
            [
             0.6666666666666666,
             "#ed7953"
            ],
            [
             0.7777777777777778,
             "#fb9f3a"
            ],
            [
             0.8888888888888888,
             "#fdca26"
            ],
            [
             1,
             "#f0f921"
            ]
           ]
          },
          "colorway": [
           "#636efa",
           "#EF553B",
           "#00cc96",
           "#ab63fa",
           "#FFA15A",
           "#19d3f3",
           "#FF6692",
           "#B6E880",
           "#FF97FF",
           "#FECB52"
          ],
          "font": {
           "color": "#2a3f5f"
          },
          "geo": {
           "bgcolor": "white",
           "lakecolor": "white",
           "landcolor": "#E5ECF6",
           "showlakes": true,
           "showland": true,
           "subunitcolor": "white"
          },
          "hoverlabel": {
           "align": "left"
          },
          "hovermode": "closest",
          "mapbox": {
           "style": "light"
          },
          "paper_bgcolor": "white",
          "plot_bgcolor": "#E5ECF6",
          "polar": {
           "angularaxis": {
            "gridcolor": "white",
            "linecolor": "white",
            "ticks": ""
           },
           "bgcolor": "#E5ECF6",
           "radialaxis": {
            "gridcolor": "white",
            "linecolor": "white",
            "ticks": ""
           }
          },
          "scene": {
           "xaxis": {
            "backgroundcolor": "#E5ECF6",
            "gridcolor": "white",
            "gridwidth": 2,
            "linecolor": "white",
            "showbackground": true,
            "ticks": "",
            "zerolinecolor": "white"
           },
           "yaxis": {
            "backgroundcolor": "#E5ECF6",
            "gridcolor": "white",
            "gridwidth": 2,
            "linecolor": "white",
            "showbackground": true,
            "ticks": "",
            "zerolinecolor": "white"
           },
           "zaxis": {
            "backgroundcolor": "#E5ECF6",
            "gridcolor": "white",
            "gridwidth": 2,
            "linecolor": "white",
            "showbackground": true,
            "ticks": "",
            "zerolinecolor": "white"
           }
          },
          "shapedefaults": {
           "line": {
            "color": "#2a3f5f"
           }
          },
          "ternary": {
           "aaxis": {
            "gridcolor": "white",
            "linecolor": "white",
            "ticks": ""
           },
           "baxis": {
            "gridcolor": "white",
            "linecolor": "white",
            "ticks": ""
           },
           "bgcolor": "#E5ECF6",
           "caxis": {
            "gridcolor": "white",
            "linecolor": "white",
            "ticks": ""
           }
          },
          "title": {
           "x": 0.05
          },
          "xaxis": {
           "automargin": true,
           "gridcolor": "white",
           "linecolor": "white",
           "ticks": "",
           "title": {
            "standoff": 15
           },
           "zerolinecolor": "white",
           "zerolinewidth": 2
          },
          "yaxis": {
           "automargin": true,
           "gridcolor": "white",
           "linecolor": "white",
           "ticks": "",
           "title": {
            "standoff": 15
           },
           "zerolinecolor": "white",
           "zerolinewidth": 2
          }
         }
        },
        "title": {
         "text": "No. of Fuel_Type cars sold"
        },
        "xaxis": {
         "anchor": "y",
         "categoryarray": [
          "Petrol",
          "Diesel",
          "CNG"
         ],
         "categoryorder": "array",
         "domain": [
          0,
          1
         ],
         "title": {
          "text": "Fuel_Type"
         }
        },
        "yaxis": {
         "anchor": "x",
         "domain": [
          0,
          1
         ],
         "title": {
          "text": "count"
         }
        }
       }
      },
      "text/html": [
       "<div>\n",
       "        \n",
       "        \n",
       "            <div id=\"dd0773e1-287d-4772-97d8-6f8a7563ec59\" class=\"plotly-graph-div\" style=\"height:525px; width:100%;\"></div>\n",
       "            <script type=\"text/javascript\">\n",
       "                require([\"plotly\"], function(Plotly) {\n",
       "                    window.PLOTLYENV=window.PLOTLYENV || {};\n",
       "                    \n",
       "                if (document.getElementById(\"dd0773e1-287d-4772-97d8-6f8a7563ec59\")) {\n",
       "                    Plotly.newPlot(\n",
       "                        'dd0773e1-287d-4772-97d8-6f8a7563ec59',\n",
       "                        [{\"alignmentgroup\": \"True\", \"hovertemplate\": \"Fuel_Type=%{x}<br>count=%{y}<extra></extra>\", \"legendgroup\": \"Petrol\", \"marker\": {\"color\": \"#636efa\"}, \"name\": \"Petrol\", \"offsetgroup\": \"Petrol\", \"orientation\": \"v\", \"showlegend\": true, \"textposition\": \"auto\", \"type\": \"bar\", \"x\": [\"Petrol\", \"Petrol\", \"Petrol\", \"Petrol\", \"Petrol\", \"Petrol\", \"Petrol\", \"Petrol\", \"Petrol\", \"Petrol\", \"Petrol\", \"Petrol\", \"Petrol\", \"Petrol\", \"Petrol\", \"Petrol\", \"Petrol\", \"Petrol\", \"Petrol\", \"Petrol\", \"Petrol\", \"Petrol\", \"Petrol\", \"Petrol\", \"Petrol\", \"Petrol\", \"Petrol\", \"Petrol\", \"Petrol\", \"Petrol\", \"Petrol\", \"Petrol\", \"Petrol\", \"Petrol\", \"Petrol\", \"Petrol\", \"Petrol\", \"Petrol\", \"Petrol\", \"Petrol\", \"Petrol\", \"Petrol\", \"Petrol\", \"Petrol\", \"Petrol\", \"Petrol\", \"Petrol\", \"Petrol\", \"Petrol\", \"Petrol\", \"Petrol\", \"Petrol\", \"Petrol\", \"Petrol\", \"Petrol\", \"Petrol\", \"Petrol\", \"Petrol\", \"Petrol\", \"Petrol\", \"Petrol\", \"Petrol\", \"Petrol\", \"Petrol\", \"Petrol\", \"Petrol\", \"Petrol\", \"Petrol\", \"Petrol\", \"Petrol\", \"Petrol\", \"Petrol\", \"Petrol\", \"Petrol\", \"Petrol\", \"Petrol\", \"Petrol\", \"Petrol\", \"Petrol\", \"Petrol\", \"Petrol\", \"Petrol\", \"Petrol\", \"Petrol\", \"Petrol\", \"Petrol\", \"Petrol\", \"Petrol\", \"Petrol\", \"Petrol\", \"Petrol\", \"Petrol\", \"Petrol\", \"Petrol\", \"Petrol\", \"Petrol\", \"Petrol\", \"Petrol\", \"Petrol\", \"Petrol\", \"Petrol\", \"Petrol\", \"Petrol\", \"Petrol\", \"Petrol\", \"Petrol\", \"Petrol\", \"Petrol\", \"Petrol\", \"Petrol\", \"Petrol\", \"Petrol\", \"Petrol\", \"Petrol\", \"Petrol\", \"Petrol\", \"Petrol\", \"Petrol\", \"Petrol\", \"Petrol\", \"Petrol\", \"Petrol\", \"Petrol\", \"Petrol\", \"Petrol\", \"Petrol\", \"Petrol\", \"Petrol\", \"Petrol\", \"Petrol\", \"Petrol\", \"Petrol\", \"Petrol\", \"Petrol\", \"Petrol\", \"Petrol\", \"Petrol\", \"Petrol\", \"Petrol\", \"Petrol\", \"Petrol\", \"Petrol\", \"Petrol\", \"Petrol\", \"Petrol\", \"Petrol\", \"Petrol\", \"Petrol\", \"Petrol\", \"Petrol\", \"Petrol\", \"Petrol\", \"Petrol\", \"Petrol\", \"Petrol\", \"Petrol\", \"Petrol\", \"Petrol\", \"Petrol\", \"Petrol\", \"Petrol\", \"Petrol\", \"Petrol\", \"Petrol\", \"Petrol\", \"Petrol\", \"Petrol\", \"Petrol\", \"Petrol\", \"Petrol\", \"Petrol\", \"Petrol\", \"Petrol\", \"Petrol\", \"Petrol\", \"Petrol\", \"Petrol\", \"Petrol\", \"Petrol\", \"Petrol\", \"Petrol\", \"Petrol\", \"Petrol\", \"Petrol\", \"Petrol\", \"Petrol\", \"Petrol\", \"Petrol\", \"Petrol\", \"Petrol\", \"Petrol\", \"Petrol\", \"Petrol\", \"Petrol\", \"Petrol\", \"Petrol\", \"Petrol\", \"Petrol\", \"Petrol\", \"Petrol\", \"Petrol\", \"Petrol\", \"Petrol\", \"Petrol\", \"Petrol\", \"Petrol\", \"Petrol\", \"Petrol\", \"Petrol\", \"Petrol\", \"Petrol\", \"Petrol\", \"Petrol\", \"Petrol\", \"Petrol\", \"Petrol\", \"Petrol\", \"Petrol\", \"Petrol\", \"Petrol\", \"Petrol\", \"Petrol\", \"Petrol\", \"Petrol\", \"Petrol\", \"Petrol\", \"Petrol\", \"Petrol\", \"Petrol\", \"Petrol\", \"Petrol\", \"Petrol\", \"Petrol\", \"Petrol\", \"Petrol\", \"Petrol\", \"Petrol\", \"Petrol\", \"Petrol\"], \"xaxis\": \"x\", \"y\": [1, 1, 1, 1, 1, 1, 1, 1, 1, 1, 1, 1, 1, 1, 1, 1, 1, 1, 1, 1, 1, 1, 1, 1, 1, 1, 1, 1, 1, 1, 1, 1, 1, 1, 1, 1, 1, 1, 1, 1, 1, 1, 1, 1, 1, 1, 1, 1, 1, 1, 1, 1, 1, 1, 1, 1, 1, 1, 1, 1, 1, 1, 1, 1, 1, 1, 1, 1, 1, 1, 1, 1, 1, 1, 1, 1, 1, 1, 1, 1, 1, 1, 1, 1, 1, 1, 1, 1, 1, 1, 1, 1, 1, 1, 1, 1, 1, 1, 1, 1, 1, 1, 1, 1, 1, 1, 1, 1, 1, 1, 1, 1, 1, 1, 1, 1, 1, 1, 1, 1, 1, 1, 1, 1, 1, 1, 1, 1, 1, 1, 1, 1, 1, 1, 1, 1, 1, 1, 1, 1, 1, 1, 1, 1, 1, 1, 1, 1, 1, 1, 1, 1, 1, 1, 1, 1, 1, 1, 1, 1, 1, 1, 1, 1, 1, 1, 1, 1, 1, 1, 1, 1, 1, 1, 1, 1, 1, 1, 1, 1, 1, 1, 1, 1, 1, 1, 1, 1, 1, 1, 1, 1, 1, 1, 1, 1, 1, 1, 1, 1, 1, 1, 1, 1, 1, 1, 1, 1, 1, 1, 1, 1, 1, 1, 1, 1, 1, 1, 1, 1, 1, 1, 1, 1, 1, 1, 1, 1, 1, 1, 1, 1, 1, 1, 1, 1, 1, 1, 1], \"yaxis\": \"y\"}, {\"alignmentgroup\": \"True\", \"hovertemplate\": \"Fuel_Type=%{x}<br>count=%{y}<extra></extra>\", \"legendgroup\": \"Diesel\", \"marker\": {\"color\": \"#EF553B\"}, \"name\": \"Diesel\", \"offsetgroup\": \"Diesel\", \"orientation\": \"v\", \"showlegend\": true, \"textposition\": \"auto\", \"type\": \"bar\", \"x\": [\"Diesel\", \"Diesel\", \"Diesel\", \"Diesel\", \"Diesel\", \"Diesel\", \"Diesel\", \"Diesel\", \"Diesel\", \"Diesel\", \"Diesel\", \"Diesel\", \"Diesel\", \"Diesel\", \"Diesel\", \"Diesel\", \"Diesel\", \"Diesel\", \"Diesel\", \"Diesel\", \"Diesel\", \"Diesel\", \"Diesel\", \"Diesel\", \"Diesel\", \"Diesel\", \"Diesel\", \"Diesel\", \"Diesel\", \"Diesel\", \"Diesel\", \"Diesel\", \"Diesel\", \"Diesel\", \"Diesel\", \"Diesel\", \"Diesel\", \"Diesel\", \"Diesel\", \"Diesel\", \"Diesel\", \"Diesel\", \"Diesel\", \"Diesel\", \"Diesel\", \"Diesel\", \"Diesel\", \"Diesel\", \"Diesel\", \"Diesel\", \"Diesel\", \"Diesel\", \"Diesel\", \"Diesel\", \"Diesel\", \"Diesel\", \"Diesel\", \"Diesel\", \"Diesel\", \"Diesel\"], \"xaxis\": \"x\", \"y\": [1, 1, 1, 1, 1, 1, 1, 1, 1, 1, 1, 1, 1, 1, 1, 1, 1, 1, 1, 1, 1, 1, 1, 1, 1, 1, 1, 1, 1, 1, 1, 1, 1, 1, 1, 1, 1, 1, 1, 1, 1, 1, 1, 1, 1, 1, 1, 1, 1, 1, 1, 1, 1, 1, 1, 1, 1, 1, 1, 1], \"yaxis\": \"y\"}, {\"alignmentgroup\": \"True\", \"hovertemplate\": \"Fuel_Type=%{x}<br>count=%{y}<extra></extra>\", \"legendgroup\": \"CNG\", \"marker\": {\"color\": \"#00cc96\"}, \"name\": \"CNG\", \"offsetgroup\": \"CNG\", \"orientation\": \"v\", \"showlegend\": true, \"textposition\": \"auto\", \"type\": \"bar\", \"x\": [\"CNG\", \"CNG\"], \"xaxis\": \"x\", \"y\": [1, 1], \"yaxis\": \"y\"}],\n",
       "                        {\"barmode\": \"relative\", \"legend\": {\"title\": {\"text\": \"Fuel_Type\"}, \"tracegroupgap\": 0}, \"template\": {\"data\": {\"bar\": [{\"error_x\": {\"color\": \"#2a3f5f\"}, \"error_y\": {\"color\": \"#2a3f5f\"}, \"marker\": {\"line\": {\"color\": \"#E5ECF6\", \"width\": 0.5}}, \"type\": \"bar\"}], \"barpolar\": [{\"marker\": {\"line\": {\"color\": \"#E5ECF6\", \"width\": 0.5}}, \"type\": \"barpolar\"}], \"carpet\": [{\"aaxis\": {\"endlinecolor\": \"#2a3f5f\", \"gridcolor\": \"white\", \"linecolor\": \"white\", \"minorgridcolor\": \"white\", \"startlinecolor\": \"#2a3f5f\"}, \"baxis\": {\"endlinecolor\": \"#2a3f5f\", \"gridcolor\": \"white\", \"linecolor\": \"white\", \"minorgridcolor\": \"white\", \"startlinecolor\": \"#2a3f5f\"}, \"type\": \"carpet\"}], \"choropleth\": [{\"colorbar\": {\"outlinewidth\": 0, \"ticks\": \"\"}, \"type\": \"choropleth\"}], \"contour\": [{\"colorbar\": {\"outlinewidth\": 0, \"ticks\": \"\"}, \"colorscale\": [[0.0, \"#0d0887\"], [0.1111111111111111, \"#46039f\"], [0.2222222222222222, \"#7201a8\"], [0.3333333333333333, \"#9c179e\"], [0.4444444444444444, \"#bd3786\"], [0.5555555555555556, \"#d8576b\"], [0.6666666666666666, \"#ed7953\"], [0.7777777777777778, \"#fb9f3a\"], [0.8888888888888888, \"#fdca26\"], [1.0, \"#f0f921\"]], \"type\": \"contour\"}], \"contourcarpet\": [{\"colorbar\": {\"outlinewidth\": 0, \"ticks\": \"\"}, \"type\": \"contourcarpet\"}], \"heatmap\": [{\"colorbar\": {\"outlinewidth\": 0, \"ticks\": \"\"}, \"colorscale\": [[0.0, \"#0d0887\"], [0.1111111111111111, \"#46039f\"], [0.2222222222222222, \"#7201a8\"], [0.3333333333333333, \"#9c179e\"], [0.4444444444444444, \"#bd3786\"], [0.5555555555555556, \"#d8576b\"], [0.6666666666666666, \"#ed7953\"], [0.7777777777777778, \"#fb9f3a\"], [0.8888888888888888, \"#fdca26\"], [1.0, \"#f0f921\"]], \"type\": \"heatmap\"}], \"heatmapgl\": [{\"colorbar\": {\"outlinewidth\": 0, \"ticks\": \"\"}, \"colorscale\": [[0.0, \"#0d0887\"], [0.1111111111111111, \"#46039f\"], [0.2222222222222222, \"#7201a8\"], [0.3333333333333333, \"#9c179e\"], [0.4444444444444444, \"#bd3786\"], [0.5555555555555556, \"#d8576b\"], [0.6666666666666666, \"#ed7953\"], [0.7777777777777778, \"#fb9f3a\"], [0.8888888888888888, \"#fdca26\"], [1.0, \"#f0f921\"]], \"type\": \"heatmapgl\"}], \"histogram\": [{\"marker\": {\"colorbar\": {\"outlinewidth\": 0, \"ticks\": \"\"}}, \"type\": \"histogram\"}], \"histogram2d\": [{\"colorbar\": {\"outlinewidth\": 0, \"ticks\": \"\"}, \"colorscale\": [[0.0, \"#0d0887\"], [0.1111111111111111, \"#46039f\"], [0.2222222222222222, \"#7201a8\"], [0.3333333333333333, \"#9c179e\"], [0.4444444444444444, \"#bd3786\"], [0.5555555555555556, \"#d8576b\"], [0.6666666666666666, \"#ed7953\"], [0.7777777777777778, \"#fb9f3a\"], [0.8888888888888888, \"#fdca26\"], [1.0, \"#f0f921\"]], \"type\": \"histogram2d\"}], \"histogram2dcontour\": [{\"colorbar\": {\"outlinewidth\": 0, \"ticks\": \"\"}, \"colorscale\": [[0.0, \"#0d0887\"], [0.1111111111111111, \"#46039f\"], [0.2222222222222222, \"#7201a8\"], [0.3333333333333333, \"#9c179e\"], [0.4444444444444444, \"#bd3786\"], [0.5555555555555556, \"#d8576b\"], [0.6666666666666666, \"#ed7953\"], [0.7777777777777778, \"#fb9f3a\"], [0.8888888888888888, \"#fdca26\"], [1.0, \"#f0f921\"]], \"type\": \"histogram2dcontour\"}], \"mesh3d\": [{\"colorbar\": {\"outlinewidth\": 0, \"ticks\": \"\"}, \"type\": \"mesh3d\"}], \"parcoords\": [{\"line\": {\"colorbar\": {\"outlinewidth\": 0, \"ticks\": \"\"}}, \"type\": \"parcoords\"}], \"pie\": [{\"automargin\": true, \"type\": \"pie\"}], \"scatter\": [{\"marker\": {\"colorbar\": {\"outlinewidth\": 0, \"ticks\": \"\"}}, \"type\": \"scatter\"}], \"scatter3d\": [{\"line\": {\"colorbar\": {\"outlinewidth\": 0, \"ticks\": \"\"}}, \"marker\": {\"colorbar\": {\"outlinewidth\": 0, \"ticks\": \"\"}}, \"type\": \"scatter3d\"}], \"scattercarpet\": [{\"marker\": {\"colorbar\": {\"outlinewidth\": 0, \"ticks\": \"\"}}, \"type\": \"scattercarpet\"}], \"scattergeo\": [{\"marker\": {\"colorbar\": {\"outlinewidth\": 0, \"ticks\": \"\"}}, \"type\": \"scattergeo\"}], \"scattergl\": [{\"marker\": {\"colorbar\": {\"outlinewidth\": 0, \"ticks\": \"\"}}, \"type\": \"scattergl\"}], \"scattermapbox\": [{\"marker\": {\"colorbar\": {\"outlinewidth\": 0, \"ticks\": \"\"}}, \"type\": \"scattermapbox\"}], \"scatterpolar\": [{\"marker\": {\"colorbar\": {\"outlinewidth\": 0, \"ticks\": \"\"}}, \"type\": \"scatterpolar\"}], \"scatterpolargl\": [{\"marker\": {\"colorbar\": {\"outlinewidth\": 0, \"ticks\": \"\"}}, \"type\": \"scatterpolargl\"}], \"scatterternary\": [{\"marker\": {\"colorbar\": {\"outlinewidth\": 0, \"ticks\": \"\"}}, \"type\": \"scatterternary\"}], \"surface\": [{\"colorbar\": {\"outlinewidth\": 0, \"ticks\": \"\"}, \"colorscale\": [[0.0, \"#0d0887\"], [0.1111111111111111, \"#46039f\"], [0.2222222222222222, \"#7201a8\"], [0.3333333333333333, \"#9c179e\"], [0.4444444444444444, \"#bd3786\"], [0.5555555555555556, \"#d8576b\"], [0.6666666666666666, \"#ed7953\"], [0.7777777777777778, \"#fb9f3a\"], [0.8888888888888888, \"#fdca26\"], [1.0, \"#f0f921\"]], \"type\": \"surface\"}], \"table\": [{\"cells\": {\"fill\": {\"color\": \"#EBF0F8\"}, \"line\": {\"color\": \"white\"}}, \"header\": {\"fill\": {\"color\": \"#C8D4E3\"}, \"line\": {\"color\": \"white\"}}, \"type\": \"table\"}]}, \"layout\": {\"annotationdefaults\": {\"arrowcolor\": \"#2a3f5f\", \"arrowhead\": 0, \"arrowwidth\": 1}, \"coloraxis\": {\"colorbar\": {\"outlinewidth\": 0, \"ticks\": \"\"}}, \"colorscale\": {\"diverging\": [[0, \"#8e0152\"], [0.1, \"#c51b7d\"], [0.2, \"#de77ae\"], [0.3, \"#f1b6da\"], [0.4, \"#fde0ef\"], [0.5, \"#f7f7f7\"], [0.6, \"#e6f5d0\"], [0.7, \"#b8e186\"], [0.8, \"#7fbc41\"], [0.9, \"#4d9221\"], [1, \"#276419\"]], \"sequential\": [[0.0, \"#0d0887\"], [0.1111111111111111, \"#46039f\"], [0.2222222222222222, \"#7201a8\"], [0.3333333333333333, \"#9c179e\"], [0.4444444444444444, \"#bd3786\"], [0.5555555555555556, \"#d8576b\"], [0.6666666666666666, \"#ed7953\"], [0.7777777777777778, \"#fb9f3a\"], [0.8888888888888888, \"#fdca26\"], [1.0, \"#f0f921\"]], \"sequentialminus\": [[0.0, \"#0d0887\"], [0.1111111111111111, \"#46039f\"], [0.2222222222222222, \"#7201a8\"], [0.3333333333333333, \"#9c179e\"], [0.4444444444444444, \"#bd3786\"], [0.5555555555555556, \"#d8576b\"], [0.6666666666666666, \"#ed7953\"], [0.7777777777777778, \"#fb9f3a\"], [0.8888888888888888, \"#fdca26\"], [1.0, \"#f0f921\"]]}, \"colorway\": [\"#636efa\", \"#EF553B\", \"#00cc96\", \"#ab63fa\", \"#FFA15A\", \"#19d3f3\", \"#FF6692\", \"#B6E880\", \"#FF97FF\", \"#FECB52\"], \"font\": {\"color\": \"#2a3f5f\"}, \"geo\": {\"bgcolor\": \"white\", \"lakecolor\": \"white\", \"landcolor\": \"#E5ECF6\", \"showlakes\": true, \"showland\": true, \"subunitcolor\": \"white\"}, \"hoverlabel\": {\"align\": \"left\"}, \"hovermode\": \"closest\", \"mapbox\": {\"style\": \"light\"}, \"paper_bgcolor\": \"white\", \"plot_bgcolor\": \"#E5ECF6\", \"polar\": {\"angularaxis\": {\"gridcolor\": \"white\", \"linecolor\": \"white\", \"ticks\": \"\"}, \"bgcolor\": \"#E5ECF6\", \"radialaxis\": {\"gridcolor\": \"white\", \"linecolor\": \"white\", \"ticks\": \"\"}}, \"scene\": {\"xaxis\": {\"backgroundcolor\": \"#E5ECF6\", \"gridcolor\": \"white\", \"gridwidth\": 2, \"linecolor\": \"white\", \"showbackground\": true, \"ticks\": \"\", \"zerolinecolor\": \"white\"}, \"yaxis\": {\"backgroundcolor\": \"#E5ECF6\", \"gridcolor\": \"white\", \"gridwidth\": 2, \"linecolor\": \"white\", \"showbackground\": true, \"ticks\": \"\", \"zerolinecolor\": \"white\"}, \"zaxis\": {\"backgroundcolor\": \"#E5ECF6\", \"gridcolor\": \"white\", \"gridwidth\": 2, \"linecolor\": \"white\", \"showbackground\": true, \"ticks\": \"\", \"zerolinecolor\": \"white\"}}, \"shapedefaults\": {\"line\": {\"color\": \"#2a3f5f\"}}, \"ternary\": {\"aaxis\": {\"gridcolor\": \"white\", \"linecolor\": \"white\", \"ticks\": \"\"}, \"baxis\": {\"gridcolor\": \"white\", \"linecolor\": \"white\", \"ticks\": \"\"}, \"bgcolor\": \"#E5ECF6\", \"caxis\": {\"gridcolor\": \"white\", \"linecolor\": \"white\", \"ticks\": \"\"}}, \"title\": {\"x\": 0.05}, \"xaxis\": {\"automargin\": true, \"gridcolor\": \"white\", \"linecolor\": \"white\", \"ticks\": \"\", \"title\": {\"standoff\": 15}, \"zerolinecolor\": \"white\", \"zerolinewidth\": 2}, \"yaxis\": {\"automargin\": true, \"gridcolor\": \"white\", \"linecolor\": \"white\", \"ticks\": \"\", \"title\": {\"standoff\": 15}, \"zerolinecolor\": \"white\", \"zerolinewidth\": 2}}}, \"title\": {\"text\": \"No. of Fuel_Type cars sold\"}, \"xaxis\": {\"anchor\": \"y\", \"categoryarray\": [\"Petrol\", \"Diesel\", \"CNG\"], \"categoryorder\": \"array\", \"domain\": [0.0, 1.0], \"title\": {\"text\": \"Fuel_Type\"}}, \"yaxis\": {\"anchor\": \"x\", \"domain\": [0.0, 1.0], \"title\": {\"text\": \"count\"}}},\n",
       "                        {\"responsive\": true}\n",
       "                    ).then(function(){\n",
       "                            \n",
       "var gd = document.getElementById('dd0773e1-287d-4772-97d8-6f8a7563ec59');\n",
       "var x = new MutationObserver(function (mutations, observer) {{\n",
       "        var display = window.getComputedStyle(gd).display;\n",
       "        if (!display || display === 'none') {{\n",
       "            console.log([gd, 'removed!']);\n",
       "            Plotly.purge(gd);\n",
       "            observer.disconnect();\n",
       "        }}\n",
       "}});\n",
       "\n",
       "// Listen for the removal of the full notebook cells\n",
       "var notebookContainer = gd.closest('#notebook-container');\n",
       "if (notebookContainer) {{\n",
       "    x.observe(notebookContainer, {childList: true});\n",
       "}}\n",
       "\n",
       "// Listen for the clearing of the current output cell\n",
       "var outputEl = gd.closest('.output');\n",
       "if (outputEl) {{\n",
       "    x.observe(outputEl, {childList: true});\n",
       "}}\n",
       "\n",
       "                        })\n",
       "                };\n",
       "                });\n",
       "            </script>\n",
       "        </div>"
      ]
     },
     "metadata": {},
     "output_type": "display_data"
    }
   ],
   "source": [
    "fig = px.bar(df,  x='Fuel_Type',color=\"Fuel_Type\",title=\"No. of Fuel_Type cars sold\")\n",
    "fig.show()"
   ]
  },
  {
   "cell_type": "code",
   "execution_count": 17,
   "metadata": {},
   "outputs": [
    {
     "data": {
      "text/html": [
       "<div>\n",
       "<style scoped>\n",
       "    .dataframe tbody tr th:only-of-type {\n",
       "        vertical-align: middle;\n",
       "    }\n",
       "\n",
       "    .dataframe tbody tr th {\n",
       "        vertical-align: top;\n",
       "    }\n",
       "\n",
       "    .dataframe thead th {\n",
       "        text-align: right;\n",
       "    }\n",
       "</style>\n",
       "<table border=\"1\" class=\"dataframe\">\n",
       "  <thead>\n",
       "    <tr style=\"text-align: right;\">\n",
       "      <th></th>\n",
       "      <th>Year</th>\n",
       "      <th>No.of_Sales</th>\n",
       "    </tr>\n",
       "  </thead>\n",
       "  <tbody>\n",
       "    <tr>\n",
       "      <th>0</th>\n",
       "      <td>2015</td>\n",
       "      <td>61</td>\n",
       "    </tr>\n",
       "    <tr>\n",
       "      <th>1</th>\n",
       "      <td>2016</td>\n",
       "      <td>50</td>\n",
       "    </tr>\n",
       "    <tr>\n",
       "      <th>2</th>\n",
       "      <td>2014</td>\n",
       "      <td>38</td>\n",
       "    </tr>\n",
       "    <tr>\n",
       "      <th>3</th>\n",
       "      <td>2017</td>\n",
       "      <td>35</td>\n",
       "    </tr>\n",
       "    <tr>\n",
       "      <th>4</th>\n",
       "      <td>2013</td>\n",
       "      <td>33</td>\n",
       "    </tr>\n",
       "    <tr>\n",
       "      <th>5</th>\n",
       "      <td>2012</td>\n",
       "      <td>23</td>\n",
       "    </tr>\n",
       "    <tr>\n",
       "      <th>6</th>\n",
       "      <td>2011</td>\n",
       "      <td>19</td>\n",
       "    </tr>\n",
       "    <tr>\n",
       "      <th>7</th>\n",
       "      <td>2010</td>\n",
       "      <td>15</td>\n",
       "    </tr>\n",
       "    <tr>\n",
       "      <th>8</th>\n",
       "      <td>2008</td>\n",
       "      <td>7</td>\n",
       "    </tr>\n",
       "    <tr>\n",
       "      <th>9</th>\n",
       "      <td>2009</td>\n",
       "      <td>6</td>\n",
       "    </tr>\n",
       "    <tr>\n",
       "      <th>10</th>\n",
       "      <td>2005</td>\n",
       "      <td>4</td>\n",
       "    </tr>\n",
       "    <tr>\n",
       "      <th>11</th>\n",
       "      <td>2006</td>\n",
       "      <td>4</td>\n",
       "    </tr>\n",
       "    <tr>\n",
       "      <th>12</th>\n",
       "      <td>2003</td>\n",
       "      <td>2</td>\n",
       "    </tr>\n",
       "    <tr>\n",
       "      <th>13</th>\n",
       "      <td>2007</td>\n",
       "      <td>2</td>\n",
       "    </tr>\n",
       "    <tr>\n",
       "      <th>14</th>\n",
       "      <td>2004</td>\n",
       "      <td>1</td>\n",
       "    </tr>\n",
       "    <tr>\n",
       "      <th>15</th>\n",
       "      <td>2018</td>\n",
       "      <td>1</td>\n",
       "    </tr>\n",
       "  </tbody>\n",
       "</table>\n",
       "</div>"
      ],
      "text/plain": [
       "    Year  No.of_Sales\n",
       "0   2015           61\n",
       "1   2016           50\n",
       "2   2014           38\n",
       "3   2017           35\n",
       "4   2013           33\n",
       "5   2012           23\n",
       "6   2011           19\n",
       "7   2010           15\n",
       "8   2008            7\n",
       "9   2009            6\n",
       "10  2005            4\n",
       "11  2006            4\n",
       "12  2003            2\n",
       "13  2007            2\n",
       "14  2004            1\n",
       "15  2018            1"
      ]
     },
     "execution_count": 17,
     "metadata": {},
     "output_type": "execute_result"
    }
   ],
   "source": [
    "high_sales_year= pd.DataFrame(df.Year.value_counts()[0:])\n",
    "high_sales_year= high_sales_year.reset_index().rename(columns={\"index\":\"Year\", \"Year\":\"No.of_Sales\"}).sort_values(by=[\"No.of_Sales\"],ascending= False)\n",
    "high_sales_year"
   ]
  },
  {
   "cell_type": "code",
   "execution_count": 19,
   "metadata": {},
   "outputs": [
    {
     "data": {
      "application/vnd.plotly.v1+json": {
       "config": {
        "plotlyServerURL": "https://plot.ly"
       },
       "data": [
        {
         "hovertemplate": "Year=%{x}<br>No.of_Sales=%{text}<extra></extra>",
         "legendgroup": "",
         "line": {
          "color": "#636efa"
         },
         "mode": "lines+markers+text",
         "name": "",
         "orientation": "v",
         "showlegend": false,
         "stackgroup": "1",
         "text": [
          61,
          50,
          38,
          35,
          33,
          23,
          19,
          15,
          7,
          6,
          4,
          4,
          2,
          2,
          1,
          1
         ],
         "type": "scatter",
         "x": [
          2015,
          2016,
          2014,
          2017,
          2013,
          2012,
          2011,
          2010,
          2008,
          2009,
          2005,
          2006,
          2003,
          2007,
          2004,
          2018
         ],
         "xaxis": "x",
         "y": [
          61,
          50,
          38,
          35,
          33,
          23,
          19,
          15,
          7,
          6,
          4,
          4,
          2,
          2,
          1,
          1
         ],
         "yaxis": "y"
        }
       ],
       "layout": {
        "legend": {
         "tracegroupgap": 0
        },
        "template": {
         "data": {
          "bar": [
           {
            "error_x": {
             "color": "#2a3f5f"
            },
            "error_y": {
             "color": "#2a3f5f"
            },
            "marker": {
             "line": {
              "color": "#E5ECF6",
              "width": 0.5
             }
            },
            "type": "bar"
           }
          ],
          "barpolar": [
           {
            "marker": {
             "line": {
              "color": "#E5ECF6",
              "width": 0.5
             }
            },
            "type": "barpolar"
           }
          ],
          "carpet": [
           {
            "aaxis": {
             "endlinecolor": "#2a3f5f",
             "gridcolor": "white",
             "linecolor": "white",
             "minorgridcolor": "white",
             "startlinecolor": "#2a3f5f"
            },
            "baxis": {
             "endlinecolor": "#2a3f5f",
             "gridcolor": "white",
             "linecolor": "white",
             "minorgridcolor": "white",
             "startlinecolor": "#2a3f5f"
            },
            "type": "carpet"
           }
          ],
          "choropleth": [
           {
            "colorbar": {
             "outlinewidth": 0,
             "ticks": ""
            },
            "type": "choropleth"
           }
          ],
          "contour": [
           {
            "colorbar": {
             "outlinewidth": 0,
             "ticks": ""
            },
            "colorscale": [
             [
              0,
              "#0d0887"
             ],
             [
              0.1111111111111111,
              "#46039f"
             ],
             [
              0.2222222222222222,
              "#7201a8"
             ],
             [
              0.3333333333333333,
              "#9c179e"
             ],
             [
              0.4444444444444444,
              "#bd3786"
             ],
             [
              0.5555555555555556,
              "#d8576b"
             ],
             [
              0.6666666666666666,
              "#ed7953"
             ],
             [
              0.7777777777777778,
              "#fb9f3a"
             ],
             [
              0.8888888888888888,
              "#fdca26"
             ],
             [
              1,
              "#f0f921"
             ]
            ],
            "type": "contour"
           }
          ],
          "contourcarpet": [
           {
            "colorbar": {
             "outlinewidth": 0,
             "ticks": ""
            },
            "type": "contourcarpet"
           }
          ],
          "heatmap": [
           {
            "colorbar": {
             "outlinewidth": 0,
             "ticks": ""
            },
            "colorscale": [
             [
              0,
              "#0d0887"
             ],
             [
              0.1111111111111111,
              "#46039f"
             ],
             [
              0.2222222222222222,
              "#7201a8"
             ],
             [
              0.3333333333333333,
              "#9c179e"
             ],
             [
              0.4444444444444444,
              "#bd3786"
             ],
             [
              0.5555555555555556,
              "#d8576b"
             ],
             [
              0.6666666666666666,
              "#ed7953"
             ],
             [
              0.7777777777777778,
              "#fb9f3a"
             ],
             [
              0.8888888888888888,
              "#fdca26"
             ],
             [
              1,
              "#f0f921"
             ]
            ],
            "type": "heatmap"
           }
          ],
          "heatmapgl": [
           {
            "colorbar": {
             "outlinewidth": 0,
             "ticks": ""
            },
            "colorscale": [
             [
              0,
              "#0d0887"
             ],
             [
              0.1111111111111111,
              "#46039f"
             ],
             [
              0.2222222222222222,
              "#7201a8"
             ],
             [
              0.3333333333333333,
              "#9c179e"
             ],
             [
              0.4444444444444444,
              "#bd3786"
             ],
             [
              0.5555555555555556,
              "#d8576b"
             ],
             [
              0.6666666666666666,
              "#ed7953"
             ],
             [
              0.7777777777777778,
              "#fb9f3a"
             ],
             [
              0.8888888888888888,
              "#fdca26"
             ],
             [
              1,
              "#f0f921"
             ]
            ],
            "type": "heatmapgl"
           }
          ],
          "histogram": [
           {
            "marker": {
             "colorbar": {
              "outlinewidth": 0,
              "ticks": ""
             }
            },
            "type": "histogram"
           }
          ],
          "histogram2d": [
           {
            "colorbar": {
             "outlinewidth": 0,
             "ticks": ""
            },
            "colorscale": [
             [
              0,
              "#0d0887"
             ],
             [
              0.1111111111111111,
              "#46039f"
             ],
             [
              0.2222222222222222,
              "#7201a8"
             ],
             [
              0.3333333333333333,
              "#9c179e"
             ],
             [
              0.4444444444444444,
              "#bd3786"
             ],
             [
              0.5555555555555556,
              "#d8576b"
             ],
             [
              0.6666666666666666,
              "#ed7953"
             ],
             [
              0.7777777777777778,
              "#fb9f3a"
             ],
             [
              0.8888888888888888,
              "#fdca26"
             ],
             [
              1,
              "#f0f921"
             ]
            ],
            "type": "histogram2d"
           }
          ],
          "histogram2dcontour": [
           {
            "colorbar": {
             "outlinewidth": 0,
             "ticks": ""
            },
            "colorscale": [
             [
              0,
              "#0d0887"
             ],
             [
              0.1111111111111111,
              "#46039f"
             ],
             [
              0.2222222222222222,
              "#7201a8"
             ],
             [
              0.3333333333333333,
              "#9c179e"
             ],
             [
              0.4444444444444444,
              "#bd3786"
             ],
             [
              0.5555555555555556,
              "#d8576b"
             ],
             [
              0.6666666666666666,
              "#ed7953"
             ],
             [
              0.7777777777777778,
              "#fb9f3a"
             ],
             [
              0.8888888888888888,
              "#fdca26"
             ],
             [
              1,
              "#f0f921"
             ]
            ],
            "type": "histogram2dcontour"
           }
          ],
          "mesh3d": [
           {
            "colorbar": {
             "outlinewidth": 0,
             "ticks": ""
            },
            "type": "mesh3d"
           }
          ],
          "parcoords": [
           {
            "line": {
             "colorbar": {
              "outlinewidth": 0,
              "ticks": ""
             }
            },
            "type": "parcoords"
           }
          ],
          "pie": [
           {
            "automargin": true,
            "type": "pie"
           }
          ],
          "scatter": [
           {
            "marker": {
             "colorbar": {
              "outlinewidth": 0,
              "ticks": ""
             }
            },
            "type": "scatter"
           }
          ],
          "scatter3d": [
           {
            "line": {
             "colorbar": {
              "outlinewidth": 0,
              "ticks": ""
             }
            },
            "marker": {
             "colorbar": {
              "outlinewidth": 0,
              "ticks": ""
             }
            },
            "type": "scatter3d"
           }
          ],
          "scattercarpet": [
           {
            "marker": {
             "colorbar": {
              "outlinewidth": 0,
              "ticks": ""
             }
            },
            "type": "scattercarpet"
           }
          ],
          "scattergeo": [
           {
            "marker": {
             "colorbar": {
              "outlinewidth": 0,
              "ticks": ""
             }
            },
            "type": "scattergeo"
           }
          ],
          "scattergl": [
           {
            "marker": {
             "colorbar": {
              "outlinewidth": 0,
              "ticks": ""
             }
            },
            "type": "scattergl"
           }
          ],
          "scattermapbox": [
           {
            "marker": {
             "colorbar": {
              "outlinewidth": 0,
              "ticks": ""
             }
            },
            "type": "scattermapbox"
           }
          ],
          "scatterpolar": [
           {
            "marker": {
             "colorbar": {
              "outlinewidth": 0,
              "ticks": ""
             }
            },
            "type": "scatterpolar"
           }
          ],
          "scatterpolargl": [
           {
            "marker": {
             "colorbar": {
              "outlinewidth": 0,
              "ticks": ""
             }
            },
            "type": "scatterpolargl"
           }
          ],
          "scatterternary": [
           {
            "marker": {
             "colorbar": {
              "outlinewidth": 0,
              "ticks": ""
             }
            },
            "type": "scatterternary"
           }
          ],
          "surface": [
           {
            "colorbar": {
             "outlinewidth": 0,
             "ticks": ""
            },
            "colorscale": [
             [
              0,
              "#0d0887"
             ],
             [
              0.1111111111111111,
              "#46039f"
             ],
             [
              0.2222222222222222,
              "#7201a8"
             ],
             [
              0.3333333333333333,
              "#9c179e"
             ],
             [
              0.4444444444444444,
              "#bd3786"
             ],
             [
              0.5555555555555556,
              "#d8576b"
             ],
             [
              0.6666666666666666,
              "#ed7953"
             ],
             [
              0.7777777777777778,
              "#fb9f3a"
             ],
             [
              0.8888888888888888,
              "#fdca26"
             ],
             [
              1,
              "#f0f921"
             ]
            ],
            "type": "surface"
           }
          ],
          "table": [
           {
            "cells": {
             "fill": {
              "color": "#EBF0F8"
             },
             "line": {
              "color": "white"
             }
            },
            "header": {
             "fill": {
              "color": "#C8D4E3"
             },
             "line": {
              "color": "white"
             }
            },
            "type": "table"
           }
          ]
         },
         "layout": {
          "annotationdefaults": {
           "arrowcolor": "#2a3f5f",
           "arrowhead": 0,
           "arrowwidth": 1
          },
          "coloraxis": {
           "colorbar": {
            "outlinewidth": 0,
            "ticks": ""
           }
          },
          "colorscale": {
           "diverging": [
            [
             0,
             "#8e0152"
            ],
            [
             0.1,
             "#c51b7d"
            ],
            [
             0.2,
             "#de77ae"
            ],
            [
             0.3,
             "#f1b6da"
            ],
            [
             0.4,
             "#fde0ef"
            ],
            [
             0.5,
             "#f7f7f7"
            ],
            [
             0.6,
             "#e6f5d0"
            ],
            [
             0.7,
             "#b8e186"
            ],
            [
             0.8,
             "#7fbc41"
            ],
            [
             0.9,
             "#4d9221"
            ],
            [
             1,
             "#276419"
            ]
           ],
           "sequential": [
            [
             0,
             "#0d0887"
            ],
            [
             0.1111111111111111,
             "#46039f"
            ],
            [
             0.2222222222222222,
             "#7201a8"
            ],
            [
             0.3333333333333333,
             "#9c179e"
            ],
            [
             0.4444444444444444,
             "#bd3786"
            ],
            [
             0.5555555555555556,
             "#d8576b"
            ],
            [
             0.6666666666666666,
             "#ed7953"
            ],
            [
             0.7777777777777778,
             "#fb9f3a"
            ],
            [
             0.8888888888888888,
             "#fdca26"
            ],
            [
             1,
             "#f0f921"
            ]
           ],
           "sequentialminus": [
            [
             0,
             "#0d0887"
            ],
            [
             0.1111111111111111,
             "#46039f"
            ],
            [
             0.2222222222222222,
             "#7201a8"
            ],
            [
             0.3333333333333333,
             "#9c179e"
            ],
            [
             0.4444444444444444,
             "#bd3786"
            ],
            [
             0.5555555555555556,
             "#d8576b"
            ],
            [
             0.6666666666666666,
             "#ed7953"
            ],
            [
             0.7777777777777778,
             "#fb9f3a"
            ],
            [
             0.8888888888888888,
             "#fdca26"
            ],
            [
             1,
             "#f0f921"
            ]
           ]
          },
          "colorway": [
           "#636efa",
           "#EF553B",
           "#00cc96",
           "#ab63fa",
           "#FFA15A",
           "#19d3f3",
           "#FF6692",
           "#B6E880",
           "#FF97FF",
           "#FECB52"
          ],
          "font": {
           "color": "#2a3f5f"
          },
          "geo": {
           "bgcolor": "white",
           "lakecolor": "white",
           "landcolor": "#E5ECF6",
           "showlakes": true,
           "showland": true,
           "subunitcolor": "white"
          },
          "hoverlabel": {
           "align": "left"
          },
          "hovermode": "closest",
          "mapbox": {
           "style": "light"
          },
          "paper_bgcolor": "white",
          "plot_bgcolor": "#E5ECF6",
          "polar": {
           "angularaxis": {
            "gridcolor": "white",
            "linecolor": "white",
            "ticks": ""
           },
           "bgcolor": "#E5ECF6",
           "radialaxis": {
            "gridcolor": "white",
            "linecolor": "white",
            "ticks": ""
           }
          },
          "scene": {
           "xaxis": {
            "backgroundcolor": "#E5ECF6",
            "gridcolor": "white",
            "gridwidth": 2,
            "linecolor": "white",
            "showbackground": true,
            "ticks": "",
            "zerolinecolor": "white"
           },
           "yaxis": {
            "backgroundcolor": "#E5ECF6",
            "gridcolor": "white",
            "gridwidth": 2,
            "linecolor": "white",
            "showbackground": true,
            "ticks": "",
            "zerolinecolor": "white"
           },
           "zaxis": {
            "backgroundcolor": "#E5ECF6",
            "gridcolor": "white",
            "gridwidth": 2,
            "linecolor": "white",
            "showbackground": true,
            "ticks": "",
            "zerolinecolor": "white"
           }
          },
          "shapedefaults": {
           "line": {
            "color": "#2a3f5f"
           }
          },
          "ternary": {
           "aaxis": {
            "gridcolor": "white",
            "linecolor": "white",
            "ticks": ""
           },
           "baxis": {
            "gridcolor": "white",
            "linecolor": "white",
            "ticks": ""
           },
           "bgcolor": "#E5ECF6",
           "caxis": {
            "gridcolor": "white",
            "linecolor": "white",
            "ticks": ""
           }
          },
          "title": {
           "x": 0.05
          },
          "xaxis": {
           "automargin": true,
           "gridcolor": "white",
           "linecolor": "white",
           "ticks": "",
           "title": {
            "standoff": 15
           },
           "zerolinecolor": "white",
           "zerolinewidth": 2
          },
          "yaxis": {
           "automargin": true,
           "gridcolor": "white",
           "linecolor": "white",
           "ticks": "",
           "title": {
            "standoff": 15
           },
           "zerolinecolor": "white",
           "zerolinewidth": 2
          }
         }
        },
        "title": {
         "text": "Total No. of Cars Sold Yearly"
        },
        "xaxis": {
         "anchor": "y",
         "domain": [
          0,
          1
         ],
         "title": {
          "text": "Year"
         }
        },
        "yaxis": {
         "anchor": "x",
         "domain": [
          0,
          1
         ],
         "title": {
          "text": "No.of_Sales"
         }
        }
       }
      },
      "text/html": [
       "<div>\n",
       "        \n",
       "        \n",
       "            <div id=\"60f629aa-8594-4446-ba75-e86baac6497a\" class=\"plotly-graph-div\" style=\"height:525px; width:100%;\"></div>\n",
       "            <script type=\"text/javascript\">\n",
       "                require([\"plotly\"], function(Plotly) {\n",
       "                    window.PLOTLYENV=window.PLOTLYENV || {};\n",
       "                    \n",
       "                if (document.getElementById(\"60f629aa-8594-4446-ba75-e86baac6497a\")) {\n",
       "                    Plotly.newPlot(\n",
       "                        '60f629aa-8594-4446-ba75-e86baac6497a',\n",
       "                        [{\"hovertemplate\": \"Year=%{x}<br>No.of_Sales=%{text}<extra></extra>\", \"legendgroup\": \"\", \"line\": {\"color\": \"#636efa\"}, \"mode\": \"lines+markers+text\", \"name\": \"\", \"orientation\": \"v\", \"showlegend\": false, \"stackgroup\": \"1\", \"text\": [61.0, 50.0, 38.0, 35.0, 33.0, 23.0, 19.0, 15.0, 7.0, 6.0, 4.0, 4.0, 2.0, 2.0, 1.0, 1.0], \"type\": \"scatter\", \"x\": [2015, 2016, 2014, 2017, 2013, 2012, 2011, 2010, 2008, 2009, 2005, 2006, 2003, 2007, 2004, 2018], \"xaxis\": \"x\", \"y\": [61, 50, 38, 35, 33, 23, 19, 15, 7, 6, 4, 4, 2, 2, 1, 1], \"yaxis\": \"y\"}],\n",
       "                        {\"legend\": {\"tracegroupgap\": 0}, \"template\": {\"data\": {\"bar\": [{\"error_x\": {\"color\": \"#2a3f5f\"}, \"error_y\": {\"color\": \"#2a3f5f\"}, \"marker\": {\"line\": {\"color\": \"#E5ECF6\", \"width\": 0.5}}, \"type\": \"bar\"}], \"barpolar\": [{\"marker\": {\"line\": {\"color\": \"#E5ECF6\", \"width\": 0.5}}, \"type\": \"barpolar\"}], \"carpet\": [{\"aaxis\": {\"endlinecolor\": \"#2a3f5f\", \"gridcolor\": \"white\", \"linecolor\": \"white\", \"minorgridcolor\": \"white\", \"startlinecolor\": \"#2a3f5f\"}, \"baxis\": {\"endlinecolor\": \"#2a3f5f\", \"gridcolor\": \"white\", \"linecolor\": \"white\", \"minorgridcolor\": \"white\", \"startlinecolor\": \"#2a3f5f\"}, \"type\": \"carpet\"}], \"choropleth\": [{\"colorbar\": {\"outlinewidth\": 0, \"ticks\": \"\"}, \"type\": \"choropleth\"}], \"contour\": [{\"colorbar\": {\"outlinewidth\": 0, \"ticks\": \"\"}, \"colorscale\": [[0.0, \"#0d0887\"], [0.1111111111111111, \"#46039f\"], [0.2222222222222222, \"#7201a8\"], [0.3333333333333333, \"#9c179e\"], [0.4444444444444444, \"#bd3786\"], [0.5555555555555556, \"#d8576b\"], [0.6666666666666666, \"#ed7953\"], [0.7777777777777778, \"#fb9f3a\"], [0.8888888888888888, \"#fdca26\"], [1.0, \"#f0f921\"]], \"type\": \"contour\"}], \"contourcarpet\": [{\"colorbar\": {\"outlinewidth\": 0, \"ticks\": \"\"}, \"type\": \"contourcarpet\"}], \"heatmap\": [{\"colorbar\": {\"outlinewidth\": 0, \"ticks\": \"\"}, \"colorscale\": [[0.0, \"#0d0887\"], [0.1111111111111111, \"#46039f\"], [0.2222222222222222, \"#7201a8\"], [0.3333333333333333, \"#9c179e\"], [0.4444444444444444, \"#bd3786\"], [0.5555555555555556, \"#d8576b\"], [0.6666666666666666, \"#ed7953\"], [0.7777777777777778, \"#fb9f3a\"], [0.8888888888888888, \"#fdca26\"], [1.0, \"#f0f921\"]], \"type\": \"heatmap\"}], \"heatmapgl\": [{\"colorbar\": {\"outlinewidth\": 0, \"ticks\": \"\"}, \"colorscale\": [[0.0, \"#0d0887\"], [0.1111111111111111, \"#46039f\"], [0.2222222222222222, \"#7201a8\"], [0.3333333333333333, \"#9c179e\"], [0.4444444444444444, \"#bd3786\"], [0.5555555555555556, \"#d8576b\"], [0.6666666666666666, \"#ed7953\"], [0.7777777777777778, \"#fb9f3a\"], [0.8888888888888888, \"#fdca26\"], [1.0, \"#f0f921\"]], \"type\": \"heatmapgl\"}], \"histogram\": [{\"marker\": {\"colorbar\": {\"outlinewidth\": 0, \"ticks\": \"\"}}, \"type\": \"histogram\"}], \"histogram2d\": [{\"colorbar\": {\"outlinewidth\": 0, \"ticks\": \"\"}, \"colorscale\": [[0.0, \"#0d0887\"], [0.1111111111111111, \"#46039f\"], [0.2222222222222222, \"#7201a8\"], [0.3333333333333333, \"#9c179e\"], [0.4444444444444444, \"#bd3786\"], [0.5555555555555556, \"#d8576b\"], [0.6666666666666666, \"#ed7953\"], [0.7777777777777778, \"#fb9f3a\"], [0.8888888888888888, \"#fdca26\"], [1.0, \"#f0f921\"]], \"type\": \"histogram2d\"}], \"histogram2dcontour\": [{\"colorbar\": {\"outlinewidth\": 0, \"ticks\": \"\"}, \"colorscale\": [[0.0, \"#0d0887\"], [0.1111111111111111, \"#46039f\"], [0.2222222222222222, \"#7201a8\"], [0.3333333333333333, \"#9c179e\"], [0.4444444444444444, \"#bd3786\"], [0.5555555555555556, \"#d8576b\"], [0.6666666666666666, \"#ed7953\"], [0.7777777777777778, \"#fb9f3a\"], [0.8888888888888888, \"#fdca26\"], [1.0, \"#f0f921\"]], \"type\": \"histogram2dcontour\"}], \"mesh3d\": [{\"colorbar\": {\"outlinewidth\": 0, \"ticks\": \"\"}, \"type\": \"mesh3d\"}], \"parcoords\": [{\"line\": {\"colorbar\": {\"outlinewidth\": 0, \"ticks\": \"\"}}, \"type\": \"parcoords\"}], \"pie\": [{\"automargin\": true, \"type\": \"pie\"}], \"scatter\": [{\"marker\": {\"colorbar\": {\"outlinewidth\": 0, \"ticks\": \"\"}}, \"type\": \"scatter\"}], \"scatter3d\": [{\"line\": {\"colorbar\": {\"outlinewidth\": 0, \"ticks\": \"\"}}, \"marker\": {\"colorbar\": {\"outlinewidth\": 0, \"ticks\": \"\"}}, \"type\": \"scatter3d\"}], \"scattercarpet\": [{\"marker\": {\"colorbar\": {\"outlinewidth\": 0, \"ticks\": \"\"}}, \"type\": \"scattercarpet\"}], \"scattergeo\": [{\"marker\": {\"colorbar\": {\"outlinewidth\": 0, \"ticks\": \"\"}}, \"type\": \"scattergeo\"}], \"scattergl\": [{\"marker\": {\"colorbar\": {\"outlinewidth\": 0, \"ticks\": \"\"}}, \"type\": \"scattergl\"}], \"scattermapbox\": [{\"marker\": {\"colorbar\": {\"outlinewidth\": 0, \"ticks\": \"\"}}, \"type\": \"scattermapbox\"}], \"scatterpolar\": [{\"marker\": {\"colorbar\": {\"outlinewidth\": 0, \"ticks\": \"\"}}, \"type\": \"scatterpolar\"}], \"scatterpolargl\": [{\"marker\": {\"colorbar\": {\"outlinewidth\": 0, \"ticks\": \"\"}}, \"type\": \"scatterpolargl\"}], \"scatterternary\": [{\"marker\": {\"colorbar\": {\"outlinewidth\": 0, \"ticks\": \"\"}}, \"type\": \"scatterternary\"}], \"surface\": [{\"colorbar\": {\"outlinewidth\": 0, \"ticks\": \"\"}, \"colorscale\": [[0.0, \"#0d0887\"], [0.1111111111111111, \"#46039f\"], [0.2222222222222222, \"#7201a8\"], [0.3333333333333333, \"#9c179e\"], [0.4444444444444444, \"#bd3786\"], [0.5555555555555556, \"#d8576b\"], [0.6666666666666666, \"#ed7953\"], [0.7777777777777778, \"#fb9f3a\"], [0.8888888888888888, \"#fdca26\"], [1.0, \"#f0f921\"]], \"type\": \"surface\"}], \"table\": [{\"cells\": {\"fill\": {\"color\": \"#EBF0F8\"}, \"line\": {\"color\": \"white\"}}, \"header\": {\"fill\": {\"color\": \"#C8D4E3\"}, \"line\": {\"color\": \"white\"}}, \"type\": \"table\"}]}, \"layout\": {\"annotationdefaults\": {\"arrowcolor\": \"#2a3f5f\", \"arrowhead\": 0, \"arrowwidth\": 1}, \"coloraxis\": {\"colorbar\": {\"outlinewidth\": 0, \"ticks\": \"\"}}, \"colorscale\": {\"diverging\": [[0, \"#8e0152\"], [0.1, \"#c51b7d\"], [0.2, \"#de77ae\"], [0.3, \"#f1b6da\"], [0.4, \"#fde0ef\"], [0.5, \"#f7f7f7\"], [0.6, \"#e6f5d0\"], [0.7, \"#b8e186\"], [0.8, \"#7fbc41\"], [0.9, \"#4d9221\"], [1, \"#276419\"]], \"sequential\": [[0.0, \"#0d0887\"], [0.1111111111111111, \"#46039f\"], [0.2222222222222222, \"#7201a8\"], [0.3333333333333333, \"#9c179e\"], [0.4444444444444444, \"#bd3786\"], [0.5555555555555556, \"#d8576b\"], [0.6666666666666666, \"#ed7953\"], [0.7777777777777778, \"#fb9f3a\"], [0.8888888888888888, \"#fdca26\"], [1.0, \"#f0f921\"]], \"sequentialminus\": [[0.0, \"#0d0887\"], [0.1111111111111111, \"#46039f\"], [0.2222222222222222, \"#7201a8\"], [0.3333333333333333, \"#9c179e\"], [0.4444444444444444, \"#bd3786\"], [0.5555555555555556, \"#d8576b\"], [0.6666666666666666, \"#ed7953\"], [0.7777777777777778, \"#fb9f3a\"], [0.8888888888888888, \"#fdca26\"], [1.0, \"#f0f921\"]]}, \"colorway\": [\"#636efa\", \"#EF553B\", \"#00cc96\", \"#ab63fa\", \"#FFA15A\", \"#19d3f3\", \"#FF6692\", \"#B6E880\", \"#FF97FF\", \"#FECB52\"], \"font\": {\"color\": \"#2a3f5f\"}, \"geo\": {\"bgcolor\": \"white\", \"lakecolor\": \"white\", \"landcolor\": \"#E5ECF6\", \"showlakes\": true, \"showland\": true, \"subunitcolor\": \"white\"}, \"hoverlabel\": {\"align\": \"left\"}, \"hovermode\": \"closest\", \"mapbox\": {\"style\": \"light\"}, \"paper_bgcolor\": \"white\", \"plot_bgcolor\": \"#E5ECF6\", \"polar\": {\"angularaxis\": {\"gridcolor\": \"white\", \"linecolor\": \"white\", \"ticks\": \"\"}, \"bgcolor\": \"#E5ECF6\", \"radialaxis\": {\"gridcolor\": \"white\", \"linecolor\": \"white\", \"ticks\": \"\"}}, \"scene\": {\"xaxis\": {\"backgroundcolor\": \"#E5ECF6\", \"gridcolor\": \"white\", \"gridwidth\": 2, \"linecolor\": \"white\", \"showbackground\": true, \"ticks\": \"\", \"zerolinecolor\": \"white\"}, \"yaxis\": {\"backgroundcolor\": \"#E5ECF6\", \"gridcolor\": \"white\", \"gridwidth\": 2, \"linecolor\": \"white\", \"showbackground\": true, \"ticks\": \"\", \"zerolinecolor\": \"white\"}, \"zaxis\": {\"backgroundcolor\": \"#E5ECF6\", \"gridcolor\": \"white\", \"gridwidth\": 2, \"linecolor\": \"white\", \"showbackground\": true, \"ticks\": \"\", \"zerolinecolor\": \"white\"}}, \"shapedefaults\": {\"line\": {\"color\": \"#2a3f5f\"}}, \"ternary\": {\"aaxis\": {\"gridcolor\": \"white\", \"linecolor\": \"white\", \"ticks\": \"\"}, \"baxis\": {\"gridcolor\": \"white\", \"linecolor\": \"white\", \"ticks\": \"\"}, \"bgcolor\": \"#E5ECF6\", \"caxis\": {\"gridcolor\": \"white\", \"linecolor\": \"white\", \"ticks\": \"\"}}, \"title\": {\"x\": 0.05}, \"xaxis\": {\"automargin\": true, \"gridcolor\": \"white\", \"linecolor\": \"white\", \"ticks\": \"\", \"title\": {\"standoff\": 15}, \"zerolinecolor\": \"white\", \"zerolinewidth\": 2}, \"yaxis\": {\"automargin\": true, \"gridcolor\": \"white\", \"linecolor\": \"white\", \"ticks\": \"\", \"title\": {\"standoff\": 15}, \"zerolinecolor\": \"white\", \"zerolinewidth\": 2}}}, \"title\": {\"text\": \"Total No. of Cars Sold Yearly\"}, \"xaxis\": {\"anchor\": \"y\", \"domain\": [0.0, 1.0], \"title\": {\"text\": \"Year\"}}, \"yaxis\": {\"anchor\": \"x\", \"domain\": [0.0, 1.0], \"title\": {\"text\": \"No.of_Sales\"}}},\n",
       "                        {\"responsive\": true}\n",
       "                    ).then(function(){\n",
       "                            \n",
       "var gd = document.getElementById('60f629aa-8594-4446-ba75-e86baac6497a');\n",
       "var x = new MutationObserver(function (mutations, observer) {{\n",
       "        var display = window.getComputedStyle(gd).display;\n",
       "        if (!display || display === 'none') {{\n",
       "            console.log([gd, 'removed!']);\n",
       "            Plotly.purge(gd);\n",
       "            observer.disconnect();\n",
       "        }}\n",
       "}});\n",
       "\n",
       "// Listen for the removal of the full notebook cells\n",
       "var notebookContainer = gd.closest('#notebook-container');\n",
       "if (notebookContainer) {{\n",
       "    x.observe(notebookContainer, {childList: true});\n",
       "}}\n",
       "\n",
       "// Listen for the clearing of the current output cell\n",
       "var outputEl = gd.closest('.output');\n",
       "if (outputEl) {{\n",
       "    x.observe(outputEl, {childList: true});\n",
       "}}\n",
       "\n",
       "                        })\n",
       "                };\n",
       "                });\n",
       "            </script>\n",
       "        </div>"
      ]
     },
     "metadata": {},
     "output_type": "display_data"
    }
   ],
   "source": [
    "fig1=px.area(high_sales_year,x=\"Year\", y=\"No.of_Sales\",title=\"Total No. of Cars Sold Yearly\",\n",
    "             text=\"No.of_Sales\")\n",
    "fig.update_traces(texttemplate='%{text:.2s}', textposition='outside')\n",
    "# fig.update_layout(uniformtext_minsize=8, uniformtext_mode='hide')\n",
    "# add a graph to the canvas as a trace\n",
    "fig1.show()"
   ]
  },
  {
   "cell_type": "code",
   "execution_count": 20,
   "metadata": {},
   "outputs": [
    {
     "data": {
      "text/html": [
       "<div>\n",
       "<style scoped>\n",
       "    .dataframe tbody tr th:only-of-type {\n",
       "        vertical-align: middle;\n",
       "    }\n",
       "\n",
       "    .dataframe tbody tr th {\n",
       "        vertical-align: top;\n",
       "    }\n",
       "\n",
       "    .dataframe thead th {\n",
       "        text-align: right;\n",
       "    }\n",
       "</style>\n",
       "<table border=\"1\" class=\"dataframe\">\n",
       "  <thead>\n",
       "    <tr style=\"text-align: right;\">\n",
       "      <th></th>\n",
       "      <th>Year</th>\n",
       "      <th>No.of_Sales</th>\n",
       "    </tr>\n",
       "  </thead>\n",
       "  <tbody>\n",
       "    <tr>\n",
       "      <th>0</th>\n",
       "      <td>2015</td>\n",
       "      <td>45</td>\n",
       "    </tr>\n",
       "    <tr>\n",
       "      <th>1</th>\n",
       "      <td>2016</td>\n",
       "      <td>42</td>\n",
       "    </tr>\n",
       "    <tr>\n",
       "      <th>2</th>\n",
       "      <td>2017</td>\n",
       "      <td>31</td>\n",
       "    </tr>\n",
       "    <tr>\n",
       "      <th>3</th>\n",
       "      <td>2013</td>\n",
       "      <td>28</td>\n",
       "    </tr>\n",
       "    <tr>\n",
       "      <th>4</th>\n",
       "      <td>2014</td>\n",
       "      <td>24</td>\n",
       "    </tr>\n",
       "    <tr>\n",
       "      <th>5</th>\n",
       "      <td>2011</td>\n",
       "      <td>17</td>\n",
       "    </tr>\n",
       "    <tr>\n",
       "      <th>6</th>\n",
       "      <td>2012</td>\n",
       "      <td>16</td>\n",
       "    </tr>\n",
       "    <tr>\n",
       "      <th>7</th>\n",
       "      <td>2010</td>\n",
       "      <td>11</td>\n",
       "    </tr>\n",
       "    <tr>\n",
       "      <th>8</th>\n",
       "      <td>2008</td>\n",
       "      <td>7</td>\n",
       "    </tr>\n",
       "    <tr>\n",
       "      <th>9</th>\n",
       "      <td>2009</td>\n",
       "      <td>6</td>\n",
       "    </tr>\n",
       "    <tr>\n",
       "      <th>10</th>\n",
       "      <td>2006</td>\n",
       "      <td>4</td>\n",
       "    </tr>\n",
       "    <tr>\n",
       "      <th>11</th>\n",
       "      <td>2005</td>\n",
       "      <td>3</td>\n",
       "    </tr>\n",
       "    <tr>\n",
       "      <th>12</th>\n",
       "      <td>2003</td>\n",
       "      <td>2</td>\n",
       "    </tr>\n",
       "    <tr>\n",
       "      <th>13</th>\n",
       "      <td>2007</td>\n",
       "      <td>2</td>\n",
       "    </tr>\n",
       "    <tr>\n",
       "      <th>14</th>\n",
       "      <td>2004</td>\n",
       "      <td>1</td>\n",
       "    </tr>\n",
       "  </tbody>\n",
       "</table>\n",
       "</div>"
      ],
      "text/plain": [
       "    Year  No.of_Sales\n",
       "0   2015           45\n",
       "1   2016           42\n",
       "2   2017           31\n",
       "3   2013           28\n",
       "4   2014           24\n",
       "5   2011           17\n",
       "6   2012           16\n",
       "7   2010           11\n",
       "8   2008            7\n",
       "9   2009            6\n",
       "10  2006            4\n",
       "11  2005            3\n",
       "12  2003            2\n",
       "13  2007            2\n",
       "14  2004            1"
      ]
     },
     "execution_count": 20,
     "metadata": {},
     "output_type": "execute_result"
    }
   ],
   "source": [
    "yr_petrol_sales=pd.DataFrame(df[df[\"Fuel_Type\"]==\"Petrol\"].Year.value_counts())\n",
    "yr_petrol_sales= yr_petrol_sales.reset_index().rename(columns={\"index\":\"Year\", \"Year\":\"No.of_Sales\"}).sort_values(by=[\"No.of_Sales\"],ascending= False)\n",
    "yr_petrol_sales"
   ]
  },
  {
   "cell_type": "code",
   "execution_count": 21,
   "metadata": {},
   "outputs": [
    {
     "data": {
      "text/html": [
       "<div>\n",
       "<style scoped>\n",
       "    .dataframe tbody tr th:only-of-type {\n",
       "        vertical-align: middle;\n",
       "    }\n",
       "\n",
       "    .dataframe tbody tr th {\n",
       "        vertical-align: top;\n",
       "    }\n",
       "\n",
       "    .dataframe thead th {\n",
       "        text-align: right;\n",
       "    }\n",
       "</style>\n",
       "<table border=\"1\" class=\"dataframe\">\n",
       "  <thead>\n",
       "    <tr style=\"text-align: right;\">\n",
       "      <th></th>\n",
       "      <th>Year</th>\n",
       "      <th>No.of_Sales</th>\n",
       "    </tr>\n",
       "  </thead>\n",
       "  <tbody>\n",
       "    <tr>\n",
       "      <th>0</th>\n",
       "      <td>2015</td>\n",
       "      <td>15</td>\n",
       "    </tr>\n",
       "    <tr>\n",
       "      <th>1</th>\n",
       "      <td>2014</td>\n",
       "      <td>14</td>\n",
       "    </tr>\n",
       "    <tr>\n",
       "      <th>2</th>\n",
       "      <td>2016</td>\n",
       "      <td>8</td>\n",
       "    </tr>\n",
       "    <tr>\n",
       "      <th>3</th>\n",
       "      <td>2012</td>\n",
       "      <td>7</td>\n",
       "    </tr>\n",
       "    <tr>\n",
       "      <th>4</th>\n",
       "      <td>2013</td>\n",
       "      <td>5</td>\n",
       "    </tr>\n",
       "    <tr>\n",
       "      <th>5</th>\n",
       "      <td>2010</td>\n",
       "      <td>4</td>\n",
       "    </tr>\n",
       "    <tr>\n",
       "      <th>6</th>\n",
       "      <td>2017</td>\n",
       "      <td>4</td>\n",
       "    </tr>\n",
       "    <tr>\n",
       "      <th>7</th>\n",
       "      <td>2005</td>\n",
       "      <td>1</td>\n",
       "    </tr>\n",
       "    <tr>\n",
       "      <th>8</th>\n",
       "      <td>2011</td>\n",
       "      <td>1</td>\n",
       "    </tr>\n",
       "    <tr>\n",
       "      <th>9</th>\n",
       "      <td>2018</td>\n",
       "      <td>1</td>\n",
       "    </tr>\n",
       "  </tbody>\n",
       "</table>\n",
       "</div>"
      ],
      "text/plain": [
       "   Year  No.of_Sales\n",
       "0  2015           15\n",
       "1  2014           14\n",
       "2  2016            8\n",
       "3  2012            7\n",
       "4  2013            5\n",
       "5  2010            4\n",
       "6  2017            4\n",
       "7  2005            1\n",
       "8  2011            1\n",
       "9  2018            1"
      ]
     },
     "execution_count": 21,
     "metadata": {},
     "output_type": "execute_result"
    }
   ],
   "source": [
    "yr_diesel_sales=pd.DataFrame(df[df[\"Fuel_Type\"]==\"Diesel\"].Year.value_counts())\n",
    "yr_diesel_sales= yr_diesel_sales.reset_index().rename(columns={\"index\":\"Year\", \"Year\":\"No.of_Sales\"}).sort_values(by=[\"No.of_Sales\"],ascending= False)\n",
    "yr_diesel_sales"
   ]
  },
  {
   "cell_type": "code",
   "execution_count": 23,
   "metadata": {},
   "outputs": [
    {
     "data": {
      "application/vnd.plotly.v1+json": {
       "config": {
        "plotlyServerURL": "https://plot.ly"
       },
       "data": [
        {
         "marker": {
          "color": "rgb(55, 83, 109)"
         },
         "name": "Petrol_Sales",
         "text": "No.of_Sales",
         "type": "bar",
         "x": [
          2015,
          2016,
          2017,
          2013,
          2014,
          2011,
          2012,
          2010,
          2008,
          2009,
          2006,
          2005,
          2003,
          2007,
          2004
         ],
         "y": [
          45,
          42,
          31,
          28,
          24,
          17,
          16,
          11,
          7,
          6,
          4,
          3,
          2,
          2,
          1
         ]
        },
        {
         "marker": {
          "color": "rgb(26, 118, 255)"
         },
         "name": "Diesle_Sales",
         "text": [
          15,
          14,
          8,
          7,
          5,
          4,
          4,
          1,
          1,
          1
         ],
         "type": "bar",
         "x": [
          2015,
          2014,
          2016,
          2012,
          2013,
          2010,
          2017,
          2005,
          2011,
          2018
         ],
         "y": [
          15,
          14,
          8,
          7,
          5,
          4,
          4,
          1,
          1,
          1
         ]
        }
       ],
       "layout": {
        "bargap": 0.15,
        "bargroupgap": 0.1,
        "barmode": "group",
        "legend": {
         "bgcolor": "rgba(255, 255, 255, 0)",
         "bordercolor": "rgba(255, 255, 255, 0)",
         "x": 0,
         "y": 1
        },
        "template": {
         "data": {
          "bar": [
           {
            "error_x": {
             "color": "#2a3f5f"
            },
            "error_y": {
             "color": "#2a3f5f"
            },
            "marker": {
             "line": {
              "color": "#E5ECF6",
              "width": 0.5
             }
            },
            "type": "bar"
           }
          ],
          "barpolar": [
           {
            "marker": {
             "line": {
              "color": "#E5ECF6",
              "width": 0.5
             }
            },
            "type": "barpolar"
           }
          ],
          "carpet": [
           {
            "aaxis": {
             "endlinecolor": "#2a3f5f",
             "gridcolor": "white",
             "linecolor": "white",
             "minorgridcolor": "white",
             "startlinecolor": "#2a3f5f"
            },
            "baxis": {
             "endlinecolor": "#2a3f5f",
             "gridcolor": "white",
             "linecolor": "white",
             "minorgridcolor": "white",
             "startlinecolor": "#2a3f5f"
            },
            "type": "carpet"
           }
          ],
          "choropleth": [
           {
            "colorbar": {
             "outlinewidth": 0,
             "ticks": ""
            },
            "type": "choropleth"
           }
          ],
          "contour": [
           {
            "colorbar": {
             "outlinewidth": 0,
             "ticks": ""
            },
            "colorscale": [
             [
              0,
              "#0d0887"
             ],
             [
              0.1111111111111111,
              "#46039f"
             ],
             [
              0.2222222222222222,
              "#7201a8"
             ],
             [
              0.3333333333333333,
              "#9c179e"
             ],
             [
              0.4444444444444444,
              "#bd3786"
             ],
             [
              0.5555555555555556,
              "#d8576b"
             ],
             [
              0.6666666666666666,
              "#ed7953"
             ],
             [
              0.7777777777777778,
              "#fb9f3a"
             ],
             [
              0.8888888888888888,
              "#fdca26"
             ],
             [
              1,
              "#f0f921"
             ]
            ],
            "type": "contour"
           }
          ],
          "contourcarpet": [
           {
            "colorbar": {
             "outlinewidth": 0,
             "ticks": ""
            },
            "type": "contourcarpet"
           }
          ],
          "heatmap": [
           {
            "colorbar": {
             "outlinewidth": 0,
             "ticks": ""
            },
            "colorscale": [
             [
              0,
              "#0d0887"
             ],
             [
              0.1111111111111111,
              "#46039f"
             ],
             [
              0.2222222222222222,
              "#7201a8"
             ],
             [
              0.3333333333333333,
              "#9c179e"
             ],
             [
              0.4444444444444444,
              "#bd3786"
             ],
             [
              0.5555555555555556,
              "#d8576b"
             ],
             [
              0.6666666666666666,
              "#ed7953"
             ],
             [
              0.7777777777777778,
              "#fb9f3a"
             ],
             [
              0.8888888888888888,
              "#fdca26"
             ],
             [
              1,
              "#f0f921"
             ]
            ],
            "type": "heatmap"
           }
          ],
          "heatmapgl": [
           {
            "colorbar": {
             "outlinewidth": 0,
             "ticks": ""
            },
            "colorscale": [
             [
              0,
              "#0d0887"
             ],
             [
              0.1111111111111111,
              "#46039f"
             ],
             [
              0.2222222222222222,
              "#7201a8"
             ],
             [
              0.3333333333333333,
              "#9c179e"
             ],
             [
              0.4444444444444444,
              "#bd3786"
             ],
             [
              0.5555555555555556,
              "#d8576b"
             ],
             [
              0.6666666666666666,
              "#ed7953"
             ],
             [
              0.7777777777777778,
              "#fb9f3a"
             ],
             [
              0.8888888888888888,
              "#fdca26"
             ],
             [
              1,
              "#f0f921"
             ]
            ],
            "type": "heatmapgl"
           }
          ],
          "histogram": [
           {
            "marker": {
             "colorbar": {
              "outlinewidth": 0,
              "ticks": ""
             }
            },
            "type": "histogram"
           }
          ],
          "histogram2d": [
           {
            "colorbar": {
             "outlinewidth": 0,
             "ticks": ""
            },
            "colorscale": [
             [
              0,
              "#0d0887"
             ],
             [
              0.1111111111111111,
              "#46039f"
             ],
             [
              0.2222222222222222,
              "#7201a8"
             ],
             [
              0.3333333333333333,
              "#9c179e"
             ],
             [
              0.4444444444444444,
              "#bd3786"
             ],
             [
              0.5555555555555556,
              "#d8576b"
             ],
             [
              0.6666666666666666,
              "#ed7953"
             ],
             [
              0.7777777777777778,
              "#fb9f3a"
             ],
             [
              0.8888888888888888,
              "#fdca26"
             ],
             [
              1,
              "#f0f921"
             ]
            ],
            "type": "histogram2d"
           }
          ],
          "histogram2dcontour": [
           {
            "colorbar": {
             "outlinewidth": 0,
             "ticks": ""
            },
            "colorscale": [
             [
              0,
              "#0d0887"
             ],
             [
              0.1111111111111111,
              "#46039f"
             ],
             [
              0.2222222222222222,
              "#7201a8"
             ],
             [
              0.3333333333333333,
              "#9c179e"
             ],
             [
              0.4444444444444444,
              "#bd3786"
             ],
             [
              0.5555555555555556,
              "#d8576b"
             ],
             [
              0.6666666666666666,
              "#ed7953"
             ],
             [
              0.7777777777777778,
              "#fb9f3a"
             ],
             [
              0.8888888888888888,
              "#fdca26"
             ],
             [
              1,
              "#f0f921"
             ]
            ],
            "type": "histogram2dcontour"
           }
          ],
          "mesh3d": [
           {
            "colorbar": {
             "outlinewidth": 0,
             "ticks": ""
            },
            "type": "mesh3d"
           }
          ],
          "parcoords": [
           {
            "line": {
             "colorbar": {
              "outlinewidth": 0,
              "ticks": ""
             }
            },
            "type": "parcoords"
           }
          ],
          "pie": [
           {
            "automargin": true,
            "type": "pie"
           }
          ],
          "scatter": [
           {
            "marker": {
             "colorbar": {
              "outlinewidth": 0,
              "ticks": ""
             }
            },
            "type": "scatter"
           }
          ],
          "scatter3d": [
           {
            "line": {
             "colorbar": {
              "outlinewidth": 0,
              "ticks": ""
             }
            },
            "marker": {
             "colorbar": {
              "outlinewidth": 0,
              "ticks": ""
             }
            },
            "type": "scatter3d"
           }
          ],
          "scattercarpet": [
           {
            "marker": {
             "colorbar": {
              "outlinewidth": 0,
              "ticks": ""
             }
            },
            "type": "scattercarpet"
           }
          ],
          "scattergeo": [
           {
            "marker": {
             "colorbar": {
              "outlinewidth": 0,
              "ticks": ""
             }
            },
            "type": "scattergeo"
           }
          ],
          "scattergl": [
           {
            "marker": {
             "colorbar": {
              "outlinewidth": 0,
              "ticks": ""
             }
            },
            "type": "scattergl"
           }
          ],
          "scattermapbox": [
           {
            "marker": {
             "colorbar": {
              "outlinewidth": 0,
              "ticks": ""
             }
            },
            "type": "scattermapbox"
           }
          ],
          "scatterpolar": [
           {
            "marker": {
             "colorbar": {
              "outlinewidth": 0,
              "ticks": ""
             }
            },
            "type": "scatterpolar"
           }
          ],
          "scatterpolargl": [
           {
            "marker": {
             "colorbar": {
              "outlinewidth": 0,
              "ticks": ""
             }
            },
            "type": "scatterpolargl"
           }
          ],
          "scatterternary": [
           {
            "marker": {
             "colorbar": {
              "outlinewidth": 0,
              "ticks": ""
             }
            },
            "type": "scatterternary"
           }
          ],
          "surface": [
           {
            "colorbar": {
             "outlinewidth": 0,
             "ticks": ""
            },
            "colorscale": [
             [
              0,
              "#0d0887"
             ],
             [
              0.1111111111111111,
              "#46039f"
             ],
             [
              0.2222222222222222,
              "#7201a8"
             ],
             [
              0.3333333333333333,
              "#9c179e"
             ],
             [
              0.4444444444444444,
              "#bd3786"
             ],
             [
              0.5555555555555556,
              "#d8576b"
             ],
             [
              0.6666666666666666,
              "#ed7953"
             ],
             [
              0.7777777777777778,
              "#fb9f3a"
             ],
             [
              0.8888888888888888,
              "#fdca26"
             ],
             [
              1,
              "#f0f921"
             ]
            ],
            "type": "surface"
           }
          ],
          "table": [
           {
            "cells": {
             "fill": {
              "color": "#EBF0F8"
             },
             "line": {
              "color": "white"
             }
            },
            "header": {
             "fill": {
              "color": "#C8D4E3"
             },
             "line": {
              "color": "white"
             }
            },
            "type": "table"
           }
          ]
         },
         "layout": {
          "annotationdefaults": {
           "arrowcolor": "#2a3f5f",
           "arrowhead": 0,
           "arrowwidth": 1
          },
          "coloraxis": {
           "colorbar": {
            "outlinewidth": 0,
            "ticks": ""
           }
          },
          "colorscale": {
           "diverging": [
            [
             0,
             "#8e0152"
            ],
            [
             0.1,
             "#c51b7d"
            ],
            [
             0.2,
             "#de77ae"
            ],
            [
             0.3,
             "#f1b6da"
            ],
            [
             0.4,
             "#fde0ef"
            ],
            [
             0.5,
             "#f7f7f7"
            ],
            [
             0.6,
             "#e6f5d0"
            ],
            [
             0.7,
             "#b8e186"
            ],
            [
             0.8,
             "#7fbc41"
            ],
            [
             0.9,
             "#4d9221"
            ],
            [
             1,
             "#276419"
            ]
           ],
           "sequential": [
            [
             0,
             "#0d0887"
            ],
            [
             0.1111111111111111,
             "#46039f"
            ],
            [
             0.2222222222222222,
             "#7201a8"
            ],
            [
             0.3333333333333333,
             "#9c179e"
            ],
            [
             0.4444444444444444,
             "#bd3786"
            ],
            [
             0.5555555555555556,
             "#d8576b"
            ],
            [
             0.6666666666666666,
             "#ed7953"
            ],
            [
             0.7777777777777778,
             "#fb9f3a"
            ],
            [
             0.8888888888888888,
             "#fdca26"
            ],
            [
             1,
             "#f0f921"
            ]
           ],
           "sequentialminus": [
            [
             0,
             "#0d0887"
            ],
            [
             0.1111111111111111,
             "#46039f"
            ],
            [
             0.2222222222222222,
             "#7201a8"
            ],
            [
             0.3333333333333333,
             "#9c179e"
            ],
            [
             0.4444444444444444,
             "#bd3786"
            ],
            [
             0.5555555555555556,
             "#d8576b"
            ],
            [
             0.6666666666666666,
             "#ed7953"
            ],
            [
             0.7777777777777778,
             "#fb9f3a"
            ],
            [
             0.8888888888888888,
             "#fdca26"
            ],
            [
             1,
             "#f0f921"
            ]
           ]
          },
          "colorway": [
           "#636efa",
           "#EF553B",
           "#00cc96",
           "#ab63fa",
           "#FFA15A",
           "#19d3f3",
           "#FF6692",
           "#B6E880",
           "#FF97FF",
           "#FECB52"
          ],
          "font": {
           "color": "#2a3f5f"
          },
          "geo": {
           "bgcolor": "white",
           "lakecolor": "white",
           "landcolor": "#E5ECF6",
           "showlakes": true,
           "showland": true,
           "subunitcolor": "white"
          },
          "hoverlabel": {
           "align": "left"
          },
          "hovermode": "closest",
          "mapbox": {
           "style": "light"
          },
          "paper_bgcolor": "white",
          "plot_bgcolor": "#E5ECF6",
          "polar": {
           "angularaxis": {
            "gridcolor": "white",
            "linecolor": "white",
            "ticks": ""
           },
           "bgcolor": "#E5ECF6",
           "radialaxis": {
            "gridcolor": "white",
            "linecolor": "white",
            "ticks": ""
           }
          },
          "scene": {
           "xaxis": {
            "backgroundcolor": "#E5ECF6",
            "gridcolor": "white",
            "gridwidth": 2,
            "linecolor": "white",
            "showbackground": true,
            "ticks": "",
            "zerolinecolor": "white"
           },
           "yaxis": {
            "backgroundcolor": "#E5ECF6",
            "gridcolor": "white",
            "gridwidth": 2,
            "linecolor": "white",
            "showbackground": true,
            "ticks": "",
            "zerolinecolor": "white"
           },
           "zaxis": {
            "backgroundcolor": "#E5ECF6",
            "gridcolor": "white",
            "gridwidth": 2,
            "linecolor": "white",
            "showbackground": true,
            "ticks": "",
            "zerolinecolor": "white"
           }
          },
          "shapedefaults": {
           "line": {
            "color": "#2a3f5f"
           }
          },
          "ternary": {
           "aaxis": {
            "gridcolor": "white",
            "linecolor": "white",
            "ticks": ""
           },
           "baxis": {
            "gridcolor": "white",
            "linecolor": "white",
            "ticks": ""
           },
           "bgcolor": "#E5ECF6",
           "caxis": {
            "gridcolor": "white",
            "linecolor": "white",
            "ticks": ""
           }
          },
          "title": {
           "x": 0.05
          },
          "xaxis": {
           "automargin": true,
           "gridcolor": "white",
           "linecolor": "white",
           "ticks": "",
           "title": {
            "standoff": 15
           },
           "zerolinecolor": "white",
           "zerolinewidth": 2
          },
          "yaxis": {
           "automargin": true,
           "gridcolor": "white",
           "linecolor": "white",
           "ticks": "",
           "title": {
            "standoff": 15
           },
           "zerolinecolor": "white",
           "zerolinewidth": 2
          }
         }
        },
        "title": {
         "text": "Cars Sales Trend Year Wise of Fuel_Types"
        },
        "xaxis": {
         "tickfont": {
          "size": 14
         },
         "title": {
          "text": "Year"
         }
        },
        "yaxis": {
         "tickfont": {
          "size": 14
         },
         "title": {
          "font": {
           "size": 16
          },
          "text": "Count"
         }
        }
       }
      },
      "text/html": [
       "<div>\n",
       "        \n",
       "        \n",
       "            <div id=\"f62d9d6a-7ba0-445e-81a0-2e90fecd74a1\" class=\"plotly-graph-div\" style=\"height:525px; width:100%;\"></div>\n",
       "            <script type=\"text/javascript\">\n",
       "                require([\"plotly\"], function(Plotly) {\n",
       "                    window.PLOTLYENV=window.PLOTLYENV || {};\n",
       "                    \n",
       "                if (document.getElementById(\"f62d9d6a-7ba0-445e-81a0-2e90fecd74a1\")) {\n",
       "                    Plotly.newPlot(\n",
       "                        'f62d9d6a-7ba0-445e-81a0-2e90fecd74a1',\n",
       "                        [{\"marker\": {\"color\": \"rgb(55, 83, 109)\"}, \"name\": \"Petrol_Sales\", \"text\": \"No.of_Sales\", \"type\": \"bar\", \"x\": [2015, 2016, 2017, 2013, 2014, 2011, 2012, 2010, 2008, 2009, 2006, 2005, 2003, 2007, 2004], \"y\": [45, 42, 31, 28, 24, 17, 16, 11, 7, 6, 4, 3, 2, 2, 1]}, {\"marker\": {\"color\": \"rgb(26, 118, 255)\"}, \"name\": \"Diesle_Sales\", \"text\": [15.0, 14.0, 8.0, 7.0, 5.0, 4.0, 4.0, 1.0, 1.0, 1.0], \"type\": \"bar\", \"x\": [2015, 2014, 2016, 2012, 2013, 2010, 2017, 2005, 2011, 2018], \"y\": [15, 14, 8, 7, 5, 4, 4, 1, 1, 1]}],\n",
       "                        {\"bargap\": 0.15, \"bargroupgap\": 0.1, \"barmode\": \"group\", \"legend\": {\"bgcolor\": \"rgba(255, 255, 255, 0)\", \"bordercolor\": \"rgba(255, 255, 255, 0)\", \"x\": 0, \"y\": 1.0}, \"template\": {\"data\": {\"bar\": [{\"error_x\": {\"color\": \"#2a3f5f\"}, \"error_y\": {\"color\": \"#2a3f5f\"}, \"marker\": {\"line\": {\"color\": \"#E5ECF6\", \"width\": 0.5}}, \"type\": \"bar\"}], \"barpolar\": [{\"marker\": {\"line\": {\"color\": \"#E5ECF6\", \"width\": 0.5}}, \"type\": \"barpolar\"}], \"carpet\": [{\"aaxis\": {\"endlinecolor\": \"#2a3f5f\", \"gridcolor\": \"white\", \"linecolor\": \"white\", \"minorgridcolor\": \"white\", \"startlinecolor\": \"#2a3f5f\"}, \"baxis\": {\"endlinecolor\": \"#2a3f5f\", \"gridcolor\": \"white\", \"linecolor\": \"white\", \"minorgridcolor\": \"white\", \"startlinecolor\": \"#2a3f5f\"}, \"type\": \"carpet\"}], \"choropleth\": [{\"colorbar\": {\"outlinewidth\": 0, \"ticks\": \"\"}, \"type\": \"choropleth\"}], \"contour\": [{\"colorbar\": {\"outlinewidth\": 0, \"ticks\": \"\"}, \"colorscale\": [[0.0, \"#0d0887\"], [0.1111111111111111, \"#46039f\"], [0.2222222222222222, \"#7201a8\"], [0.3333333333333333, \"#9c179e\"], [0.4444444444444444, \"#bd3786\"], [0.5555555555555556, \"#d8576b\"], [0.6666666666666666, \"#ed7953\"], [0.7777777777777778, \"#fb9f3a\"], [0.8888888888888888, \"#fdca26\"], [1.0, \"#f0f921\"]], \"type\": \"contour\"}], \"contourcarpet\": [{\"colorbar\": {\"outlinewidth\": 0, \"ticks\": \"\"}, \"type\": \"contourcarpet\"}], \"heatmap\": [{\"colorbar\": {\"outlinewidth\": 0, \"ticks\": \"\"}, \"colorscale\": [[0.0, \"#0d0887\"], [0.1111111111111111, \"#46039f\"], [0.2222222222222222, \"#7201a8\"], [0.3333333333333333, \"#9c179e\"], [0.4444444444444444, \"#bd3786\"], [0.5555555555555556, \"#d8576b\"], [0.6666666666666666, \"#ed7953\"], [0.7777777777777778, \"#fb9f3a\"], [0.8888888888888888, \"#fdca26\"], [1.0, \"#f0f921\"]], \"type\": \"heatmap\"}], \"heatmapgl\": [{\"colorbar\": {\"outlinewidth\": 0, \"ticks\": \"\"}, \"colorscale\": [[0.0, \"#0d0887\"], [0.1111111111111111, \"#46039f\"], [0.2222222222222222, \"#7201a8\"], [0.3333333333333333, \"#9c179e\"], [0.4444444444444444, \"#bd3786\"], [0.5555555555555556, \"#d8576b\"], [0.6666666666666666, \"#ed7953\"], [0.7777777777777778, \"#fb9f3a\"], [0.8888888888888888, \"#fdca26\"], [1.0, \"#f0f921\"]], \"type\": \"heatmapgl\"}], \"histogram\": [{\"marker\": {\"colorbar\": {\"outlinewidth\": 0, \"ticks\": \"\"}}, \"type\": \"histogram\"}], \"histogram2d\": [{\"colorbar\": {\"outlinewidth\": 0, \"ticks\": \"\"}, \"colorscale\": [[0.0, \"#0d0887\"], [0.1111111111111111, \"#46039f\"], [0.2222222222222222, \"#7201a8\"], [0.3333333333333333, \"#9c179e\"], [0.4444444444444444, \"#bd3786\"], [0.5555555555555556, \"#d8576b\"], [0.6666666666666666, \"#ed7953\"], [0.7777777777777778, \"#fb9f3a\"], [0.8888888888888888, \"#fdca26\"], [1.0, \"#f0f921\"]], \"type\": \"histogram2d\"}], \"histogram2dcontour\": [{\"colorbar\": {\"outlinewidth\": 0, \"ticks\": \"\"}, \"colorscale\": [[0.0, \"#0d0887\"], [0.1111111111111111, \"#46039f\"], [0.2222222222222222, \"#7201a8\"], [0.3333333333333333, \"#9c179e\"], [0.4444444444444444, \"#bd3786\"], [0.5555555555555556, \"#d8576b\"], [0.6666666666666666, \"#ed7953\"], [0.7777777777777778, \"#fb9f3a\"], [0.8888888888888888, \"#fdca26\"], [1.0, \"#f0f921\"]], \"type\": \"histogram2dcontour\"}], \"mesh3d\": [{\"colorbar\": {\"outlinewidth\": 0, \"ticks\": \"\"}, \"type\": \"mesh3d\"}], \"parcoords\": [{\"line\": {\"colorbar\": {\"outlinewidth\": 0, \"ticks\": \"\"}}, \"type\": \"parcoords\"}], \"pie\": [{\"automargin\": true, \"type\": \"pie\"}], \"scatter\": [{\"marker\": {\"colorbar\": {\"outlinewidth\": 0, \"ticks\": \"\"}}, \"type\": \"scatter\"}], \"scatter3d\": [{\"line\": {\"colorbar\": {\"outlinewidth\": 0, \"ticks\": \"\"}}, \"marker\": {\"colorbar\": {\"outlinewidth\": 0, \"ticks\": \"\"}}, \"type\": \"scatter3d\"}], \"scattercarpet\": [{\"marker\": {\"colorbar\": {\"outlinewidth\": 0, \"ticks\": \"\"}}, \"type\": \"scattercarpet\"}], \"scattergeo\": [{\"marker\": {\"colorbar\": {\"outlinewidth\": 0, \"ticks\": \"\"}}, \"type\": \"scattergeo\"}], \"scattergl\": [{\"marker\": {\"colorbar\": {\"outlinewidth\": 0, \"ticks\": \"\"}}, \"type\": \"scattergl\"}], \"scattermapbox\": [{\"marker\": {\"colorbar\": {\"outlinewidth\": 0, \"ticks\": \"\"}}, \"type\": \"scattermapbox\"}], \"scatterpolar\": [{\"marker\": {\"colorbar\": {\"outlinewidth\": 0, \"ticks\": \"\"}}, \"type\": \"scatterpolar\"}], \"scatterpolargl\": [{\"marker\": {\"colorbar\": {\"outlinewidth\": 0, \"ticks\": \"\"}}, \"type\": \"scatterpolargl\"}], \"scatterternary\": [{\"marker\": {\"colorbar\": {\"outlinewidth\": 0, \"ticks\": \"\"}}, \"type\": \"scatterternary\"}], \"surface\": [{\"colorbar\": {\"outlinewidth\": 0, \"ticks\": \"\"}, \"colorscale\": [[0.0, \"#0d0887\"], [0.1111111111111111, \"#46039f\"], [0.2222222222222222, \"#7201a8\"], [0.3333333333333333, \"#9c179e\"], [0.4444444444444444, \"#bd3786\"], [0.5555555555555556, \"#d8576b\"], [0.6666666666666666, \"#ed7953\"], [0.7777777777777778, \"#fb9f3a\"], [0.8888888888888888, \"#fdca26\"], [1.0, \"#f0f921\"]], \"type\": \"surface\"}], \"table\": [{\"cells\": {\"fill\": {\"color\": \"#EBF0F8\"}, \"line\": {\"color\": \"white\"}}, \"header\": {\"fill\": {\"color\": \"#C8D4E3\"}, \"line\": {\"color\": \"white\"}}, \"type\": \"table\"}]}, \"layout\": {\"annotationdefaults\": {\"arrowcolor\": \"#2a3f5f\", \"arrowhead\": 0, \"arrowwidth\": 1}, \"coloraxis\": {\"colorbar\": {\"outlinewidth\": 0, \"ticks\": \"\"}}, \"colorscale\": {\"diverging\": [[0, \"#8e0152\"], [0.1, \"#c51b7d\"], [0.2, \"#de77ae\"], [0.3, \"#f1b6da\"], [0.4, \"#fde0ef\"], [0.5, \"#f7f7f7\"], [0.6, \"#e6f5d0\"], [0.7, \"#b8e186\"], [0.8, \"#7fbc41\"], [0.9, \"#4d9221\"], [1, \"#276419\"]], \"sequential\": [[0.0, \"#0d0887\"], [0.1111111111111111, \"#46039f\"], [0.2222222222222222, \"#7201a8\"], [0.3333333333333333, \"#9c179e\"], [0.4444444444444444, \"#bd3786\"], [0.5555555555555556, \"#d8576b\"], [0.6666666666666666, \"#ed7953\"], [0.7777777777777778, \"#fb9f3a\"], [0.8888888888888888, \"#fdca26\"], [1.0, \"#f0f921\"]], \"sequentialminus\": [[0.0, \"#0d0887\"], [0.1111111111111111, \"#46039f\"], [0.2222222222222222, \"#7201a8\"], [0.3333333333333333, \"#9c179e\"], [0.4444444444444444, \"#bd3786\"], [0.5555555555555556, \"#d8576b\"], [0.6666666666666666, \"#ed7953\"], [0.7777777777777778, \"#fb9f3a\"], [0.8888888888888888, \"#fdca26\"], [1.0, \"#f0f921\"]]}, \"colorway\": [\"#636efa\", \"#EF553B\", \"#00cc96\", \"#ab63fa\", \"#FFA15A\", \"#19d3f3\", \"#FF6692\", \"#B6E880\", \"#FF97FF\", \"#FECB52\"], \"font\": {\"color\": \"#2a3f5f\"}, \"geo\": {\"bgcolor\": \"white\", \"lakecolor\": \"white\", \"landcolor\": \"#E5ECF6\", \"showlakes\": true, \"showland\": true, \"subunitcolor\": \"white\"}, \"hoverlabel\": {\"align\": \"left\"}, \"hovermode\": \"closest\", \"mapbox\": {\"style\": \"light\"}, \"paper_bgcolor\": \"white\", \"plot_bgcolor\": \"#E5ECF6\", \"polar\": {\"angularaxis\": {\"gridcolor\": \"white\", \"linecolor\": \"white\", \"ticks\": \"\"}, \"bgcolor\": \"#E5ECF6\", \"radialaxis\": {\"gridcolor\": \"white\", \"linecolor\": \"white\", \"ticks\": \"\"}}, \"scene\": {\"xaxis\": {\"backgroundcolor\": \"#E5ECF6\", \"gridcolor\": \"white\", \"gridwidth\": 2, \"linecolor\": \"white\", \"showbackground\": true, \"ticks\": \"\", \"zerolinecolor\": \"white\"}, \"yaxis\": {\"backgroundcolor\": \"#E5ECF6\", \"gridcolor\": \"white\", \"gridwidth\": 2, \"linecolor\": \"white\", \"showbackground\": true, \"ticks\": \"\", \"zerolinecolor\": \"white\"}, \"zaxis\": {\"backgroundcolor\": \"#E5ECF6\", \"gridcolor\": \"white\", \"gridwidth\": 2, \"linecolor\": \"white\", \"showbackground\": true, \"ticks\": \"\", \"zerolinecolor\": \"white\"}}, \"shapedefaults\": {\"line\": {\"color\": \"#2a3f5f\"}}, \"ternary\": {\"aaxis\": {\"gridcolor\": \"white\", \"linecolor\": \"white\", \"ticks\": \"\"}, \"baxis\": {\"gridcolor\": \"white\", \"linecolor\": \"white\", \"ticks\": \"\"}, \"bgcolor\": \"#E5ECF6\", \"caxis\": {\"gridcolor\": \"white\", \"linecolor\": \"white\", \"ticks\": \"\"}}, \"title\": {\"x\": 0.05}, \"xaxis\": {\"automargin\": true, \"gridcolor\": \"white\", \"linecolor\": \"white\", \"ticks\": \"\", \"title\": {\"standoff\": 15}, \"zerolinecolor\": \"white\", \"zerolinewidth\": 2}, \"yaxis\": {\"automargin\": true, \"gridcolor\": \"white\", \"linecolor\": \"white\", \"ticks\": \"\", \"title\": {\"standoff\": 15}, \"zerolinecolor\": \"white\", \"zerolinewidth\": 2}}}, \"title\": {\"text\": \"Cars Sales Trend Year Wise of Fuel_Types\"}, \"xaxis\": {\"tickfont\": {\"size\": 14}, \"title\": {\"text\": \"Year\"}}, \"yaxis\": {\"tickfont\": {\"size\": 14}, \"title\": {\"font\": {\"size\": 16}, \"text\": \"Count\"}}},\n",
       "                        {\"responsive\": true}\n",
       "                    ).then(function(){\n",
       "                            \n",
       "var gd = document.getElementById('f62d9d6a-7ba0-445e-81a0-2e90fecd74a1');\n",
       "var x = new MutationObserver(function (mutations, observer) {{\n",
       "        var display = window.getComputedStyle(gd).display;\n",
       "        if (!display || display === 'none') {{\n",
       "            console.log([gd, 'removed!']);\n",
       "            Plotly.purge(gd);\n",
       "            observer.disconnect();\n",
       "        }}\n",
       "}});\n",
       "\n",
       "// Listen for the removal of the full notebook cells\n",
       "var notebookContainer = gd.closest('#notebook-container');\n",
       "if (notebookContainer) {{\n",
       "    x.observe(notebookContainer, {childList: true});\n",
       "}}\n",
       "\n",
       "// Listen for the clearing of the current output cell\n",
       "var outputEl = gd.closest('.output');\n",
       "if (outputEl) {{\n",
       "    x.observe(outputEl, {childList: true});\n",
       "}}\n",
       "\n",
       "                        })\n",
       "                };\n",
       "                });\n",
       "            </script>\n",
       "        </div>"
      ]
     },
     "metadata": {},
     "output_type": "display_data"
    }
   ],
   "source": [
    "import plotly.graph_objects as go\n",
    "\n",
    "# years = [1995, 1996, 1997, 1998, 1999, 2000, 2001, 2002, 2003,\n",
    "#          2004, 2005, 2006, 2007, 2008, 2009, 2010, 2011, 2012]\n",
    "\n",
    "fig = go.Figure()\n",
    "fig.add_trace(go.Bar(x=yr_petrol_sales[\"Year\"],\n",
    "                y=yr_petrol_sales[\"No.of_Sales\"],\n",
    "                name='Petrol_Sales',text=\"No.of_Sales\",\n",
    "                marker_color='rgb(55, 83, 109)'\n",
    "                ))\n",
    "fig.add_trace(go.Bar(x=yr_diesel_sales[\"Year\"],\n",
    "                y=yr_diesel_sales[\"No.of_Sales\"],\n",
    "                name='Diesle_Sales',text=yr_diesel_sales[\"No.of_Sales\"],\n",
    "                marker_color='rgb(26, 118, 255)'\n",
    "                ))\n",
    "fig.update_layout(\n",
    "    title='Cars Sales Trend Year Wise of Fuel_Types',\n",
    "    xaxis_tickfont_size=14,\n",
    "    xaxis= dict(title=\"Year\"),\n",
    "    yaxis=dict(\n",
    "        title='Count',\n",
    "        titlefont_size=16,\n",
    "        tickfont_size=14,\n",
    "    ),\n",
    "    legend=dict(\n",
    "        x=0,\n",
    "        y=1.0,\n",
    "        bgcolor='rgba(255, 255, 255, 0)',\n",
    "        bordercolor='rgba(255, 255, 255, 0)'\n",
    "    ),\n",
    "    barmode='group',\n",
    "    bargap=0.15, # gap between bars of adjacent location coordinates.\n",
    "    bargroupgap=0.1 # gap between bars of the same location coordinate.\n",
    ")\n",
    "fig.show()"
   ]
  },
  {
   "cell_type": "code",
   "execution_count": 34,
   "metadata": {},
   "outputs": [
    {
     "data": {
      "image/png": "[encoded data removed]",
      "text/plain": [
       "<Figure size 576x360 with 2 Axes>"
      ]
     },
     "metadata": {
      "needs_background": "light"
     },
     "output_type": "display_data"
    },
    {
     "data": {
      "text/plain": [
       "<Figure size 432x288 with 0 Axes>"
      ]
     },
     "metadata": {},
     "output_type": "display_data"
    }
   ],
   "source": [
    "plt.figure(figsize=(8,5))\n",
    "cmap= df.corr()\n",
    "sns.heatmap(cmap,annot=True)\n",
    "plt.title(\"Correlation B/W Features\", fontdict={'fontsize':15})\n",
    "plt.show()\n",
    "plt.savefig(\"Correlation Matrix.jpg\")"
   ]
  },
  {
   "cell_type": "markdown",
   "metadata": {},
   "source": [
    "## Model Building"
   ]
  },
  {
   "cell_type": "raw",
   "metadata": {},
   "source": [
    "We use PyCaret Library which is the latest library used to build various algorithms, we can stack them together as regressor and can be used to predict."
   ]
  },
  {
   "cell_type": "code",
   "execution_count": 35,
   "metadata": {},
   "outputs": [
    {
     "data": {
      "text/plain": [
       "Index(['Selling_Price', 'Present_Price', 'Kms_Driven', 'Fuel_Type',\n",
       "       'Seller_Type', 'Transmission', 'Owner', 'Years_Used'],\n",
       "      dtype='object')"
      ]
     },
     "execution_count": 35,
     "metadata": {},
     "output_type": "execute_result"
    }
   ],
   "source": [
    "df.drop([\"Car_Name\",'Year'],axis=1,inplace=True)\n",
    "df.columns"
   ]
  },
  {
   "cell_type": "code",
   "execution_count": 36,
   "metadata": {},
   "outputs": [
    {
     "data": {
      "text/html": [
       "<div>\n",
       "<style scoped>\n",
       "    .dataframe tbody tr th:only-of-type {\n",
       "        vertical-align: middle;\n",
       "    }\n",
       "\n",
       "    .dataframe tbody tr th {\n",
       "        vertical-align: top;\n",
       "    }\n",
       "\n",
       "    .dataframe thead th {\n",
       "        text-align: right;\n",
       "    }\n",
       "</style>\n",
       "<table border=\"1\" class=\"dataframe\">\n",
       "  <thead>\n",
       "    <tr style=\"text-align: right;\">\n",
       "      <th></th>\n",
       "      <th>Selling_Price</th>\n",
       "      <th>Present_Price</th>\n",
       "      <th>Kms_Driven</th>\n",
       "      <th>Fuel_Type</th>\n",
       "      <th>Seller_Type</th>\n",
       "      <th>Transmission</th>\n",
       "      <th>Owner</th>\n",
       "      <th>Years_Used</th>\n",
       "    </tr>\n",
       "  </thead>\n",
       "  <tbody>\n",
       "    <tr>\n",
       "      <th>0</th>\n",
       "      <td>3.35</td>\n",
       "      <td>5.59</td>\n",
       "      <td>27000</td>\n",
       "      <td>Petrol</td>\n",
       "      <td>Dealer</td>\n",
       "      <td>Manual</td>\n",
       "      <td>0</td>\n",
       "      <td>7</td>\n",
       "    </tr>\n",
       "    <tr>\n",
       "      <th>1</th>\n",
       "      <td>4.75</td>\n",
       "      <td>9.54</td>\n",
       "      <td>43000</td>\n",
       "      <td>Diesel</td>\n",
       "      <td>Dealer</td>\n",
       "      <td>Manual</td>\n",
       "      <td>0</td>\n",
       "      <td>8</td>\n",
       "    </tr>\n",
       "  </tbody>\n",
       "</table>\n",
       "</div>"
      ],
      "text/plain": [
       "   Selling_Price  Present_Price  Kms_Driven Fuel_Type Seller_Type  \\\n",
       "0           3.35           5.59       27000    Petrol      Dealer   \n",
       "1           4.75           9.54       43000    Diesel      Dealer   \n",
       "\n",
       "  Transmission  Owner  Years_Used  \n",
       "0       Manual      0           7  \n",
       "1       Manual      0           8  "
      ]
     },
     "execution_count": 36,
     "metadata": {},
     "output_type": "execute_result"
    }
   ],
   "source": [
    "df.head(2)"
   ]
  },
  {
   "cell_type": "code",
   "execution_count": 47,
   "metadata": {},
   "outputs": [
    {
     "name": "stdout",
     "output_type": "stream",
     "text": [
      " \n",
      "Setup Succesfully Completed.\n"
     ]
    },
    {
     "data": {
      "text/html": [
       "<style  type=\"text/css\" >\n",
       "</style><table id=\"T_d80a0_\" ><thead>    <tr>        <th class=\"blank level0\" ></th>        <th class=\"col_heading level0 col0\" >Description</th>        <th class=\"col_heading level0 col1\" >Value</th>    </tr></thead><tbody>\n",
       "                <tr>\n",
       "                        <th id=\"T_d80a0_level0_row0\" class=\"row_heading level0 row0\" >0</th>\n",
       "                        <td id=\"T_d80a0_row0_col0\" class=\"data row0 col0\" >session_id</td>\n",
       "                        <td id=\"T_d80a0_row0_col1\" class=\"data row0 col1\" >6025</td>\n",
       "            </tr>\n",
       "            <tr>\n",
       "                        <th id=\"T_d80a0_level0_row1\" class=\"row_heading level0 row1\" >1</th>\n",
       "                        <td id=\"T_d80a0_row1_col0\" class=\"data row1 col0\" >Transform Target </td>\n",
       "                        <td id=\"T_d80a0_row1_col1\" class=\"data row1 col1\" >False</td>\n",
       "            </tr>\n",
       "            <tr>\n",
       "                        <th id=\"T_d80a0_level0_row2\" class=\"row_heading level0 row2\" >2</th>\n",
       "                        <td id=\"T_d80a0_row2_col0\" class=\"data row2 col0\" >Transform Target Method</td>\n",
       "                        <td id=\"T_d80a0_row2_col1\" class=\"data row2 col1\" >None</td>\n",
       "            </tr>\n",
       "            <tr>\n",
       "                        <th id=\"T_d80a0_level0_row3\" class=\"row_heading level0 row3\" >3</th>\n",
       "                        <td id=\"T_d80a0_row3_col0\" class=\"data row3 col0\" >Original Data</td>\n",
       "                        <td id=\"T_d80a0_row3_col1\" class=\"data row3 col1\" >(301, 8)</td>\n",
       "            </tr>\n",
       "            <tr>\n",
       "                        <th id=\"T_d80a0_level0_row4\" class=\"row_heading level0 row4\" >4</th>\n",
       "                        <td id=\"T_d80a0_row4_col0\" class=\"data row4 col0\" >Missing Values </td>\n",
       "                        <td id=\"T_d80a0_row4_col1\" class=\"data row4 col1\" >False</td>\n",
       "            </tr>\n",
       "            <tr>\n",
       "                        <th id=\"T_d80a0_level0_row5\" class=\"row_heading level0 row5\" >5</th>\n",
       "                        <td id=\"T_d80a0_row5_col0\" class=\"data row5 col0\" >Numeric Features </td>\n",
       "                        <td id=\"T_d80a0_row5_col1\" class=\"data row5 col1\" >4</td>\n",
       "            </tr>\n",
       "            <tr>\n",
       "                        <th id=\"T_d80a0_level0_row6\" class=\"row_heading level0 row6\" >6</th>\n",
       "                        <td id=\"T_d80a0_row6_col0\" class=\"data row6 col0\" >Categorical Features </td>\n",
       "                        <td id=\"T_d80a0_row6_col1\" class=\"data row6 col1\" >3</td>\n",
       "            </tr>\n",
       "            <tr>\n",
       "                        <th id=\"T_d80a0_level0_row7\" class=\"row_heading level0 row7\" >7</th>\n",
       "                        <td id=\"T_d80a0_row7_col0\" class=\"data row7 col0\" >Ordinal Features </td>\n",
       "                        <td id=\"T_d80a0_row7_col1\" class=\"data row7 col1\" >False</td>\n",
       "            </tr>\n",
       "            <tr>\n",
       "                        <th id=\"T_d80a0_level0_row8\" class=\"row_heading level0 row8\" >8</th>\n",
       "                        <td id=\"T_d80a0_row8_col0\" class=\"data row8 col0\" >High Cardinality Features </td>\n",
       "                        <td id=\"T_d80a0_row8_col1\" class=\"data row8 col1\" >False</td>\n",
       "            </tr>\n",
       "            <tr>\n",
       "                        <th id=\"T_d80a0_level0_row9\" class=\"row_heading level0 row9\" >9</th>\n",
       "                        <td id=\"T_d80a0_row9_col0\" class=\"data row9 col0\" >High Cardinality Method </td>\n",
       "                        <td id=\"T_d80a0_row9_col1\" class=\"data row9 col1\" >None</td>\n",
       "            </tr>\n",
       "            <tr>\n",
       "                        <th id=\"T_d80a0_level0_row10\" class=\"row_heading level0 row10\" >10</th>\n",
       "                        <td id=\"T_d80a0_row10_col0\" class=\"data row10 col0\" >Sampled Data</td>\n",
       "                        <td id=\"T_d80a0_row10_col1\" class=\"data row10 col1\" >(301, 8)</td>\n",
       "            </tr>\n",
       "            <tr>\n",
       "                        <th id=\"T_d80a0_level0_row11\" class=\"row_heading level0 row11\" >11</th>\n",
       "                        <td id=\"T_d80a0_row11_col0\" class=\"data row11 col0\" >Transformed Train Set</td>\n",
       "                        <td id=\"T_d80a0_row11_col1\" class=\"data row11 col1\" >(210, 11)</td>\n",
       "            </tr>\n",
       "            <tr>\n",
       "                        <th id=\"T_d80a0_level0_row12\" class=\"row_heading level0 row12\" >12</th>\n",
       "                        <td id=\"T_d80a0_row12_col0\" class=\"data row12 col0\" >Transformed Test Set</td>\n",
       "                        <td id=\"T_d80a0_row12_col1\" class=\"data row12 col1\" >(91, 11)</td>\n",
       "            </tr>\n",
       "            <tr>\n",
       "                        <th id=\"T_d80a0_level0_row13\" class=\"row_heading level0 row13\" >13</th>\n",
       "                        <td id=\"T_d80a0_row13_col0\" class=\"data row13 col0\" >Numeric Imputer </td>\n",
       "                        <td id=\"T_d80a0_row13_col1\" class=\"data row13 col1\" >mean</td>\n",
       "            </tr>\n",
       "            <tr>\n",
       "                        <th id=\"T_d80a0_level0_row14\" class=\"row_heading level0 row14\" >14</th>\n",
       "                        <td id=\"T_d80a0_row14_col0\" class=\"data row14 col0\" >Categorical Imputer </td>\n",
       "                        <td id=\"T_d80a0_row14_col1\" class=\"data row14 col1\" >constant</td>\n",
       "            </tr>\n",
       "            <tr>\n",
       "                        <th id=\"T_d80a0_level0_row15\" class=\"row_heading level0 row15\" >15</th>\n",
       "                        <td id=\"T_d80a0_row15_col0\" class=\"data row15 col0\" >Normalize </td>\n",
       "                        <td id=\"T_d80a0_row15_col1\" class=\"data row15 col1\" >False</td>\n",
       "            </tr>\n",
       "            <tr>\n",
       "                        <th id=\"T_d80a0_level0_row16\" class=\"row_heading level0 row16\" >16</th>\n",
       "                        <td id=\"T_d80a0_row16_col0\" class=\"data row16 col0\" >Normalize Method </td>\n",
       "                        <td id=\"T_d80a0_row16_col1\" class=\"data row16 col1\" >None</td>\n",
       "            </tr>\n",
       "            <tr>\n",
       "                        <th id=\"T_d80a0_level0_row17\" class=\"row_heading level0 row17\" >17</th>\n",
       "                        <td id=\"T_d80a0_row17_col0\" class=\"data row17 col0\" >Transformation </td>\n",
       "                        <td id=\"T_d80a0_row17_col1\" class=\"data row17 col1\" >False</td>\n",
       "            </tr>\n",
       "            <tr>\n",
       "                        <th id=\"T_d80a0_level0_row18\" class=\"row_heading level0 row18\" >18</th>\n",
       "                        <td id=\"T_d80a0_row18_col0\" class=\"data row18 col0\" >Transformation Method </td>\n",
       "                        <td id=\"T_d80a0_row18_col1\" class=\"data row18 col1\" >None</td>\n",
       "            </tr>\n",
       "            <tr>\n",
       "                        <th id=\"T_d80a0_level0_row19\" class=\"row_heading level0 row19\" >19</th>\n",
       "                        <td id=\"T_d80a0_row19_col0\" class=\"data row19 col0\" >PCA </td>\n",
       "                        <td id=\"T_d80a0_row19_col1\" class=\"data row19 col1\" >False</td>\n",
       "            </tr>\n",
       "            <tr>\n",
       "                        <th id=\"T_d80a0_level0_row20\" class=\"row_heading level0 row20\" >20</th>\n",
       "                        <td id=\"T_d80a0_row20_col0\" class=\"data row20 col0\" >PCA Method </td>\n",
       "                        <td id=\"T_d80a0_row20_col1\" class=\"data row20 col1\" >None</td>\n",
       "            </tr>\n",
       "            <tr>\n",
       "                        <th id=\"T_d80a0_level0_row21\" class=\"row_heading level0 row21\" >21</th>\n",
       "                        <td id=\"T_d80a0_row21_col0\" class=\"data row21 col0\" >PCA Components </td>\n",
       "                        <td id=\"T_d80a0_row21_col1\" class=\"data row21 col1\" >None</td>\n",
       "            </tr>\n",
       "            <tr>\n",
       "                        <th id=\"T_d80a0_level0_row22\" class=\"row_heading level0 row22\" >22</th>\n",
       "                        <td id=\"T_d80a0_row22_col0\" class=\"data row22 col0\" >Ignore Low Variance </td>\n",
       "                        <td id=\"T_d80a0_row22_col1\" class=\"data row22 col1\" >False</td>\n",
       "            </tr>\n",
       "            <tr>\n",
       "                        <th id=\"T_d80a0_level0_row23\" class=\"row_heading level0 row23\" >23</th>\n",
       "                        <td id=\"T_d80a0_row23_col0\" class=\"data row23 col0\" >Combine Rare Levels </td>\n",
       "                        <td id=\"T_d80a0_row23_col1\" class=\"data row23 col1\" >False</td>\n",
       "            </tr>\n",
       "            <tr>\n",
       "                        <th id=\"T_d80a0_level0_row24\" class=\"row_heading level0 row24\" >24</th>\n",
       "                        <td id=\"T_d80a0_row24_col0\" class=\"data row24 col0\" >Rare Level Threshold </td>\n",
       "                        <td id=\"T_d80a0_row24_col1\" class=\"data row24 col1\" >None</td>\n",
       "            </tr>\n",
       "            <tr>\n",
       "                        <th id=\"T_d80a0_level0_row25\" class=\"row_heading level0 row25\" >25</th>\n",
       "                        <td id=\"T_d80a0_row25_col0\" class=\"data row25 col0\" >Numeric Binning </td>\n",
       "                        <td id=\"T_d80a0_row25_col1\" class=\"data row25 col1\" >False</td>\n",
       "            </tr>\n",
       "            <tr>\n",
       "                        <th id=\"T_d80a0_level0_row26\" class=\"row_heading level0 row26\" >26</th>\n",
       "                        <td id=\"T_d80a0_row26_col0\" class=\"data row26 col0\" >Remove Outliers </td>\n",
       "                        <td id=\"T_d80a0_row26_col1\" class=\"data row26 col1\" >False</td>\n",
       "            </tr>\n",
       "            <tr>\n",
       "                        <th id=\"T_d80a0_level0_row27\" class=\"row_heading level0 row27\" >27</th>\n",
       "                        <td id=\"T_d80a0_row27_col0\" class=\"data row27 col0\" >Outliers Threshold </td>\n",
       "                        <td id=\"T_d80a0_row27_col1\" class=\"data row27 col1\" >None</td>\n",
       "            </tr>\n",
       "            <tr>\n",
       "                        <th id=\"T_d80a0_level0_row28\" class=\"row_heading level0 row28\" >28</th>\n",
       "                        <td id=\"T_d80a0_row28_col0\" class=\"data row28 col0\" >Remove Multicollinearity </td>\n",
       "                        <td id=\"T_d80a0_row28_col1\" class=\"data row28 col1\" >False</td>\n",
       "            </tr>\n",
       "            <tr>\n",
       "                        <th id=\"T_d80a0_level0_row29\" class=\"row_heading level0 row29\" >29</th>\n",
       "                        <td id=\"T_d80a0_row29_col0\" class=\"data row29 col0\" >Multicollinearity Threshold </td>\n",
       "                        <td id=\"T_d80a0_row29_col1\" class=\"data row29 col1\" >None</td>\n",
       "            </tr>\n",
       "            <tr>\n",
       "                        <th id=\"T_d80a0_level0_row30\" class=\"row_heading level0 row30\" >30</th>\n",
       "                        <td id=\"T_d80a0_row30_col0\" class=\"data row30 col0\" >Clustering </td>\n",
       "                        <td id=\"T_d80a0_row30_col1\" class=\"data row30 col1\" >False</td>\n",
       "            </tr>\n",
       "            <tr>\n",
       "                        <th id=\"T_d80a0_level0_row31\" class=\"row_heading level0 row31\" >31</th>\n",
       "                        <td id=\"T_d80a0_row31_col0\" class=\"data row31 col0\" >Clustering Iteration </td>\n",
       "                        <td id=\"T_d80a0_row31_col1\" class=\"data row31 col1\" >None</td>\n",
       "            </tr>\n",
       "            <tr>\n",
       "                        <th id=\"T_d80a0_level0_row32\" class=\"row_heading level0 row32\" >32</th>\n",
       "                        <td id=\"T_d80a0_row32_col0\" class=\"data row32 col0\" >Polynomial Features </td>\n",
       "                        <td id=\"T_d80a0_row32_col1\" class=\"data row32 col1\" >False</td>\n",
       "            </tr>\n",
       "            <tr>\n",
       "                        <th id=\"T_d80a0_level0_row33\" class=\"row_heading level0 row33\" >33</th>\n",
       "                        <td id=\"T_d80a0_row33_col0\" class=\"data row33 col0\" >Polynomial Degree </td>\n",
       "                        <td id=\"T_d80a0_row33_col1\" class=\"data row33 col1\" >None</td>\n",
       "            </tr>\n",
       "            <tr>\n",
       "                        <th id=\"T_d80a0_level0_row34\" class=\"row_heading level0 row34\" >34</th>\n",
       "                        <td id=\"T_d80a0_row34_col0\" class=\"data row34 col0\" >Trignometry Features </td>\n",
       "                        <td id=\"T_d80a0_row34_col1\" class=\"data row34 col1\" >False</td>\n",
       "            </tr>\n",
       "            <tr>\n",
       "                        <th id=\"T_d80a0_level0_row35\" class=\"row_heading level0 row35\" >35</th>\n",
       "                        <td id=\"T_d80a0_row35_col0\" class=\"data row35 col0\" >Polynomial Threshold </td>\n",
       "                        <td id=\"T_d80a0_row35_col1\" class=\"data row35 col1\" >None</td>\n",
       "            </tr>\n",
       "            <tr>\n",
       "                        <th id=\"T_d80a0_level0_row36\" class=\"row_heading level0 row36\" >36</th>\n",
       "                        <td id=\"T_d80a0_row36_col0\" class=\"data row36 col0\" >Group Features </td>\n",
       "                        <td id=\"T_d80a0_row36_col1\" class=\"data row36 col1\" >False</td>\n",
       "            </tr>\n",
       "            <tr>\n",
       "                        <th id=\"T_d80a0_level0_row37\" class=\"row_heading level0 row37\" >37</th>\n",
       "                        <td id=\"T_d80a0_row37_col0\" class=\"data row37 col0\" >Feature Selection </td>\n",
       "                        <td id=\"T_d80a0_row37_col1\" class=\"data row37 col1\" >False</td>\n",
       "            </tr>\n",
       "            <tr>\n",
       "                        <th id=\"T_d80a0_level0_row38\" class=\"row_heading level0 row38\" >38</th>\n",
       "                        <td id=\"T_d80a0_row38_col0\" class=\"data row38 col0\" >Features Selection Threshold </td>\n",
       "                        <td id=\"T_d80a0_row38_col1\" class=\"data row38 col1\" >None</td>\n",
       "            </tr>\n",
       "            <tr>\n",
       "                        <th id=\"T_d80a0_level0_row39\" class=\"row_heading level0 row39\" >39</th>\n",
       "                        <td id=\"T_d80a0_row39_col0\" class=\"data row39 col0\" >Feature Interaction </td>\n",
       "                        <td id=\"T_d80a0_row39_col1\" class=\"data row39 col1\" >False</td>\n",
       "            </tr>\n",
       "            <tr>\n",
       "                        <th id=\"T_d80a0_level0_row40\" class=\"row_heading level0 row40\" >40</th>\n",
       "                        <td id=\"T_d80a0_row40_col0\" class=\"data row40 col0\" >Feature Ratio </td>\n",
       "                        <td id=\"T_d80a0_row40_col1\" class=\"data row40 col1\" >False</td>\n",
       "            </tr>\n",
       "            <tr>\n",
       "                        <th id=\"T_d80a0_level0_row41\" class=\"row_heading level0 row41\" >41</th>\n",
       "                        <td id=\"T_d80a0_row41_col0\" class=\"data row41 col0\" >Interaction Threshold </td>\n",
       "                        <td id=\"T_d80a0_row41_col1\" class=\"data row41 col1\" >None</td>\n",
       "            </tr>\n",
       "    </tbody></table>"
      ],
      "text/plain": [
       "<pandas.io.formats.style.Styler at 0x10b3fc94be0>"
      ]
     },
     "metadata": {},
     "output_type": "display_data"
    }
   ],
   "source": [
    "from pycaret.regression import *\n",
    "exp1 = setup(df, target = 'Selling_Price',numeric_features=[\"Years_Used\",\"Owner\"])"
   ]
  },
  {
   "cell_type": "code",
   "execution_count": 216,
   "metadata": {},
   "outputs": [
    {
     "data": {
      "text/html": [
       "<div>\n",
       "<style scoped>\n",
       "    .dataframe tbody tr th:only-of-type {\n",
       "        vertical-align: middle;\n",
       "    }\n",
       "\n",
       "    .dataframe tbody tr th {\n",
       "        vertical-align: top;\n",
       "    }\n",
       "\n",
       "    .dataframe thead th {\n",
       "        text-align: right;\n",
       "    }\n",
       "</style>\n",
       "<table border=\"1\" class=\"dataframe\">\n",
       "  <thead>\n",
       "    <tr style=\"text-align: right;\">\n",
       "      <th></th>\n",
       "      <th>Name</th>\n",
       "      <th>Reference</th>\n",
       "      <th>Turbo</th>\n",
       "    </tr>\n",
       "    <tr>\n",
       "      <th>ID</th>\n",
       "      <th></th>\n",
       "      <th></th>\n",
       "      <th></th>\n",
       "    </tr>\n",
       "  </thead>\n",
       "  <tbody>\n",
       "    <tr>\n",
       "      <th>lr</th>\n",
       "      <td>Linear Regression</td>\n",
       "      <td>sklearn.linear_model.LinearRegression</td>\n",
       "      <td>True</td>\n",
       "    </tr>\n",
       "    <tr>\n",
       "      <th>lasso</th>\n",
       "      <td>Lasso Regression</td>\n",
       "      <td>sklearn.linear_model.Lasso</td>\n",
       "      <td>True</td>\n",
       "    </tr>\n",
       "    <tr>\n",
       "      <th>ridge</th>\n",
       "      <td>Ridge Regression</td>\n",
       "      <td>sklearn.linear_model.Ridge</td>\n",
       "      <td>True</td>\n",
       "    </tr>\n",
       "    <tr>\n",
       "      <th>en</th>\n",
       "      <td>Elastic Net</td>\n",
       "      <td>sklearn.linear_model.ElasticNet</td>\n",
       "      <td>True</td>\n",
       "    </tr>\n",
       "    <tr>\n",
       "      <th>lar</th>\n",
       "      <td>Least Angle Regression</td>\n",
       "      <td>sklearn.linear_model.Lars</td>\n",
       "      <td>True</td>\n",
       "    </tr>\n",
       "    <tr>\n",
       "      <th>llar</th>\n",
       "      <td>Lasso Least Angle Regression</td>\n",
       "      <td>sklearn.linear_model.LassoLars</td>\n",
       "      <td>True</td>\n",
       "    </tr>\n",
       "    <tr>\n",
       "      <th>omp</th>\n",
       "      <td>Orthogonal Matching Pursuit</td>\n",
       "      <td>sklearn.linear_model.OMP</td>\n",
       "      <td>True</td>\n",
       "    </tr>\n",
       "    <tr>\n",
       "      <th>br</th>\n",
       "      <td>Bayesian Ridge</td>\n",
       "      <td>sklearn.linear_model.BayesianRidge</td>\n",
       "      <td>True</td>\n",
       "    </tr>\n",
       "    <tr>\n",
       "      <th>ard</th>\n",
       "      <td>Automatic Relevance Determination</td>\n",
       "      <td>sklearn.linear_model.ARDRegression</td>\n",
       "      <td>False</td>\n",
       "    </tr>\n",
       "    <tr>\n",
       "      <th>par</th>\n",
       "      <td>Passive Aggressive Regressor</td>\n",
       "      <td>sklearn.linear_model.PAR</td>\n",
       "      <td>True</td>\n",
       "    </tr>\n",
       "    <tr>\n",
       "      <th>ransac</th>\n",
       "      <td>Random Sample Consensus</td>\n",
       "      <td>sklearn.linear_model.RANSACRegressor</td>\n",
       "      <td>True</td>\n",
       "    </tr>\n",
       "    <tr>\n",
       "      <th>tr</th>\n",
       "      <td>TheilSen Regressor</td>\n",
       "      <td>sklearn.linear_model.TheilSenRegressor</td>\n",
       "      <td>True</td>\n",
       "    </tr>\n",
       "    <tr>\n",
       "      <th>huber</th>\n",
       "      <td>Huber Regressor</td>\n",
       "      <td>sklearn.linear_model.HuberRegressor</td>\n",
       "      <td>True</td>\n",
       "    </tr>\n",
       "    <tr>\n",
       "      <th>kr</th>\n",
       "      <td>Kernel Ridge</td>\n",
       "      <td>sklearn.kernel_ridge.KernelRidge</td>\n",
       "      <td>False</td>\n",
       "    </tr>\n",
       "    <tr>\n",
       "      <th>svm</th>\n",
       "      <td>Support Vector Machine</td>\n",
       "      <td>sklearn.svm.SVR</td>\n",
       "      <td>True</td>\n",
       "    </tr>\n",
       "    <tr>\n",
       "      <th>knn</th>\n",
       "      <td>K Neighbors Regressor</td>\n",
       "      <td>sklearn.neighbors.KNeighborsRegressor</td>\n",
       "      <td>True</td>\n",
       "    </tr>\n",
       "    <tr>\n",
       "      <th>dt</th>\n",
       "      <td>Decision Tree</td>\n",
       "      <td>sklearn.tree.DecisionTreeRegressor</td>\n",
       "      <td>True</td>\n",
       "    </tr>\n",
       "    <tr>\n",
       "      <th>rf</th>\n",
       "      <td>Random Forest</td>\n",
       "      <td>sklearn.ensemble.RandomForestRegressor</td>\n",
       "      <td>True</td>\n",
       "    </tr>\n",
       "    <tr>\n",
       "      <th>et</th>\n",
       "      <td>Extra Trees Regressor</td>\n",
       "      <td>sklearn.ensemble.ExtraTreesRegressor</td>\n",
       "      <td>True</td>\n",
       "    </tr>\n",
       "    <tr>\n",
       "      <th>ada</th>\n",
       "      <td>AdaBoost Regressor</td>\n",
       "      <td>sklearn.ensemble.AdaBoostRegressor</td>\n",
       "      <td>True</td>\n",
       "    </tr>\n",
       "    <tr>\n",
       "      <th>gbr</th>\n",
       "      <td>Gradient Boosting Regressor</td>\n",
       "      <td>sklearn.ensemble.GradientBoostingRegressor</td>\n",
       "      <td>True</td>\n",
       "    </tr>\n",
       "    <tr>\n",
       "      <th>mlp</th>\n",
       "      <td>Multi Level Perceptron</td>\n",
       "      <td>sklearn.neural_network.MLPRegressor</td>\n",
       "      <td>False</td>\n",
       "    </tr>\n",
       "    <tr>\n",
       "      <th>xgboost</th>\n",
       "      <td>Extreme Gradient Boosting</td>\n",
       "      <td>xgboost.readthedocs.io</td>\n",
       "      <td>True</td>\n",
       "    </tr>\n",
       "    <tr>\n",
       "      <th>lightgbm</th>\n",
       "      <td>Light Gradient Boosting Machine</td>\n",
       "      <td>github.com/microsoft/LightGBM</td>\n",
       "      <td>True</td>\n",
       "    </tr>\n",
       "    <tr>\n",
       "      <th>catboost</th>\n",
       "      <td>CatBoost Regressor</td>\n",
       "      <td>https://catboost.ai</td>\n",
       "      <td>True</td>\n",
       "    </tr>\n",
       "  </tbody>\n",
       "</table>\n",
       "</div>"
      ],
      "text/plain": [
       "                                       Name  \\\n",
       "ID                                            \n",
       "lr                        Linear Regression   \n",
       "lasso                      Lasso Regression   \n",
       "ridge                      Ridge Regression   \n",
       "en                              Elastic Net   \n",
       "lar                  Least Angle Regression   \n",
       "llar           Lasso Least Angle Regression   \n",
       "omp             Orthogonal Matching Pursuit   \n",
       "br                           Bayesian Ridge   \n",
       "ard       Automatic Relevance Determination   \n",
       "par            Passive Aggressive Regressor   \n",
       "ransac              Random Sample Consensus   \n",
       "tr                       TheilSen Regressor   \n",
       "huber                       Huber Regressor   \n",
       "kr                             Kernel Ridge   \n",
       "svm                  Support Vector Machine   \n",
       "knn                   K Neighbors Regressor   \n",
       "dt                            Decision Tree   \n",
       "rf                            Random Forest   \n",
       "et                    Extra Trees Regressor   \n",
       "ada                      AdaBoost Regressor   \n",
       "gbr             Gradient Boosting Regressor   \n",
       "mlp                  Multi Level Perceptron   \n",
       "xgboost           Extreme Gradient Boosting   \n",
       "lightgbm    Light Gradient Boosting Machine   \n",
       "catboost                 CatBoost Regressor   \n",
       "\n",
       "                                           Reference  Turbo  \n",
       "ID                                                           \n",
       "lr             sklearn.linear_model.LinearRegression   True  \n",
       "lasso                     sklearn.linear_model.Lasso   True  \n",
       "ridge                     sklearn.linear_model.Ridge   True  \n",
       "en                   sklearn.linear_model.ElasticNet   True  \n",
       "lar                        sklearn.linear_model.Lars   True  \n",
       "llar                  sklearn.linear_model.LassoLars   True  \n",
       "omp                         sklearn.linear_model.OMP   True  \n",
       "br                sklearn.linear_model.BayesianRidge   True  \n",
       "ard               sklearn.linear_model.ARDRegression  False  \n",
       "par                         sklearn.linear_model.PAR   True  \n",
       "ransac          sklearn.linear_model.RANSACRegressor   True  \n",
       "tr            sklearn.linear_model.TheilSenRegressor   True  \n",
       "huber            sklearn.linear_model.HuberRegressor   True  \n",
       "kr                  sklearn.kernel_ridge.KernelRidge  False  \n",
       "svm                                  sklearn.svm.SVR   True  \n",
       "knn            sklearn.neighbors.KNeighborsRegressor   True  \n",
       "dt                sklearn.tree.DecisionTreeRegressor   True  \n",
       "rf            sklearn.ensemble.RandomForestRegressor   True  \n",
       "et              sklearn.ensemble.ExtraTreesRegressor   True  \n",
       "ada               sklearn.ensemble.AdaBoostRegressor   True  \n",
       "gbr       sklearn.ensemble.GradientBoostingRegressor   True  \n",
       "mlp              sklearn.neural_network.MLPRegressor  False  \n",
       "xgboost                       xgboost.readthedocs.io   True  \n",
       "lightgbm               github.com/microsoft/LightGBM   True  \n",
       "catboost                         https://catboost.ai   True  "
      ]
     },
     "execution_count": 216,
     "metadata": {},
     "output_type": "execute_result"
    }
   ],
   "source": [
    "#These are the list of  Regression models used in the PyCaret \n",
    "all_models = models()\n",
    "all_models"
   ]
  },
  {
   "cell_type": "code",
   "execution_count": 196,
   "metadata": {},
   "outputs": [
    {
     "data": {
      "text/html": [
       "<style  type=\"text/css\" >\n",
       "    #T_d2a5c_ th {\n",
       "          text-align: left;\n",
       "    }#T_d2a5c_row0_col0,#T_d2a5c_row0_col1,#T_d2a5c_row0_col5,#T_d2a5c_row0_col6,#T_d2a5c_row1_col0,#T_d2a5c_row1_col1,#T_d2a5c_row1_col2,#T_d2a5c_row1_col3,#T_d2a5c_row1_col4,#T_d2a5c_row1_col5,#T_d2a5c_row1_col6,#T_d2a5c_row2_col0,#T_d2a5c_row2_col1,#T_d2a5c_row2_col2,#T_d2a5c_row2_col3,#T_d2a5c_row2_col4,#T_d2a5c_row2_col6,#T_d2a5c_row3_col0,#T_d2a5c_row3_col2,#T_d2a5c_row3_col3,#T_d2a5c_row3_col4,#T_d2a5c_row3_col5,#T_d2a5c_row3_col6,#T_d2a5c_row4_col0,#T_d2a5c_row4_col1,#T_d2a5c_row4_col2,#T_d2a5c_row4_col3,#T_d2a5c_row4_col4,#T_d2a5c_row4_col5,#T_d2a5c_row5_col0,#T_d2a5c_row5_col1,#T_d2a5c_row5_col2,#T_d2a5c_row5_col3,#T_d2a5c_row5_col4,#T_d2a5c_row5_col5,#T_d2a5c_row5_col6,#T_d2a5c_row6_col0,#T_d2a5c_row6_col1,#T_d2a5c_row6_col2,#T_d2a5c_row6_col3,#T_d2a5c_row6_col4,#T_d2a5c_row6_col5,#T_d2a5c_row6_col6,#T_d2a5c_row7_col0,#T_d2a5c_row7_col1,#T_d2a5c_row7_col2,#T_d2a5c_row7_col3,#T_d2a5c_row7_col4,#T_d2a5c_row7_col5,#T_d2a5c_row7_col6,#T_d2a5c_row8_col0,#T_d2a5c_row8_col1,#T_d2a5c_row8_col2,#T_d2a5c_row8_col3,#T_d2a5c_row8_col4,#T_d2a5c_row8_col5,#T_d2a5c_row8_col6,#T_d2a5c_row9_col0,#T_d2a5c_row9_col1,#T_d2a5c_row9_col2,#T_d2a5c_row9_col3,#T_d2a5c_row9_col4,#T_d2a5c_row9_col5,#T_d2a5c_row9_col6,#T_d2a5c_row10_col0,#T_d2a5c_row10_col1,#T_d2a5c_row10_col2,#T_d2a5c_row10_col3,#T_d2a5c_row10_col4,#T_d2a5c_row10_col5,#T_d2a5c_row10_col6,#T_d2a5c_row11_col0,#T_d2a5c_row11_col1,#T_d2a5c_row11_col2,#T_d2a5c_row11_col3,#T_d2a5c_row11_col4,#T_d2a5c_row11_col5,#T_d2a5c_row11_col6,#T_d2a5c_row12_col0,#T_d2a5c_row12_col1,#T_d2a5c_row12_col2,#T_d2a5c_row12_col3,#T_d2a5c_row12_col4,#T_d2a5c_row12_col5,#T_d2a5c_row12_col6,#T_d2a5c_row13_col0,#T_d2a5c_row13_col1,#T_d2a5c_row13_col2,#T_d2a5c_row13_col3,#T_d2a5c_row13_col4,#T_d2a5c_row13_col5,#T_d2a5c_row13_col6,#T_d2a5c_row14_col0,#T_d2a5c_row14_col1,#T_d2a5c_row14_col2,#T_d2a5c_row14_col3,#T_d2a5c_row14_col4,#T_d2a5c_row14_col5,#T_d2a5c_row14_col6,#T_d2a5c_row15_col0,#T_d2a5c_row15_col1,#T_d2a5c_row15_col2,#T_d2a5c_row15_col3,#T_d2a5c_row15_col4,#T_d2a5c_row15_col5,#T_d2a5c_row15_col6,#T_d2a5c_row16_col0,#T_d2a5c_row16_col1,#T_d2a5c_row16_col2,#T_d2a5c_row16_col3,#T_d2a5c_row16_col4,#T_d2a5c_row16_col5,#T_d2a5c_row16_col6,#T_d2a5c_row17_col0,#T_d2a5c_row17_col1,#T_d2a5c_row17_col2,#T_d2a5c_row17_col3,#T_d2a5c_row17_col4,#T_d2a5c_row17_col5,#T_d2a5c_row17_col6,#T_d2a5c_row18_col0,#T_d2a5c_row18_col1,#T_d2a5c_row18_col2,#T_d2a5c_row18_col3,#T_d2a5c_row18_col4,#T_d2a5c_row18_col5,#T_d2a5c_row18_col6,#T_d2a5c_row19_col0,#T_d2a5c_row19_col1,#T_d2a5c_row19_col2,#T_d2a5c_row19_col3,#T_d2a5c_row19_col4,#T_d2a5c_row19_col5,#T_d2a5c_row19_col6,#T_d2a5c_row20_col0,#T_d2a5c_row20_col1,#T_d2a5c_row20_col2,#T_d2a5c_row20_col3,#T_d2a5c_row20_col4,#T_d2a5c_row20_col5,#T_d2a5c_row20_col6,#T_d2a5c_row21_col0,#T_d2a5c_row21_col1,#T_d2a5c_row21_col2,#T_d2a5c_row21_col3,#T_d2a5c_row21_col4,#T_d2a5c_row21_col5,#T_d2a5c_row21_col6{\n",
       "            text-align:  left;\n",
       "        }#T_d2a5c_row0_col2,#T_d2a5c_row0_col3,#T_d2a5c_row0_col4,#T_d2a5c_row2_col5,#T_d2a5c_row3_col1,#T_d2a5c_row4_col6{\n",
       "            background-color:  yellow;\n",
       "            text-align:  left;\n",
       "        }#T_d2a5c_row0_col7,#T_d2a5c_row1_col7,#T_d2a5c_row2_col7,#T_d2a5c_row3_col7,#T_d2a5c_row4_col7,#T_d2a5c_row5_col7,#T_d2a5c_row6_col7,#T_d2a5c_row7_col7,#T_d2a5c_row8_col7,#T_d2a5c_row9_col7,#T_d2a5c_row10_col7,#T_d2a5c_row11_col7,#T_d2a5c_row12_col7,#T_d2a5c_row13_col7,#T_d2a5c_row14_col7,#T_d2a5c_row15_col7,#T_d2a5c_row16_col7,#T_d2a5c_row17_col7,#T_d2a5c_row18_col7,#T_d2a5c_row19_col7,#T_d2a5c_row20_col7,#T_d2a5c_row21_col7{\n",
       "            background-color:  lightgrey;\n",
       "            text-align:  left;\n",
       "        }</style><table id=\"T_d2a5c_\" ><thead>    <tr>        <th class=\"blank level0\" ></th>        <th class=\"col_heading level0 col0\" >Model</th>        <th class=\"col_heading level0 col1\" >MAE</th>        <th class=\"col_heading level0 col2\" >MSE</th>        <th class=\"col_heading level0 col3\" >RMSE</th>        <th class=\"col_heading level0 col4\" >R2</th>        <th class=\"col_heading level0 col5\" >RMSLE</th>        <th class=\"col_heading level0 col6\" >MAPE</th>        <th class=\"col_heading level0 col7\" >TT (Sec)</th>    </tr></thead><tbody>\n",
       "                <tr>\n",
       "                        <th id=\"T_d2a5c_level0_row0\" class=\"row_heading level0 row0\" >0</th>\n",
       "                        <td id=\"T_d2a5c_row0_col0\" class=\"data row0 col0\" >Extreme Gradient Boosting</td>\n",
       "                        <td id=\"T_d2a5c_row0_col1\" class=\"data row0 col1\" >0.6865</td>\n",
       "                        <td id=\"T_d2a5c_row0_col2\" class=\"data row0 col2\" >1.9020</td>\n",
       "                        <td id=\"T_d2a5c_row0_col3\" class=\"data row0 col3\" >1.3153</td>\n",
       "                        <td id=\"T_d2a5c_row0_col4\" class=\"data row0 col4\" >0.9306</td>\n",
       "                        <td id=\"T_d2a5c_row0_col5\" class=\"data row0 col5\" >0.1337</td>\n",
       "                        <td id=\"T_d2a5c_row0_col6\" class=\"data row0 col6\" >0.1736</td>\n",
       "                        <td id=\"T_d2a5c_row0_col7\" class=\"data row0 col7\" >0.0592</td>\n",
       "            </tr>\n",
       "            <tr>\n",
       "                        <th id=\"T_d2a5c_level0_row1\" class=\"row_heading level0 row1\" >1</th>\n",
       "                        <td id=\"T_d2a5c_row1_col0\" class=\"data row1 col0\" >Gradient Boosting Regressor</td>\n",
       "                        <td id=\"T_d2a5c_row1_col1\" class=\"data row1 col1\" >0.7266</td>\n",
       "                        <td id=\"T_d2a5c_row1_col2\" class=\"data row1 col2\" >2.8256</td>\n",
       "                        <td id=\"T_d2a5c_row1_col3\" class=\"data row1 col3\" >1.5120</td>\n",
       "                        <td id=\"T_d2a5c_row1_col4\" class=\"data row1 col4\" >0.9080</td>\n",
       "                        <td id=\"T_d2a5c_row1_col5\" class=\"data row1 col5\" >0.1327</td>\n",
       "                        <td id=\"T_d2a5c_row1_col6\" class=\"data row1 col6\" >0.1860</td>\n",
       "                        <td id=\"T_d2a5c_row1_col7\" class=\"data row1 col7\" >0.0502</td>\n",
       "            </tr>\n",
       "            <tr>\n",
       "                        <th id=\"T_d2a5c_level0_row2\" class=\"row_heading level0 row2\" >2</th>\n",
       "                        <td id=\"T_d2a5c_row2_col0\" class=\"data row2 col0\" >Random Forest</td>\n",
       "                        <td id=\"T_d2a5c_row2_col1\" class=\"data row2 col1\" >0.7131</td>\n",
       "                        <td id=\"T_d2a5c_row2_col2\" class=\"data row2 col2\" >2.8812</td>\n",
       "                        <td id=\"T_d2a5c_row2_col3\" class=\"data row2 col3\" >1.5461</td>\n",
       "                        <td id=\"T_d2a5c_row2_col4\" class=\"data row2 col4\" >0.9028</td>\n",
       "                        <td id=\"T_d2a5c_row2_col5\" class=\"data row2 col5\" >0.1317</td>\n",
       "                        <td id=\"T_d2a5c_row2_col6\" class=\"data row2 col6\" >0.1683</td>\n",
       "                        <td id=\"T_d2a5c_row2_col7\" class=\"data row2 col7\" >0.2095</td>\n",
       "            </tr>\n",
       "            <tr>\n",
       "                        <th id=\"T_d2a5c_level0_row3\" class=\"row_heading level0 row3\" >3</th>\n",
       "                        <td id=\"T_d2a5c_row3_col0\" class=\"data row3 col0\" >CatBoost Regressor</td>\n",
       "                        <td id=\"T_d2a5c_row3_col1\" class=\"data row3 col1\" >0.6752</td>\n",
       "                        <td id=\"T_d2a5c_row3_col2\" class=\"data row3 col2\" >3.7797</td>\n",
       "                        <td id=\"T_d2a5c_row3_col3\" class=\"data row3 col3\" >1.5884</td>\n",
       "                        <td id=\"T_d2a5c_row3_col4\" class=\"data row3 col4\" >0.8963</td>\n",
       "                        <td id=\"T_d2a5c_row3_col5\" class=\"data row3 col5\" >0.1464</td>\n",
       "                        <td id=\"T_d2a5c_row3_col6\" class=\"data row3 col6\" >0.2252</td>\n",
       "                        <td id=\"T_d2a5c_row3_col7\" class=\"data row3 col7\" >1.8831</td>\n",
       "            </tr>\n",
       "            <tr>\n",
       "                        <th id=\"T_d2a5c_level0_row4\" class=\"row_heading level0 row4\" >4</th>\n",
       "                        <td id=\"T_d2a5c_row4_col0\" class=\"data row4 col0\" >Extra Trees Regressor</td>\n",
       "                        <td id=\"T_d2a5c_row4_col1\" class=\"data row4 col1\" >0.6823</td>\n",
       "                        <td id=\"T_d2a5c_row4_col2\" class=\"data row4 col2\" >3.9320</td>\n",
       "                        <td id=\"T_d2a5c_row4_col3\" class=\"data row4 col3\" >1.7016</td>\n",
       "                        <td id=\"T_d2a5c_row4_col4\" class=\"data row4 col4\" >0.8821</td>\n",
       "                        <td id=\"T_d2a5c_row4_col5\" class=\"data row4 col5\" >0.1348</td>\n",
       "                        <td id=\"T_d2a5c_row4_col6\" class=\"data row4 col6\" >0.1570</td>\n",
       "                        <td id=\"T_d2a5c_row4_col7\" class=\"data row4 col7\" >0.1516</td>\n",
       "            </tr>\n",
       "            <tr>\n",
       "                        <th id=\"T_d2a5c_level0_row5\" class=\"row_heading level0 row5\" >5</th>\n",
       "                        <td id=\"T_d2a5c_row5_col0\" class=\"data row5 col0\" >Decision Tree</td>\n",
       "                        <td id=\"T_d2a5c_row5_col1\" class=\"data row5 col1\" >0.8662</td>\n",
       "                        <td id=\"T_d2a5c_row5_col2\" class=\"data row5 col2\" >4.1429</td>\n",
       "                        <td id=\"T_d2a5c_row5_col3\" class=\"data row5 col3\" >1.8125</td>\n",
       "                        <td id=\"T_d2a5c_row5_col4\" class=\"data row5 col4\" >0.8557</td>\n",
       "                        <td id=\"T_d2a5c_row5_col5\" class=\"data row5 col5\" >0.1706</td>\n",
       "                        <td id=\"T_d2a5c_row5_col6\" class=\"data row5 col6\" >0.2117</td>\n",
       "                        <td id=\"T_d2a5c_row5_col7\" class=\"data row5 col7\" >0.0031</td>\n",
       "            </tr>\n",
       "            <tr>\n",
       "                        <th id=\"T_d2a5c_level0_row6\" class=\"row_heading level0 row6\" >6</th>\n",
       "                        <td id=\"T_d2a5c_row6_col0\" class=\"data row6 col0\" >AdaBoost Regressor</td>\n",
       "                        <td id=\"T_d2a5c_row6_col1\" class=\"data row6 col1\" >1.0878</td>\n",
       "                        <td id=\"T_d2a5c_row6_col2\" class=\"data row6 col2\" >4.1776</td>\n",
       "                        <td id=\"T_d2a5c_row6_col3\" class=\"data row6 col3\" >1.8882</td>\n",
       "                        <td id=\"T_d2a5c_row6_col4\" class=\"data row6 col4\" >0.8547</td>\n",
       "                        <td id=\"T_d2a5c_row6_col5\" class=\"data row6 col5\" >0.2529</td>\n",
       "                        <td id=\"T_d2a5c_row6_col6\" class=\"data row6 col6\" >0.6101</td>\n",
       "                        <td id=\"T_d2a5c_row6_col7\" class=\"data row6 col7\" >0.0911</td>\n",
       "            </tr>\n",
       "            <tr>\n",
       "                        <th id=\"T_d2a5c_level0_row7\" class=\"row_heading level0 row7\" >7</th>\n",
       "                        <td id=\"T_d2a5c_row7_col0\" class=\"data row7 col0\" >TheilSen Regressor</td>\n",
       "                        <td id=\"T_d2a5c_row7_col1\" class=\"data row7 col1\" >1.2042</td>\n",
       "                        <td id=\"T_d2a5c_row7_col2\" class=\"data row7 col2\" >4.3291</td>\n",
       "                        <td id=\"T_d2a5c_row7_col3\" class=\"data row7 col3\" >2.0275</td>\n",
       "                        <td id=\"T_d2a5c_row7_col4\" class=\"data row7 col4\" >0.8313</td>\n",
       "                        <td id=\"T_d2a5c_row7_col5\" class=\"data row7 col5\" >0.3122</td>\n",
       "                        <td id=\"T_d2a5c_row7_col6\" class=\"data row7 col6\" >1.0121</td>\n",
       "                        <td id=\"T_d2a5c_row7_col7\" class=\"data row7 col7\" >1.0631</td>\n",
       "            </tr>\n",
       "            <tr>\n",
       "                        <th id=\"T_d2a5c_level0_row8\" class=\"row_heading level0 row8\" >8</th>\n",
       "                        <td id=\"T_d2a5c_row8_col0\" class=\"data row8 col0\" >Bayesian Ridge</td>\n",
       "                        <td id=\"T_d2a5c_row8_col1\" class=\"data row8 col1\" >1.2922</td>\n",
       "                        <td id=\"T_d2a5c_row8_col2\" class=\"data row8 col2\" >5.1887</td>\n",
       "                        <td id=\"T_d2a5c_row8_col3\" class=\"data row8 col3\" >2.1853</td>\n",
       "                        <td id=\"T_d2a5c_row8_col4\" class=\"data row8 col4\" >0.8099</td>\n",
       "                        <td id=\"T_d2a5c_row8_col5\" class=\"data row8 col5\" >0.3716</td>\n",
       "                        <td id=\"T_d2a5c_row8_col6\" class=\"data row8 col6\" >1.1771</td>\n",
       "                        <td id=\"T_d2a5c_row8_col7\" class=\"data row8 col7\" >0.0098</td>\n",
       "            </tr>\n",
       "            <tr>\n",
       "                        <th id=\"T_d2a5c_level0_row9\" class=\"row_heading level0 row9\" >9</th>\n",
       "                        <td id=\"T_d2a5c_row9_col0\" class=\"data row9 col0\" >Ridge Regression</td>\n",
       "                        <td id=\"T_d2a5c_row9_col1\" class=\"data row9 col1\" >1.2952</td>\n",
       "                        <td id=\"T_d2a5c_row9_col2\" class=\"data row9 col2\" >5.0854</td>\n",
       "                        <td id=\"T_d2a5c_row9_col3\" class=\"data row9 col3\" >2.1754</td>\n",
       "                        <td id=\"T_d2a5c_row9_col4\" class=\"data row9 col4\" >0.8085</td>\n",
       "                        <td id=\"T_d2a5c_row9_col5\" class=\"data row9 col5\" >0.3738</td>\n",
       "                        <td id=\"T_d2a5c_row9_col6\" class=\"data row9 col6\" >1.1872</td>\n",
       "                        <td id=\"T_d2a5c_row9_col7\" class=\"data row9 col7\" >0.0068</td>\n",
       "            </tr>\n",
       "            <tr>\n",
       "                        <th id=\"T_d2a5c_level0_row10\" class=\"row_heading level0 row10\" >10</th>\n",
       "                        <td id=\"T_d2a5c_row10_col0\" class=\"data row10 col0\" >Random Sample Consensus</td>\n",
       "                        <td id=\"T_d2a5c_row10_col1\" class=\"data row10 col1\" >1.2733</td>\n",
       "                        <td id=\"T_d2a5c_row10_col2\" class=\"data row10 col2\" >4.5831</td>\n",
       "                        <td id=\"T_d2a5c_row10_col3\" class=\"data row10 col3\" >2.1133</td>\n",
       "                        <td id=\"T_d2a5c_row10_col4\" class=\"data row10 col4\" >0.8074</td>\n",
       "                        <td id=\"T_d2a5c_row10_col5\" class=\"data row10 col5\" >0.3173</td>\n",
       "                        <td id=\"T_d2a5c_row10_col6\" class=\"data row10 col6\" >0.9240</td>\n",
       "                        <td id=\"T_d2a5c_row10_col7\" class=\"data row10 col7\" >0.2416</td>\n",
       "            </tr>\n",
       "            <tr>\n",
       "                        <th id=\"T_d2a5c_level0_row11\" class=\"row_heading level0 row11\" >11</th>\n",
       "                        <td id=\"T_d2a5c_row11_col0\" class=\"data row11 col0\" >Linear Regression</td>\n",
       "                        <td id=\"T_d2a5c_row11_col1\" class=\"data row11 col1\" >1.3015</td>\n",
       "                        <td id=\"T_d2a5c_row11_col2\" class=\"data row11 col2\" >5.0966</td>\n",
       "                        <td id=\"T_d2a5c_row11_col3\" class=\"data row11 col3\" >2.1825</td>\n",
       "                        <td id=\"T_d2a5c_row11_col4\" class=\"data row11 col4\" >0.8049</td>\n",
       "                        <td id=\"T_d2a5c_row11_col5\" class=\"data row11 col5\" >0.3765</td>\n",
       "                        <td id=\"T_d2a5c_row11_col6\" class=\"data row11 col6\" >1.2082</td>\n",
       "                        <td id=\"T_d2a5c_row11_col7\" class=\"data row11 col7\" >0.0068</td>\n",
       "            </tr>\n",
       "            <tr>\n",
       "                        <th id=\"T_d2a5c_level0_row12\" class=\"row_heading level0 row12\" >12</th>\n",
       "                        <td id=\"T_d2a5c_row12_col0\" class=\"data row12 col0\" >Light Gradient Boosting Machine</td>\n",
       "                        <td id=\"T_d2a5c_row12_col1\" class=\"data row12 col1\" >1.1498</td>\n",
       "                        <td id=\"T_d2a5c_row12_col2\" class=\"data row12 col2\" >6.2121</td>\n",
       "                        <td id=\"T_d2a5c_row12_col3\" class=\"data row12 col3\" >2.3044</td>\n",
       "                        <td id=\"T_d2a5c_row12_col4\" class=\"data row12 col4\" >0.7977</td>\n",
       "                        <td id=\"T_d2a5c_row12_col5\" class=\"data row12 col5\" >0.2634</td>\n",
       "                        <td id=\"T_d2a5c_row12_col6\" class=\"data row12 col6\" >0.5040</td>\n",
       "                        <td id=\"T_d2a5c_row12_col7\" class=\"data row12 col7\" >0.0406</td>\n",
       "            </tr>\n",
       "            <tr>\n",
       "                        <th id=\"T_d2a5c_level0_row13\" class=\"row_heading level0 row13\" >13</th>\n",
       "                        <td id=\"T_d2a5c_row13_col0\" class=\"data row13 col0\" >Least Angle Regression</td>\n",
       "                        <td id=\"T_d2a5c_row13_col1\" class=\"data row13 col1\" >1.3433</td>\n",
       "                        <td id=\"T_d2a5c_row13_col2\" class=\"data row13 col2\" >5.4423</td>\n",
       "                        <td id=\"T_d2a5c_row13_col3\" class=\"data row13 col3\" >2.2649</td>\n",
       "                        <td id=\"T_d2a5c_row13_col4\" class=\"data row13 col4\" >0.7942</td>\n",
       "                        <td id=\"T_d2a5c_row13_col5\" class=\"data row13 col5\" >0.3740</td>\n",
       "                        <td id=\"T_d2a5c_row13_col6\" class=\"data row13 col6\" >1.1823</td>\n",
       "                        <td id=\"T_d2a5c_row13_col7\" class=\"data row13 col7\" >0.0164</td>\n",
       "            </tr>\n",
       "            <tr>\n",
       "                        <th id=\"T_d2a5c_level0_row14\" class=\"row_heading level0 row14\" >14</th>\n",
       "                        <td id=\"T_d2a5c_row14_col0\" class=\"data row14 col0\" >Elastic Net</td>\n",
       "                        <td id=\"T_d2a5c_row14_col1\" class=\"data row14 col1\" >1.3871</td>\n",
       "                        <td id=\"T_d2a5c_row14_col2\" class=\"data row14 col2\" >6.2419</td>\n",
       "                        <td id=\"T_d2a5c_row14_col3\" class=\"data row14 col3\" >2.3816</td>\n",
       "                        <td id=\"T_d2a5c_row14_col4\" class=\"data row14 col4\" >0.7805</td>\n",
       "                        <td id=\"T_d2a5c_row14_col5\" class=\"data row14 col5\" >0.3708</td>\n",
       "                        <td id=\"T_d2a5c_row14_col6\" class=\"data row14 col6\" >1.0754</td>\n",
       "                        <td id=\"T_d2a5c_row14_col7\" class=\"data row14 col7\" >0.0084</td>\n",
       "            </tr>\n",
       "            <tr>\n",
       "                        <th id=\"T_d2a5c_level0_row15\" class=\"row_heading level0 row15\" >15</th>\n",
       "                        <td id=\"T_d2a5c_row15_col0\" class=\"data row15 col0\" >Lasso Regression</td>\n",
       "                        <td id=\"T_d2a5c_row15_col1\" class=\"data row15 col1\" >1.3986</td>\n",
       "                        <td id=\"T_d2a5c_row15_col2\" class=\"data row15 col2\" >6.3899</td>\n",
       "                        <td id=\"T_d2a5c_row15_col3\" class=\"data row15 col3\" >2.4071</td>\n",
       "                        <td id=\"T_d2a5c_row15_col4\" class=\"data row15 col4\" >0.7775</td>\n",
       "                        <td id=\"T_d2a5c_row15_col5\" class=\"data row15 col5\" >0.3647</td>\n",
       "                        <td id=\"T_d2a5c_row15_col6\" class=\"data row15 col6\" >1.0091</td>\n",
       "                        <td id=\"T_d2a5c_row15_col7\" class=\"data row15 col7\" >0.0086</td>\n",
       "            </tr>\n",
       "            <tr>\n",
       "                        <th id=\"T_d2a5c_level0_row16\" class=\"row_heading level0 row16\" >16</th>\n",
       "                        <td id=\"T_d2a5c_row16_col0\" class=\"data row16 col0\" >Orthogonal Matching Pursuit</td>\n",
       "                        <td id=\"T_d2a5c_row16_col1\" class=\"data row16 col1\" >1.5815</td>\n",
       "                        <td id=\"T_d2a5c_row16_col2\" class=\"data row16 col2\" >8.1733</td>\n",
       "                        <td id=\"T_d2a5c_row16_col3\" class=\"data row16 col3\" >2.7514</td>\n",
       "                        <td id=\"T_d2a5c_row16_col4\" class=\"data row16 col4\" >0.7077</td>\n",
       "                        <td id=\"T_d2a5c_row16_col5\" class=\"data row16 col5\" >0.3331</td>\n",
       "                        <td id=\"T_d2a5c_row16_col6\" class=\"data row16 col6\" >0.7884</td>\n",
       "                        <td id=\"T_d2a5c_row16_col7\" class=\"data row16 col7\" >0.0076</td>\n",
       "            </tr>\n",
       "            <tr>\n",
       "                        <th id=\"T_d2a5c_level0_row17\" class=\"row_heading level0 row17\" >17</th>\n",
       "                        <td id=\"T_d2a5c_row17_col0\" class=\"data row17 col0\" >Huber Regressor</td>\n",
       "                        <td id=\"T_d2a5c_row17_col1\" class=\"data row17 col1\" >1.3479</td>\n",
       "                        <td id=\"T_d2a5c_row17_col2\" class=\"data row17 col2\" >8.1292</td>\n",
       "                        <td id=\"T_d2a5c_row17_col3\" class=\"data row17 col3\" >2.6757</td>\n",
       "                        <td id=\"T_d2a5c_row17_col4\" class=\"data row17 col4\" >0.6879</td>\n",
       "                        <td id=\"T_d2a5c_row17_col5\" class=\"data row17 col5\" >0.2636</td>\n",
       "                        <td id=\"T_d2a5c_row17_col6\" class=\"data row17 col6\" >0.4835</td>\n",
       "                        <td id=\"T_d2a5c_row17_col7\" class=\"data row17 col7\" >0.0156</td>\n",
       "            </tr>\n",
       "            <tr>\n",
       "                        <th id=\"T_d2a5c_level0_row18\" class=\"row_heading level0 row18\" >18</th>\n",
       "                        <td id=\"T_d2a5c_row18_col0\" class=\"data row18 col0\" >Support Vector Machine</td>\n",
       "                        <td id=\"T_d2a5c_row18_col1\" class=\"data row18 col1\" >3.4126</td>\n",
       "                        <td id=\"T_d2a5c_row18_col2\" class=\"data row18 col2\" >32.3880</td>\n",
       "                        <td id=\"T_d2a5c_row18_col3\" class=\"data row18 col3\" >5.4339</td>\n",
       "                        <td id=\"T_d2a5c_row18_col4\" class=\"data row18 col4\" >-0.0820</td>\n",
       "                        <td id=\"T_d2a5c_row18_col5\" class=\"data row18 col5\" >0.8294</td>\n",
       "                        <td id=\"T_d2a5c_row18_col6\" class=\"data row18 col6\" >2.6010</td>\n",
       "                        <td id=\"T_d2a5c_row18_col7\" class=\"data row18 col7\" >0.0106</td>\n",
       "            </tr>\n",
       "            <tr>\n",
       "                        <th id=\"T_d2a5c_level0_row19\" class=\"row_heading level0 row19\" >19</th>\n",
       "                        <td id=\"T_d2a5c_row19_col0\" class=\"data row19 col0\" >Lasso Least Angle Regression</td>\n",
       "                        <td id=\"T_d2a5c_row19_col1\" class=\"data row19 col1\" >3.6801</td>\n",
       "                        <td id=\"T_d2a5c_row19_col2\" class=\"data row19 col2\" >30.4213</td>\n",
       "                        <td id=\"T_d2a5c_row19_col3\" class=\"data row19 col3\" >5.3756</td>\n",
       "                        <td id=\"T_d2a5c_row19_col4\" class=\"data row19 col4\" >-0.1411</td>\n",
       "                        <td id=\"T_d2a5c_row19_col5\" class=\"data row19 col5\" >0.9030</td>\n",
       "                        <td id=\"T_d2a5c_row19_col6\" class=\"data row19 col6\" >3.9107</td>\n",
       "                        <td id=\"T_d2a5c_row19_col7\" class=\"data row19 col7\" >0.0126</td>\n",
       "            </tr>\n",
       "            <tr>\n",
       "                        <th id=\"T_d2a5c_level0_row20\" class=\"row_heading level0 row20\" >20</th>\n",
       "                        <td id=\"T_d2a5c_row20_col0\" class=\"data row20 col0\" >K Neighbors Regressor</td>\n",
       "                        <td id=\"T_d2a5c_row20_col1\" class=\"data row20 col1\" >4.0984</td>\n",
       "                        <td id=\"T_d2a5c_row20_col2\" class=\"data row20 col2\" >34.1008</td>\n",
       "                        <td id=\"T_d2a5c_row20_col3\" class=\"data row20 col3\" >5.7284</td>\n",
       "                        <td id=\"T_d2a5c_row20_col4\" class=\"data row20 col4\" >-0.4117</td>\n",
       "                        <td id=\"T_d2a5c_row20_col5\" class=\"data row20 col5\" >0.8901</td>\n",
       "                        <td id=\"T_d2a5c_row20_col6\" class=\"data row20 col6\" >3.3039</td>\n",
       "                        <td id=\"T_d2a5c_row20_col7\" class=\"data row20 col7\" >0.0000</td>\n",
       "            </tr>\n",
       "            <tr>\n",
       "                        <th id=\"T_d2a5c_level0_row21\" class=\"row_heading level0 row21\" >21</th>\n",
       "                        <td id=\"T_d2a5c_row21_col0\" class=\"data row21 col0\" >Passive Aggressive Regressor</td>\n",
       "                        <td id=\"T_d2a5c_row21_col1\" class=\"data row21 col1\" >4.2956</td>\n",
       "                        <td id=\"T_d2a5c_row21_col2\" class=\"data row21 col2\" >47.3245</td>\n",
       "                        <td id=\"T_d2a5c_row21_col3\" class=\"data row21 col3\" >6.6076</td>\n",
       "                        <td id=\"T_d2a5c_row21_col4\" class=\"data row21 col4\" >-0.6197</td>\n",
       "                        <td id=\"T_d2a5c_row21_col5\" class=\"data row21 col5\" >1.2673</td>\n",
       "                        <td id=\"T_d2a5c_row21_col6\" class=\"data row21 col6\" >0.9631</td>\n",
       "                        <td id=\"T_d2a5c_row21_col7\" class=\"data row21 col7\" >0.0106</td>\n",
       "            </tr>\n",
       "    </tbody></table>"
      ],
      "text/plain": [
       "<pandas.io.formats.style.Styler at 0x2d11f74c2e0>"
      ]
     },
     "metadata": {},
     "output_type": "display_data"
    }
   ],
   "source": [
    "best_model=compare_models(fold=5)"
   ]
  },
  {
   "cell_type": "markdown",
   "metadata": {},
   "source": [
    "ID of an estimator available in model library or pass an untrained model object consistent with scikit-learn API. Estimators available in the model library (ID - Name):\n",
    "\n",
    "‘lr’ - Linear Regression\n",
    "\n",
    "‘lasso’ - Lasso Regression\n",
    "\n",
    "‘ridge’ - Ridge Regression\n",
    "\n",
    "‘en’ - Elastic Net\n",
    "\n",
    "‘lar’ - Least Angle Regression\n",
    "\n",
    "‘llar’ - Lasso Least Angle Regression\n",
    "\n",
    "‘omp’ - Orthogonal Matching Pursuit\n",
    "\n",
    "‘br’ - Bayesian Ridge\n",
    "\n",
    "‘ard’ - Automatic Relevance Determination\n",
    "\n",
    "‘par’ - Passive Aggressive Regressor\n",
    "\n",
    "‘ransac’ - Random Sample Consensus\n",
    "\n",
    "‘tr’ - TheilSen Regressor\n",
    "\n",
    "‘huber’ - Huber Regressor\n",
    "\n",
    "‘kr’ - Kernel Ridge\n",
    "\n",
    "‘svm’ - Support Vector Regression\n",
    "\n",
    "‘knn’ - K Neighbors Regressor\n",
    "\n",
    "‘dt’ - Decision Tree Regressor\n",
    "\n",
    "‘rf’ - Random Forest Regressor\n",
    "\n",
    "‘et’ - Extra Trees Regressor\n",
    "\n",
    "‘ada’ - AdaBoost Regressor\n",
    "\n",
    "‘gbr’ - Gradient Boosting Regressor\n",
    "\n",
    "‘mlp’ - MLP Regressor\n",
    "\n",
    "‘xgboost’ - Extreme Gradient Boosting\n",
    "\n",
    "‘lightgbm’ - Light Gradient Boosting Machine\n",
    "\n",
    "‘catboost’ - CatBoost Regressor"
   ]
  },
  {
   "cell_type": "code",
   "execution_count": 48,
   "metadata": {},
   "outputs": [
    {
     "data": {
      "text/html": [
       "<style  type=\"text/css\" >\n",
       "#T_fd2c7_row10_col0,#T_fd2c7_row10_col1,#T_fd2c7_row10_col2,#T_fd2c7_row10_col3,#T_fd2c7_row10_col4,#T_fd2c7_row10_col5{\n",
       "            background:  yellow;\n",
       "        }</style><table id=\"T_fd2c7_\" ><thead>    <tr>        <th class=\"blank level0\" ></th>        <th class=\"col_heading level0 col0\" >MAE</th>        <th class=\"col_heading level0 col1\" >MSE</th>        <th class=\"col_heading level0 col2\" >RMSE</th>        <th class=\"col_heading level0 col3\" >R2</th>        <th class=\"col_heading level0 col4\" >RMSLE</th>        <th class=\"col_heading level0 col5\" >MAPE</th>    </tr></thead><tbody>\n",
       "                <tr>\n",
       "                        <th id=\"T_fd2c7_level0_row0\" class=\"row_heading level0 row0\" >0</th>\n",
       "                        <td id=\"T_fd2c7_row0_col0\" class=\"data row0 col0\" >0.8810</td>\n",
       "                        <td id=\"T_fd2c7_row0_col1\" class=\"data row0 col1\" >3.9653</td>\n",
       "                        <td id=\"T_fd2c7_row0_col2\" class=\"data row0 col2\" >1.9913</td>\n",
       "                        <td id=\"T_fd2c7_row0_col3\" class=\"data row0 col3\" >0.9146</td>\n",
       "                        <td id=\"T_fd2c7_row0_col4\" class=\"data row0 col4\" >0.1473</td>\n",
       "                        <td id=\"T_fd2c7_row0_col5\" class=\"data row0 col5\" >0.2036</td>\n",
       "            </tr>\n",
       "            <tr>\n",
       "                        <th id=\"T_fd2c7_level0_row1\" class=\"row_heading level0 row1\" >1</th>\n",
       "                        <td id=\"T_fd2c7_row1_col0\" class=\"data row1 col0\" >0.9250</td>\n",
       "                        <td id=\"T_fd2c7_row1_col1\" class=\"data row1 col1\" >2.2244</td>\n",
       "                        <td id=\"T_fd2c7_row1_col2\" class=\"data row1 col2\" >1.4915</td>\n",
       "                        <td id=\"T_fd2c7_row1_col3\" class=\"data row1 col3\" >0.9616</td>\n",
       "                        <td id=\"T_fd2c7_row1_col4\" class=\"data row1 col4\" >0.1439</td>\n",
       "                        <td id=\"T_fd2c7_row1_col5\" class=\"data row1 col5\" >0.1733</td>\n",
       "            </tr>\n",
       "            <tr>\n",
       "                        <th id=\"T_fd2c7_level0_row2\" class=\"row_heading level0 row2\" >2</th>\n",
       "                        <td id=\"T_fd2c7_row2_col0\" class=\"data row2 col0\" >0.5950</td>\n",
       "                        <td id=\"T_fd2c7_row2_col1\" class=\"data row2 col1\" >1.1453</td>\n",
       "                        <td id=\"T_fd2c7_row2_col2\" class=\"data row2 col2\" >1.0702</td>\n",
       "                        <td id=\"T_fd2c7_row2_col3\" class=\"data row2 col3\" >0.8968</td>\n",
       "                        <td id=\"T_fd2c7_row2_col4\" class=\"data row2 col4\" >0.1338</td>\n",
       "                        <td id=\"T_fd2c7_row2_col5\" class=\"data row2 col5\" >0.2155</td>\n",
       "            </tr>\n",
       "            <tr>\n",
       "                        <th id=\"T_fd2c7_level0_row3\" class=\"row_heading level0 row3\" >3</th>\n",
       "                        <td id=\"T_fd2c7_row3_col0\" class=\"data row3 col0\" >0.8831</td>\n",
       "                        <td id=\"T_fd2c7_row3_col1\" class=\"data row3 col1\" >2.5082</td>\n",
       "                        <td id=\"T_fd2c7_row3_col2\" class=\"data row3 col2\" >1.5837</td>\n",
       "                        <td id=\"T_fd2c7_row3_col3\" class=\"data row3 col3\" >0.8887</td>\n",
       "                        <td id=\"T_fd2c7_row3_col4\" class=\"data row3 col4\" >0.1828</td>\n",
       "                        <td id=\"T_fd2c7_row3_col5\" class=\"data row3 col5\" >0.2992</td>\n",
       "            </tr>\n",
       "            <tr>\n",
       "                        <th id=\"T_fd2c7_level0_row4\" class=\"row_heading level0 row4\" >4</th>\n",
       "                        <td id=\"T_fd2c7_row4_col0\" class=\"data row4 col0\" >0.5360</td>\n",
       "                        <td id=\"T_fd2c7_row4_col1\" class=\"data row4 col1\" >0.7178</td>\n",
       "                        <td id=\"T_fd2c7_row4_col2\" class=\"data row4 col2\" >0.8473</td>\n",
       "                        <td id=\"T_fd2c7_row4_col3\" class=\"data row4 col3\" >0.9444</td>\n",
       "                        <td id=\"T_fd2c7_row4_col4\" class=\"data row4 col4\" >0.1127</td>\n",
       "                        <td id=\"T_fd2c7_row4_col5\" class=\"data row4 col5\" >0.1144</td>\n",
       "            </tr>\n",
       "            <tr>\n",
       "                        <th id=\"T_fd2c7_level0_row5\" class=\"row_heading level0 row5\" >5</th>\n",
       "                        <td id=\"T_fd2c7_row5_col0\" class=\"data row5 col0\" >0.5005</td>\n",
       "                        <td id=\"T_fd2c7_row5_col1\" class=\"data row5 col1\" >0.5461</td>\n",
       "                        <td id=\"T_fd2c7_row5_col2\" class=\"data row5 col2\" >0.7390</td>\n",
       "                        <td id=\"T_fd2c7_row5_col3\" class=\"data row5 col3\" >0.9726</td>\n",
       "                        <td id=\"T_fd2c7_row5_col4\" class=\"data row5 col4\" >0.1014</td>\n",
       "                        <td id=\"T_fd2c7_row5_col5\" class=\"data row5 col5\" >0.1486</td>\n",
       "            </tr>\n",
       "            <tr>\n",
       "                        <th id=\"T_fd2c7_level0_row6\" class=\"row_heading level0 row6\" >6</th>\n",
       "                        <td id=\"T_fd2c7_row6_col0\" class=\"data row6 col0\" >0.5138</td>\n",
       "                        <td id=\"T_fd2c7_row6_col1\" class=\"data row6 col1\" >1.0893</td>\n",
       "                        <td id=\"T_fd2c7_row6_col2\" class=\"data row6 col2\" >1.0437</td>\n",
       "                        <td id=\"T_fd2c7_row6_col3\" class=\"data row6 col3\" >0.9590</td>\n",
       "                        <td id=\"T_fd2c7_row6_col4\" class=\"data row6 col4\" >0.1416</td>\n",
       "                        <td id=\"T_fd2c7_row6_col5\" class=\"data row6 col5\" >0.1355</td>\n",
       "            </tr>\n",
       "            <tr>\n",
       "                        <th id=\"T_fd2c7_level0_row7\" class=\"row_heading level0 row7\" >7</th>\n",
       "                        <td id=\"T_fd2c7_row7_col0\" class=\"data row7 col0\" >0.3108</td>\n",
       "                        <td id=\"T_fd2c7_row7_col1\" class=\"data row7 col1\" >0.2457</td>\n",
       "                        <td id=\"T_fd2c7_row7_col2\" class=\"data row7 col2\" >0.4957</td>\n",
       "                        <td id=\"T_fd2c7_row7_col3\" class=\"data row7 col3\" >0.9766</td>\n",
       "                        <td id=\"T_fd2c7_row7_col4\" class=\"data row7 col4\" >0.0773</td>\n",
       "                        <td id=\"T_fd2c7_row7_col5\" class=\"data row7 col5\" >0.1264</td>\n",
       "            </tr>\n",
       "            <tr>\n",
       "                        <th id=\"T_fd2c7_level0_row8\" class=\"row_heading level0 row8\" >8</th>\n",
       "                        <td id=\"T_fd2c7_row8_col0\" class=\"data row8 col0\" >0.5681</td>\n",
       "                        <td id=\"T_fd2c7_row8_col1\" class=\"data row8 col1\" >0.8123</td>\n",
       "                        <td id=\"T_fd2c7_row8_col2\" class=\"data row8 col2\" >0.9013</td>\n",
       "                        <td id=\"T_fd2c7_row8_col3\" class=\"data row8 col3\" >0.9080</td>\n",
       "                        <td id=\"T_fd2c7_row8_col4\" class=\"data row8 col4\" >0.1209</td>\n",
       "                        <td id=\"T_fd2c7_row8_col5\" class=\"data row8 col5\" >0.1790</td>\n",
       "            </tr>\n",
       "            <tr>\n",
       "                        <th id=\"T_fd2c7_level0_row9\" class=\"row_heading level0 row9\" >9</th>\n",
       "                        <td id=\"T_fd2c7_row9_col0\" class=\"data row9 col0\" >0.5301</td>\n",
       "                        <td id=\"T_fd2c7_row9_col1\" class=\"data row9 col1\" >0.7562</td>\n",
       "                        <td id=\"T_fd2c7_row9_col2\" class=\"data row9 col2\" >0.8696</td>\n",
       "                        <td id=\"T_fd2c7_row9_col3\" class=\"data row9 col3\" >0.9751</td>\n",
       "                        <td id=\"T_fd2c7_row9_col4\" class=\"data row9 col4\" >0.1249</td>\n",
       "                        <td id=\"T_fd2c7_row9_col5\" class=\"data row9 col5\" >0.1226</td>\n",
       "            </tr>\n",
       "            <tr>\n",
       "                        <th id=\"T_fd2c7_level0_row10\" class=\"row_heading level0 row10\" >Mean</th>\n",
       "                        <td id=\"T_fd2c7_row10_col0\" class=\"data row10 col0\" >0.6243</td>\n",
       "                        <td id=\"T_fd2c7_row10_col1\" class=\"data row10 col1\" >1.4011</td>\n",
       "                        <td id=\"T_fd2c7_row10_col2\" class=\"data row10 col2\" >1.1033</td>\n",
       "                        <td id=\"T_fd2c7_row10_col3\" class=\"data row10 col3\" >0.9397</td>\n",
       "                        <td id=\"T_fd2c7_row10_col4\" class=\"data row10 col4\" >0.1287</td>\n",
       "                        <td id=\"T_fd2c7_row10_col5\" class=\"data row10 col5\" >0.1718</td>\n",
       "            </tr>\n",
       "            <tr>\n",
       "                        <th id=\"T_fd2c7_level0_row11\" class=\"row_heading level0 row11\" >SD</th>\n",
       "                        <td id=\"T_fd2c7_row11_col0\" class=\"data row11 col0\" >0.1923</td>\n",
       "                        <td id=\"T_fd2c7_row11_col1\" class=\"data row11 col1\" >1.0925</td>\n",
       "                        <td id=\"T_fd2c7_row11_col2\" class=\"data row11 col2\" >0.4287</td>\n",
       "                        <td id=\"T_fd2c7_row11_col3\" class=\"data row11 col3\" >0.0326</td>\n",
       "                        <td id=\"T_fd2c7_row11_col4\" class=\"data row11 col4\" >0.0272</td>\n",
       "                        <td id=\"T_fd2c7_row11_col5\" class=\"data row11 col5\" >0.0537</td>\n",
       "            </tr>\n",
       "    </tbody></table>"
      ],
      "text/plain": [
       "<pandas.io.formats.style.Styler at 0x10b3e723df0>"
      ]
     },
     "metadata": {},
     "output_type": "display_data"
    }
   ],
   "source": [
    "xgb=create_model(\"xgboost\")"
   ]
  },
  {
   "cell_type": "code",
   "execution_count": 49,
   "metadata": {},
   "outputs": [
    {
     "data": {
      "text/html": [
       "<div>\n",
       "<style scoped>\n",
       "    .dataframe tbody tr th:only-of-type {\n",
       "        vertical-align: middle;\n",
       "    }\n",
       "\n",
       "    .dataframe tbody tr th {\n",
       "        vertical-align: top;\n",
       "    }\n",
       "\n",
       "    .dataframe thead th {\n",
       "        text-align: right;\n",
       "    }\n",
       "</style>\n",
       "<table border=\"1\" class=\"dataframe\">\n",
       "  <thead>\n",
       "    <tr style=\"text-align: right;\">\n",
       "      <th></th>\n",
       "      <th>Present_Price</th>\n",
       "      <th>Kms_Driven</th>\n",
       "      <th>Owner</th>\n",
       "      <th>Years_Used</th>\n",
       "      <th>Fuel_Type_CNG</th>\n",
       "      <th>Fuel_Type_Diesel</th>\n",
       "      <th>Fuel_Type_Petrol</th>\n",
       "      <th>Seller_Type_Dealer</th>\n",
       "      <th>Seller_Type_Individual</th>\n",
       "      <th>Transmission_Automatic</th>\n",
       "      <th>Transmission_Manual</th>\n",
       "    </tr>\n",
       "  </thead>\n",
       "  <tbody>\n",
       "    <tr>\n",
       "      <th>28</th>\n",
       "      <td>3.95</td>\n",
       "      <td>44542.0</td>\n",
       "      <td>0.0</td>\n",
       "      <td>11.0</td>\n",
       "      <td>0.0</td>\n",
       "      <td>0.0</td>\n",
       "      <td>1.0</td>\n",
       "      <td>1.0</td>\n",
       "      <td>0.0</td>\n",
       "      <td>0.0</td>\n",
       "      <td>1.0</td>\n",
       "    </tr>\n",
       "    <tr>\n",
       "      <th>200</th>\n",
       "      <td>0.75</td>\n",
       "      <td>92233.0</td>\n",
       "      <td>0.0</td>\n",
       "      <td>15.0</td>\n",
       "      <td>0.0</td>\n",
       "      <td>0.0</td>\n",
       "      <td>1.0</td>\n",
       "      <td>0.0</td>\n",
       "      <td>1.0</td>\n",
       "      <td>0.0</td>\n",
       "      <td>1.0</td>\n",
       "    </tr>\n",
       "    <tr>\n",
       "      <th>70</th>\n",
       "      <td>6.76</td>\n",
       "      <td>71000.0</td>\n",
       "      <td>0.0</td>\n",
       "      <td>7.0</td>\n",
       "      <td>0.0</td>\n",
       "      <td>1.0</td>\n",
       "      <td>0.0</td>\n",
       "      <td>1.0</td>\n",
       "      <td>0.0</td>\n",
       "      <td>0.0</td>\n",
       "      <td>1.0</td>\n",
       "    </tr>\n",
       "    <tr>\n",
       "      <th>277</th>\n",
       "      <td>13.60</td>\n",
       "      <td>21780.0</td>\n",
       "      <td>0.0</td>\n",
       "      <td>6.0</td>\n",
       "      <td>0.0</td>\n",
       "      <td>0.0</td>\n",
       "      <td>1.0</td>\n",
       "      <td>1.0</td>\n",
       "      <td>0.0</td>\n",
       "      <td>0.0</td>\n",
       "      <td>1.0</td>\n",
       "    </tr>\n",
       "    <tr>\n",
       "      <th>89</th>\n",
       "      <td>6.76</td>\n",
       "      <td>40000.0</td>\n",
       "      <td>0.0</td>\n",
       "      <td>7.0</td>\n",
       "      <td>0.0</td>\n",
       "      <td>0.0</td>\n",
       "      <td>1.0</td>\n",
       "      <td>1.0</td>\n",
       "      <td>0.0</td>\n",
       "      <td>0.0</td>\n",
       "      <td>1.0</td>\n",
       "    </tr>\n",
       "    <tr>\n",
       "      <th>...</th>\n",
       "      <td>...</td>\n",
       "      <td>...</td>\n",
       "      <td>...</td>\n",
       "      <td>...</td>\n",
       "      <td>...</td>\n",
       "      <td>...</td>\n",
       "      <td>...</td>\n",
       "      <td>...</td>\n",
       "      <td>...</td>\n",
       "      <td>...</td>\n",
       "      <td>...</td>\n",
       "    </tr>\n",
       "    <tr>\n",
       "      <th>273</th>\n",
       "      <td>7.50</td>\n",
       "      <td>61203.0</td>\n",
       "      <td>0.0</td>\n",
       "      <td>11.0</td>\n",
       "      <td>0.0</td>\n",
       "      <td>0.0</td>\n",
       "      <td>1.0</td>\n",
       "      <td>1.0</td>\n",
       "      <td>0.0</td>\n",
       "      <td>0.0</td>\n",
       "      <td>1.0</td>\n",
       "    </tr>\n",
       "    <tr>\n",
       "      <th>33</th>\n",
       "      <td>9.95</td>\n",
       "      <td>45000.0</td>\n",
       "      <td>0.0</td>\n",
       "      <td>7.0</td>\n",
       "      <td>0.0</td>\n",
       "      <td>1.0</td>\n",
       "      <td>0.0</td>\n",
       "      <td>1.0</td>\n",
       "      <td>0.0</td>\n",
       "      <td>0.0</td>\n",
       "      <td>1.0</td>\n",
       "    </tr>\n",
       "    <tr>\n",
       "      <th>242</th>\n",
       "      <td>7.13</td>\n",
       "      <td>34000.0</td>\n",
       "      <td>0.0</td>\n",
       "      <td>7.0</td>\n",
       "      <td>0.0</td>\n",
       "      <td>0.0</td>\n",
       "      <td>1.0</td>\n",
       "      <td>1.0</td>\n",
       "      <td>0.0</td>\n",
       "      <td>0.0</td>\n",
       "      <td>1.0</td>\n",
       "    </tr>\n",
       "    <tr>\n",
       "      <th>184</th>\n",
       "      <td>0.75</td>\n",
       "      <td>26000.0</td>\n",
       "      <td>1.0</td>\n",
       "      <td>13.0</td>\n",
       "      <td>0.0</td>\n",
       "      <td>0.0</td>\n",
       "      <td>1.0</td>\n",
       "      <td>0.0</td>\n",
       "      <td>1.0</td>\n",
       "      <td>0.0</td>\n",
       "      <td>1.0</td>\n",
       "    </tr>\n",
       "    <tr>\n",
       "      <th>78</th>\n",
       "      <td>22.83</td>\n",
       "      <td>80000.0</td>\n",
       "      <td>0.0</td>\n",
       "      <td>11.0</td>\n",
       "      <td>0.0</td>\n",
       "      <td>0.0</td>\n",
       "      <td>1.0</td>\n",
       "      <td>1.0</td>\n",
       "      <td>0.0</td>\n",
       "      <td>1.0</td>\n",
       "      <td>0.0</td>\n",
       "    </tr>\n",
       "  </tbody>\n",
       "</table>\n",
       "<p>210 rows × 11 columns</p>\n",
       "</div>"
      ],
      "text/plain": [
       "     Present_Price  Kms_Driven  Owner  Years_Used  Fuel_Type_CNG  \\\n",
       "28            3.95     44542.0    0.0        11.0            0.0   \n",
       "200           0.75     92233.0    0.0        15.0            0.0   \n",
       "70            6.76     71000.0    0.0         7.0            0.0   \n",
       "277          13.60     21780.0    0.0         6.0            0.0   \n",
       "89            6.76     40000.0    0.0         7.0            0.0   \n",
       "..             ...         ...    ...         ...            ...   \n",
       "273           7.50     61203.0    0.0        11.0            0.0   \n",
       "33            9.95     45000.0    0.0         7.0            0.0   \n",
       "242           7.13     34000.0    0.0         7.0            0.0   \n",
       "184           0.75     26000.0    1.0        13.0            0.0   \n",
       "78           22.83     80000.0    0.0        11.0            0.0   \n",
       "\n",
       "     Fuel_Type_Diesel  Fuel_Type_Petrol  Seller_Type_Dealer  \\\n",
       "28                0.0               1.0                 1.0   \n",
       "200               0.0               1.0                 0.0   \n",
       "70                1.0               0.0                 1.0   \n",
       "277               0.0               1.0                 1.0   \n",
       "89                0.0               1.0                 1.0   \n",
       "..                ...               ...                 ...   \n",
       "273               0.0               1.0                 1.0   \n",
       "33                1.0               0.0                 1.0   \n",
       "242               0.0               1.0                 1.0   \n",
       "184               0.0               1.0                 0.0   \n",
       "78                0.0               1.0                 1.0   \n",
       "\n",
       "     Seller_Type_Individual  Transmission_Automatic  Transmission_Manual  \n",
       "28                      0.0                     0.0                  1.0  \n",
       "200                     1.0                     0.0                  1.0  \n",
       "70                      0.0                     0.0                  1.0  \n",
       "277                     0.0                     0.0                  1.0  \n",
       "89                      0.0                     0.0                  1.0  \n",
       "..                      ...                     ...                  ...  \n",
       "273                     0.0                     0.0                  1.0  \n",
       "33                      0.0                     0.0                  1.0  \n",
       "242                     0.0                     0.0                  1.0  \n",
       "184                     1.0                     0.0                  1.0  \n",
       "78                      0.0                     1.0                  0.0  \n",
       "\n",
       "[210 rows x 11 columns]"
      ]
     },
     "execution_count": 49,
     "metadata": {},
     "output_type": "execute_result"
    }
   ],
   "source": [
    "X_train = get_config('X_train')\n",
    "X_train"
   ]
  },
  {
   "cell_type": "code",
   "execution_count": 198,
   "metadata": {},
   "outputs": [
    {
     "data": {
      "text/html": [
       "<style  type=\"text/css\" >\n",
       "#T_f036e_row10_col0,#T_f036e_row10_col1,#T_f036e_row10_col2,#T_f036e_row10_col3,#T_f036e_row10_col4,#T_f036e_row10_col5{\n",
       "            background:  yellow;\n",
       "        }</style><table id=\"T_f036e_\" ><thead>    <tr>        <th class=\"blank level0\" ></th>        <th class=\"col_heading level0 col0\" >MAE</th>        <th class=\"col_heading level0 col1\" >MSE</th>        <th class=\"col_heading level0 col2\" >RMSE</th>        <th class=\"col_heading level0 col3\" >R2</th>        <th class=\"col_heading level0 col4\" >RMSLE</th>        <th class=\"col_heading level0 col5\" >MAPE</th>    </tr></thead><tbody>\n",
       "                <tr>\n",
       "                        <th id=\"T_f036e_level0_row0\" class=\"row_heading level0 row0\" >0</th>\n",
       "                        <td id=\"T_f036e_row0_col0\" class=\"data row0 col0\" >1.0497</td>\n",
       "                        <td id=\"T_f036e_row0_col1\" class=\"data row0 col1\" >3.6919</td>\n",
       "                        <td id=\"T_f036e_row0_col2\" class=\"data row0 col2\" >1.9214</td>\n",
       "                        <td id=\"T_f036e_row0_col3\" class=\"data row0 col3\" >0.8922</td>\n",
       "                        <td id=\"T_f036e_row0_col4\" class=\"data row0 col4\" >0.4395</td>\n",
       "                        <td id=\"T_f036e_row0_col5\" class=\"data row0 col5\" >1.3010</td>\n",
       "            </tr>\n",
       "            <tr>\n",
       "                        <th id=\"T_f036e_level0_row1\" class=\"row_heading level0 row1\" >1</th>\n",
       "                        <td id=\"T_f036e_row1_col0\" class=\"data row1 col0\" >0.9043</td>\n",
       "                        <td id=\"T_f036e_row1_col1\" class=\"data row1 col1\" >1.5760</td>\n",
       "                        <td id=\"T_f036e_row1_col2\" class=\"data row1 col2\" >1.2554</td>\n",
       "                        <td id=\"T_f036e_row1_col3\" class=\"data row1 col3\" >0.9592</td>\n",
       "                        <td id=\"T_f036e_row1_col4\" class=\"data row1 col4\" >0.2327</td>\n",
       "                        <td id=\"T_f036e_row1_col5\" class=\"data row1 col5\" >0.3098</td>\n",
       "            </tr>\n",
       "            <tr>\n",
       "                        <th id=\"T_f036e_level0_row2\" class=\"row_heading level0 row2\" >2</th>\n",
       "                        <td id=\"T_f036e_row2_col0\" class=\"data row2 col0\" >1.3731</td>\n",
       "                        <td id=\"T_f036e_row2_col1\" class=\"data row2 col1\" >5.8649</td>\n",
       "                        <td id=\"T_f036e_row2_col2\" class=\"data row2 col2\" >2.4218</td>\n",
       "                        <td id=\"T_f036e_row2_col3\" class=\"data row2 col3\" >0.8955</td>\n",
       "                        <td id=\"T_f036e_row2_col4\" class=\"data row2 col4\" >0.2709</td>\n",
       "                        <td id=\"T_f036e_row2_col5\" class=\"data row2 col5\" >0.6094</td>\n",
       "            </tr>\n",
       "            <tr>\n",
       "                        <th id=\"T_f036e_level0_row3\" class=\"row_heading level0 row3\" >3</th>\n",
       "                        <td id=\"T_f036e_row3_col0\" class=\"data row3 col0\" >1.0056</td>\n",
       "                        <td id=\"T_f036e_row3_col1\" class=\"data row3 col1\" >1.6304</td>\n",
       "                        <td id=\"T_f036e_row3_col2\" class=\"data row3 col2\" >1.2769</td>\n",
       "                        <td id=\"T_f036e_row3_col3\" class=\"data row3 col3\" >0.9424</td>\n",
       "                        <td id=\"T_f036e_row3_col4\" class=\"data row3 col4\" >0.3188</td>\n",
       "                        <td id=\"T_f036e_row3_col5\" class=\"data row3 col5\" >1.2122</td>\n",
       "            </tr>\n",
       "            <tr>\n",
       "                        <th id=\"T_f036e_level0_row4\" class=\"row_heading level0 row4\" >4</th>\n",
       "                        <td id=\"T_f036e_row4_col0\" class=\"data row4 col0\" >0.8347</td>\n",
       "                        <td id=\"T_f036e_row4_col1\" class=\"data row4 col1\" >1.2429</td>\n",
       "                        <td id=\"T_f036e_row4_col2\" class=\"data row4 col2\" >1.1148</td>\n",
       "                        <td id=\"T_f036e_row4_col3\" class=\"data row4 col3\" >0.9353</td>\n",
       "                        <td id=\"T_f036e_row4_col4\" class=\"data row4 col4\" >0.2433</td>\n",
       "                        <td id=\"T_f036e_row4_col5\" class=\"data row4 col5\" >0.4137</td>\n",
       "            </tr>\n",
       "            <tr>\n",
       "                        <th id=\"T_f036e_level0_row5\" class=\"row_heading level0 row5\" >5</th>\n",
       "                        <td id=\"T_f036e_row5_col0\" class=\"data row5 col0\" >1.3214</td>\n",
       "                        <td id=\"T_f036e_row5_col1\" class=\"data row5 col1\" >3.8451</td>\n",
       "                        <td id=\"T_f036e_row5_col2\" class=\"data row5 col2\" >1.9609</td>\n",
       "                        <td id=\"T_f036e_row5_col3\" class=\"data row5 col3\" >0.7630</td>\n",
       "                        <td id=\"T_f036e_row5_col4\" class=\"data row5 col4\" >0.4118</td>\n",
       "                        <td id=\"T_f036e_row5_col5\" class=\"data row5 col5\" >1.4442</td>\n",
       "            </tr>\n",
       "            <tr>\n",
       "                        <th id=\"T_f036e_level0_row6\" class=\"row_heading level0 row6\" >6</th>\n",
       "                        <td id=\"T_f036e_row6_col0\" class=\"data row6 col0\" >0.9194</td>\n",
       "                        <td id=\"T_f036e_row6_col1\" class=\"data row6 col1\" >1.4484</td>\n",
       "                        <td id=\"T_f036e_row6_col2\" class=\"data row6 col2\" >1.2035</td>\n",
       "                        <td id=\"T_f036e_row6_col3\" class=\"data row6 col3\" >0.8335</td>\n",
       "                        <td id=\"T_f036e_row6_col4\" class=\"data row6 col4\" >0.3558</td>\n",
       "                        <td id=\"T_f036e_row6_col5\" class=\"data row6 col5\" >1.6202</td>\n",
       "            </tr>\n",
       "            <tr>\n",
       "                        <th id=\"T_f036e_level0_row7\" class=\"row_heading level0 row7\" >7</th>\n",
       "                        <td id=\"T_f036e_row7_col0\" class=\"data row7 col0\" >0.7418</td>\n",
       "                        <td id=\"T_f036e_row7_col1\" class=\"data row7 col1\" >1.3260</td>\n",
       "                        <td id=\"T_f036e_row7_col2\" class=\"data row7 col2\" >1.1515</td>\n",
       "                        <td id=\"T_f036e_row7_col3\" class=\"data row7 col3\" >0.7678</td>\n",
       "                        <td id=\"T_f036e_row7_col4\" class=\"data row7 col4\" >0.1943</td>\n",
       "                        <td id=\"T_f036e_row7_col5\" class=\"data row7 col5\" >0.3757</td>\n",
       "            </tr>\n",
       "            <tr>\n",
       "                        <th id=\"T_f036e_level0_row8\" class=\"row_heading level0 row8\" >8</th>\n",
       "                        <td id=\"T_f036e_row8_col0\" class=\"data row8 col0\" >1.9429</td>\n",
       "                        <td id=\"T_f036e_row8_col1\" class=\"data row8 col1\" >10.3254</td>\n",
       "                        <td id=\"T_f036e_row8_col2\" class=\"data row8 col2\" >3.2133</td>\n",
       "                        <td id=\"T_f036e_row8_col3\" class=\"data row8 col3\" >0.8328</td>\n",
       "                        <td id=\"T_f036e_row8_col4\" class=\"data row8 col4\" >0.6482</td>\n",
       "                        <td id=\"T_f036e_row8_col5\" class=\"data row8 col5\" >2.8205</td>\n",
       "            </tr>\n",
       "            <tr>\n",
       "                        <th id=\"T_f036e_level0_row9\" class=\"row_heading level0 row9\" >9</th>\n",
       "                        <td id=\"T_f036e_row9_col0\" class=\"data row9 col0\" >1.3025</td>\n",
       "                        <td id=\"T_f036e_row9_col1\" class=\"data row9 col1\" >4.7603</td>\n",
       "                        <td id=\"T_f036e_row9_col2\" class=\"data row9 col2\" >2.1818</td>\n",
       "                        <td id=\"T_f036e_row9_col3\" class=\"data row9 col3\" >0.6949</td>\n",
       "                        <td id=\"T_f036e_row9_col4\" class=\"data row9 col4\" >0.3056</td>\n",
       "                        <td id=\"T_f036e_row9_col5\" class=\"data row9 col5\" >0.4474</td>\n",
       "            </tr>\n",
       "            <tr>\n",
       "                        <th id=\"T_f036e_level0_row10\" class=\"row_heading level0 row10\" >Mean</th>\n",
       "                        <td id=\"T_f036e_row10_col0\" class=\"data row10 col0\" >1.1395</td>\n",
       "                        <td id=\"T_f036e_row10_col1\" class=\"data row10 col1\" >3.5711</td>\n",
       "                        <td id=\"T_f036e_row10_col2\" class=\"data row10 col2\" >1.7701</td>\n",
       "                        <td id=\"T_f036e_row10_col3\" class=\"data row10 col3\" >0.8517</td>\n",
       "                        <td id=\"T_f036e_row10_col4\" class=\"data row10 col4\" >0.3421</td>\n",
       "                        <td id=\"T_f036e_row10_col5\" class=\"data row10 col5\" >1.0554</td>\n",
       "            </tr>\n",
       "            <tr>\n",
       "                        <th id=\"T_f036e_level0_row11\" class=\"row_heading level0 row11\" >SD</th>\n",
       "                        <td id=\"T_f036e_row11_col0\" class=\"data row11 col0\" >0.3377</td>\n",
       "                        <td id=\"T_f036e_row11_col1\" class=\"data row11 col1\" >2.7404</td>\n",
       "                        <td id=\"T_f036e_row11_col2\" class=\"data row11 col2\" >0.6616</td>\n",
       "                        <td id=\"T_f036e_row11_col3\" class=\"data row11 col3\" >0.0840</td>\n",
       "                        <td id=\"T_f036e_row11_col4\" class=\"data row11 col4\" >0.1260</td>\n",
       "                        <td id=\"T_f036e_row11_col5\" class=\"data row11 col5\" >0.7529</td>\n",
       "            </tr>\n",
       "    </tbody></table>"
      ],
      "text/plain": [
       "<pandas.io.formats.style.Styler at 0x2d11f789130>"
      ]
     },
     "metadata": {},
     "output_type": "display_data"
    }
   ],
   "source": [
    "tuned_xgb = tune_model(xgb)"
   ]
  },
  {
   "cell_type": "code",
   "execution_count": 200,
   "metadata": {},
   "outputs": [
    {
     "data": {
      "image/png": "[encoded data removed]",
      "text/plain": [
       "<Figure size 800x500 with 1 Axes>"
      ]
     },
     "metadata": {
      "needs_background": "light"
     },
     "output_type": "display_data"
    }
   ],
   "source": [
    "plot_model(xgb, plot = 'feature')"
   ]
  },
  {
   "cell_type": "code",
   "execution_count": 203,
   "metadata": {},
   "outputs": [
    {
     "data": {
      "image/png": "[encoded data removed]",
      "text/plain": [
       "<Figure size 576x396 with 1 Axes>"
      ]
     },
     "metadata": {},
     "output_type": "display_data"
    }
   ],
   "source": [
    "plot_model(xgb, plot = 'error')"
   ]
  },
  {
   "cell_type": "code",
   "execution_count": 204,
   "metadata": {},
   "outputs": [
    {
     "data": {
      "application/vnd.jupyter.widget-view+json": {
       "model_id": "341db077a8cf4594b124775cc3e52d2c",
       "version_major": 2,
       "version_minor": 0
      },
      "text/plain": [
       "interactive(children=(ToggleButtons(description='Plot Type:', icons=('',), options=(('Hyperparameters', 'param…"
      ]
     },
     "metadata": {},
     "output_type": "display_data"
    }
   ],
   "source": [
    "evaluate_model(xgb)"
   ]
  },
  {
   "cell_type": "code",
   "execution_count": 50,
   "metadata": {},
   "outputs": [
    {
     "data": {
      "text/html": [
       "<div>\n",
       "<style scoped>\n",
       "    .dataframe tbody tr th:only-of-type {\n",
       "        vertical-align: middle;\n",
       "    }\n",
       "\n",
       "    .dataframe tbody tr th {\n",
       "        vertical-align: top;\n",
       "    }\n",
       "\n",
       "    .dataframe thead th {\n",
       "        text-align: right;\n",
       "    }\n",
       "</style>\n",
       "<table border=\"1\" class=\"dataframe\">\n",
       "  <thead>\n",
       "    <tr style=\"text-align: right;\">\n",
       "      <th></th>\n",
       "      <th>Model</th>\n",
       "      <th>MAE</th>\n",
       "      <th>MSE</th>\n",
       "      <th>RMSE</th>\n",
       "      <th>R2</th>\n",
       "      <th>RMSLE</th>\n",
       "      <th>MAPE</th>\n",
       "    </tr>\n",
       "  </thead>\n",
       "  <tbody>\n",
       "    <tr>\n",
       "      <th>0</th>\n",
       "      <td>Extreme Gradient Boosting Regressor</td>\n",
       "      <td>0.6548</td>\n",
       "      <td>1.1891</td>\n",
       "      <td>1.0905</td>\n",
       "      <td>0.9549</td>\n",
       "      <td>0.1415</td>\n",
       "      <td>0.1777</td>\n",
       "    </tr>\n",
       "  </tbody>\n",
       "</table>\n",
       "</div>"
      ],
      "text/plain": [
       "                                 Model     MAE     MSE    RMSE      R2  \\\n",
       "0  Extreme Gradient Boosting Regressor  0.6548  1.1891  1.0905  0.9549   \n",
       "\n",
       "    RMSLE    MAPE  \n",
       "0  0.1415  0.1777  "
      ]
     },
     "metadata": {},
     "output_type": "display_data"
    }
   ],
   "source": [
    "pred=predict_model(xgb)"
   ]
  },
  {
   "cell_type": "code",
   "execution_count": 51,
   "metadata": {},
   "outputs": [
    {
     "data": {
      "text/html": [
       "<div>\n",
       "<style scoped>\n",
       "    .dataframe tbody tr th:only-of-type {\n",
       "        vertical-align: middle;\n",
       "    }\n",
       "\n",
       "    .dataframe tbody tr th {\n",
       "        vertical-align: top;\n",
       "    }\n",
       "\n",
       "    .dataframe thead th {\n",
       "        text-align: right;\n",
       "    }\n",
       "</style>\n",
       "<table border=\"1\" class=\"dataframe\">\n",
       "  <thead>\n",
       "    <tr style=\"text-align: right;\">\n",
       "      <th></th>\n",
       "      <th>Present_Price</th>\n",
       "      <th>Kms_Driven</th>\n",
       "      <th>Owner</th>\n",
       "      <th>Years_Used</th>\n",
       "      <th>Fuel_Type_CNG</th>\n",
       "      <th>Fuel_Type_Diesel</th>\n",
       "      <th>Fuel_Type_Petrol</th>\n",
       "      <th>Seller_Type_Dealer</th>\n",
       "      <th>Seller_Type_Individual</th>\n",
       "      <th>Transmission_Automatic</th>\n",
       "      <th>Transmission_Manual</th>\n",
       "      <th>Selling_Price</th>\n",
       "      <th>Label</th>\n",
       "    </tr>\n",
       "  </thead>\n",
       "  <tbody>\n",
       "    <tr>\n",
       "      <th>0</th>\n",
       "      <td>0.840</td>\n",
       "      <td>5000.0</td>\n",
       "      <td>0.0</td>\n",
       "      <td>4.0</td>\n",
       "      <td>0.0</td>\n",
       "      <td>0.0</td>\n",
       "      <td>1.0</td>\n",
       "      <td>0.0</td>\n",
       "      <td>1.0</td>\n",
       "      <td>0.0</td>\n",
       "      <td>1.0</td>\n",
       "      <td>0.78</td>\n",
       "      <td>0.6145</td>\n",
       "    </tr>\n",
       "    <tr>\n",
       "      <th>1</th>\n",
       "      <td>6.100</td>\n",
       "      <td>31427.0</td>\n",
       "      <td>0.0</td>\n",
       "      <td>6.0</td>\n",
       "      <td>0.0</td>\n",
       "      <td>0.0</td>\n",
       "      <td>1.0</td>\n",
       "      <td>1.0</td>\n",
       "      <td>0.0</td>\n",
       "      <td>0.0</td>\n",
       "      <td>1.0</td>\n",
       "      <td>5.40</td>\n",
       "      <td>4.6821</td>\n",
       "    </tr>\n",
       "    <tr>\n",
       "      <th>2</th>\n",
       "      <td>7.600</td>\n",
       "      <td>17000.0</td>\n",
       "      <td>0.0</td>\n",
       "      <td>5.0</td>\n",
       "      <td>0.0</td>\n",
       "      <td>0.0</td>\n",
       "      <td>1.0</td>\n",
       "      <td>1.0</td>\n",
       "      <td>0.0</td>\n",
       "      <td>0.0</td>\n",
       "      <td>1.0</td>\n",
       "      <td>5.25</td>\n",
       "      <td>6.5225</td>\n",
       "    </tr>\n",
       "    <tr>\n",
       "      <th>3</th>\n",
       "      <td>35.960</td>\n",
       "      <td>47000.0</td>\n",
       "      <td>0.0</td>\n",
       "      <td>6.0</td>\n",
       "      <td>0.0</td>\n",
       "      <td>1.0</td>\n",
       "      <td>0.0</td>\n",
       "      <td>1.0</td>\n",
       "      <td>0.0</td>\n",
       "      <td>1.0</td>\n",
       "      <td>0.0</td>\n",
       "      <td>23.50</td>\n",
       "      <td>19.9772</td>\n",
       "    </tr>\n",
       "    <tr>\n",
       "      <th>4</th>\n",
       "      <td>1.170</td>\n",
       "      <td>6000.0</td>\n",
       "      <td>0.0</td>\n",
       "      <td>5.0</td>\n",
       "      <td>0.0</td>\n",
       "      <td>0.0</td>\n",
       "      <td>1.0</td>\n",
       "      <td>0.0</td>\n",
       "      <td>1.0</td>\n",
       "      <td>0.0</td>\n",
       "      <td>1.0</td>\n",
       "      <td>1.05</td>\n",
       "      <td>0.7222</td>\n",
       "    </tr>\n",
       "    <tr>\n",
       "      <th>...</th>\n",
       "      <td>...</td>\n",
       "      <td>...</td>\n",
       "      <td>...</td>\n",
       "      <td>...</td>\n",
       "      <td>...</td>\n",
       "      <td>...</td>\n",
       "      <td>...</td>\n",
       "      <td>...</td>\n",
       "      <td>...</td>\n",
       "      <td>...</td>\n",
       "      <td>...</td>\n",
       "      <td>...</td>\n",
       "      <td>...</td>\n",
       "    </tr>\n",
       "    <tr>\n",
       "      <th>86</th>\n",
       "      <td>0.950</td>\n",
       "      <td>1300.0</td>\n",
       "      <td>0.0</td>\n",
       "      <td>4.0</td>\n",
       "      <td>0.0</td>\n",
       "      <td>0.0</td>\n",
       "      <td>1.0</td>\n",
       "      <td>0.0</td>\n",
       "      <td>1.0</td>\n",
       "      <td>0.0</td>\n",
       "      <td>1.0</td>\n",
       "      <td>0.90</td>\n",
       "      <td>0.7272</td>\n",
       "    </tr>\n",
       "    <tr>\n",
       "      <th>87</th>\n",
       "      <td>9.400</td>\n",
       "      <td>36100.0</td>\n",
       "      <td>0.0</td>\n",
       "      <td>9.0</td>\n",
       "      <td>0.0</td>\n",
       "      <td>0.0</td>\n",
       "      <td>1.0</td>\n",
       "      <td>1.0</td>\n",
       "      <td>0.0</td>\n",
       "      <td>0.0</td>\n",
       "      <td>1.0</td>\n",
       "      <td>4.50</td>\n",
       "      <td>4.9477</td>\n",
       "    </tr>\n",
       "    <tr>\n",
       "      <th>88</th>\n",
       "      <td>0.787</td>\n",
       "      <td>15000.0</td>\n",
       "      <td>0.0</td>\n",
       "      <td>7.0</td>\n",
       "      <td>0.0</td>\n",
       "      <td>0.0</td>\n",
       "      <td>1.0</td>\n",
       "      <td>0.0</td>\n",
       "      <td>1.0</td>\n",
       "      <td>0.0</td>\n",
       "      <td>1.0</td>\n",
       "      <td>0.55</td>\n",
       "      <td>0.6453</td>\n",
       "    </tr>\n",
       "    <tr>\n",
       "      <th>89</th>\n",
       "      <td>9.400</td>\n",
       "      <td>36000.0</td>\n",
       "      <td>0.0</td>\n",
       "      <td>9.0</td>\n",
       "      <td>0.0</td>\n",
       "      <td>0.0</td>\n",
       "      <td>1.0</td>\n",
       "      <td>1.0</td>\n",
       "      <td>0.0</td>\n",
       "      <td>0.0</td>\n",
       "      <td>1.0</td>\n",
       "      <td>4.50</td>\n",
       "      <td>4.9477</td>\n",
       "    </tr>\n",
       "    <tr>\n",
       "      <th>90</th>\n",
       "      <td>7.870</td>\n",
       "      <td>24524.0</td>\n",
       "      <td>0.0</td>\n",
       "      <td>5.0</td>\n",
       "      <td>0.0</td>\n",
       "      <td>0.0</td>\n",
       "      <td>1.0</td>\n",
       "      <td>1.0</td>\n",
       "      <td>0.0</td>\n",
       "      <td>1.0</td>\n",
       "      <td>0.0</td>\n",
       "      <td>5.85</td>\n",
       "      <td>6.3906</td>\n",
       "    </tr>\n",
       "  </tbody>\n",
       "</table>\n",
       "<p>91 rows × 13 columns</p>\n",
       "</div>"
      ],
      "text/plain": [
       "    Present_Price  Kms_Driven  Owner  Years_Used  Fuel_Type_CNG  \\\n",
       "0           0.840      5000.0    0.0         4.0            0.0   \n",
       "1           6.100     31427.0    0.0         6.0            0.0   \n",
       "2           7.600     17000.0    0.0         5.0            0.0   \n",
       "3          35.960     47000.0    0.0         6.0            0.0   \n",
       "4           1.170      6000.0    0.0         5.0            0.0   \n",
       "..            ...         ...    ...         ...            ...   \n",
       "86          0.950      1300.0    0.0         4.0            0.0   \n",
       "87          9.400     36100.0    0.0         9.0            0.0   \n",
       "88          0.787     15000.0    0.0         7.0            0.0   \n",
       "89          9.400     36000.0    0.0         9.0            0.0   \n",
       "90          7.870     24524.0    0.0         5.0            0.0   \n",
       "\n",
       "    Fuel_Type_Diesel  Fuel_Type_Petrol  Seller_Type_Dealer  \\\n",
       "0                0.0               1.0                 0.0   \n",
       "1                0.0               1.0                 1.0   \n",
       "2                0.0               1.0                 1.0   \n",
       "3                1.0               0.0                 1.0   \n",
       "4                0.0               1.0                 0.0   \n",
       "..               ...               ...                 ...   \n",
       "86               0.0               1.0                 0.0   \n",
       "87               0.0               1.0                 1.0   \n",
       "88               0.0               1.0                 0.0   \n",
       "89               0.0               1.0                 1.0   \n",
       "90               0.0               1.0                 1.0   \n",
       "\n",
       "    Seller_Type_Individual  Transmission_Automatic  Transmission_Manual  \\\n",
       "0                      1.0                     0.0                  1.0   \n",
       "1                      0.0                     0.0                  1.0   \n",
       "2                      0.0                     0.0                  1.0   \n",
       "3                      0.0                     1.0                  0.0   \n",
       "4                      1.0                     0.0                  1.0   \n",
       "..                     ...                     ...                  ...   \n",
       "86                     1.0                     0.0                  1.0   \n",
       "87                     0.0                     0.0                  1.0   \n",
       "88                     1.0                     0.0                  1.0   \n",
       "89                     0.0                     0.0                  1.0   \n",
       "90                     0.0                     1.0                  0.0   \n",
       "\n",
       "    Selling_Price    Label  \n",
       "0            0.78   0.6145  \n",
       "1            5.40   4.6821  \n",
       "2            5.25   6.5225  \n",
       "3           23.50  19.9772  \n",
       "4            1.05   0.7222  \n",
       "..            ...      ...  \n",
       "86           0.90   0.7272  \n",
       "87           4.50   4.9477  \n",
       "88           0.55   0.6453  \n",
       "89           4.50   4.9477  \n",
       "90           5.85   6.3906  \n",
       "\n",
       "[91 rows x 13 columns]"
      ]
     },
     "execution_count": 51,
     "metadata": {},
     "output_type": "execute_result"
    }
   ],
   "source": [
    "pred"
   ]
  },
  {
   "cell_type": "code",
   "execution_count": 210,
   "metadata": {},
   "outputs": [],
   "source": [
    "predict=predict_model(xgb,data=df)"
   ]
  },
  {
   "cell_type": "code",
   "execution_count": 211,
   "metadata": {},
   "outputs": [
    {
     "data": {
      "text/html": [
       "<div>\n",
       "<style scoped>\n",
       "    .dataframe tbody tr th:only-of-type {\n",
       "        vertical-align: middle;\n",
       "    }\n",
       "\n",
       "    .dataframe tbody tr th {\n",
       "        vertical-align: top;\n",
       "    }\n",
       "\n",
       "    .dataframe thead th {\n",
       "        text-align: right;\n",
       "    }\n",
       "</style>\n",
       "<table border=\"1\" class=\"dataframe\">\n",
       "  <thead>\n",
       "    <tr style=\"text-align: right;\">\n",
       "      <th></th>\n",
       "      <th>Selling_Price</th>\n",
       "      <th>Present_Price</th>\n",
       "      <th>Kms_Driven</th>\n",
       "      <th>Fuel_Type</th>\n",
       "      <th>Seller_Type</th>\n",
       "      <th>Transmission</th>\n",
       "      <th>Owner</th>\n",
       "      <th>Years_Used</th>\n",
       "      <th>Label</th>\n",
       "    </tr>\n",
       "    <tr>\n",
       "      <th>index</th>\n",
       "      <th></th>\n",
       "      <th></th>\n",
       "      <th></th>\n",
       "      <th></th>\n",
       "      <th></th>\n",
       "      <th></th>\n",
       "      <th></th>\n",
       "      <th></th>\n",
       "      <th></th>\n",
       "    </tr>\n",
       "  </thead>\n",
       "  <tbody>\n",
       "    <tr>\n",
       "      <th>0</th>\n",
       "      <td>3.35</td>\n",
       "      <td>5.59</td>\n",
       "      <td>27000</td>\n",
       "      <td>Petrol</td>\n",
       "      <td>Dealer</td>\n",
       "      <td>Manual</td>\n",
       "      <td>0</td>\n",
       "      <td>7</td>\n",
       "      <td>3.3616</td>\n",
       "    </tr>\n",
       "    <tr>\n",
       "      <th>1</th>\n",
       "      <td>4.75</td>\n",
       "      <td>9.54</td>\n",
       "      <td>43000</td>\n",
       "      <td>Diesel</td>\n",
       "      <td>Dealer</td>\n",
       "      <td>Manual</td>\n",
       "      <td>0</td>\n",
       "      <td>8</td>\n",
       "      <td>4.7545</td>\n",
       "    </tr>\n",
       "    <tr>\n",
       "      <th>2</th>\n",
       "      <td>7.25</td>\n",
       "      <td>9.85</td>\n",
       "      <td>6900</td>\n",
       "      <td>Petrol</td>\n",
       "      <td>Dealer</td>\n",
       "      <td>Manual</td>\n",
       "      <td>0</td>\n",
       "      <td>4</td>\n",
       "      <td>7.2552</td>\n",
       "    </tr>\n",
       "    <tr>\n",
       "      <th>3</th>\n",
       "      <td>2.85</td>\n",
       "      <td>4.15</td>\n",
       "      <td>5200</td>\n",
       "      <td>Petrol</td>\n",
       "      <td>Dealer</td>\n",
       "      <td>Manual</td>\n",
       "      <td>0</td>\n",
       "      <td>10</td>\n",
       "      <td>2.8464</td>\n",
       "    </tr>\n",
       "    <tr>\n",
       "      <th>4</th>\n",
       "      <td>4.60</td>\n",
       "      <td>6.87</td>\n",
       "      <td>42450</td>\n",
       "      <td>Diesel</td>\n",
       "      <td>Dealer</td>\n",
       "      <td>Manual</td>\n",
       "      <td>0</td>\n",
       "      <td>7</td>\n",
       "      <td>4.4825</td>\n",
       "    </tr>\n",
       "    <tr>\n",
       "      <th>...</th>\n",
       "      <td>...</td>\n",
       "      <td>...</td>\n",
       "      <td>...</td>\n",
       "      <td>...</td>\n",
       "      <td>...</td>\n",
       "      <td>...</td>\n",
       "      <td>...</td>\n",
       "      <td>...</td>\n",
       "      <td>...</td>\n",
       "    </tr>\n",
       "    <tr>\n",
       "      <th>296</th>\n",
       "      <td>9.50</td>\n",
       "      <td>11.60</td>\n",
       "      <td>33988</td>\n",
       "      <td>Diesel</td>\n",
       "      <td>Dealer</td>\n",
       "      <td>Manual</td>\n",
       "      <td>0</td>\n",
       "      <td>5</td>\n",
       "      <td>10.5271</td>\n",
       "    </tr>\n",
       "    <tr>\n",
       "      <th>297</th>\n",
       "      <td>4.00</td>\n",
       "      <td>5.90</td>\n",
       "      <td>60000</td>\n",
       "      <td>Petrol</td>\n",
       "      <td>Dealer</td>\n",
       "      <td>Manual</td>\n",
       "      <td>0</td>\n",
       "      <td>6</td>\n",
       "      <td>4.0032</td>\n",
       "    </tr>\n",
       "    <tr>\n",
       "      <th>298</th>\n",
       "      <td>3.35</td>\n",
       "      <td>11.00</td>\n",
       "      <td>87934</td>\n",
       "      <td>Petrol</td>\n",
       "      <td>Dealer</td>\n",
       "      <td>Manual</td>\n",
       "      <td>0</td>\n",
       "      <td>12</td>\n",
       "      <td>3.3505</td>\n",
       "    </tr>\n",
       "    <tr>\n",
       "      <th>299</th>\n",
       "      <td>11.50</td>\n",
       "      <td>12.50</td>\n",
       "      <td>9000</td>\n",
       "      <td>Diesel</td>\n",
       "      <td>Dealer</td>\n",
       "      <td>Manual</td>\n",
       "      <td>0</td>\n",
       "      <td>4</td>\n",
       "      <td>11.5009</td>\n",
       "    </tr>\n",
       "    <tr>\n",
       "      <th>300</th>\n",
       "      <td>5.30</td>\n",
       "      <td>5.90</td>\n",
       "      <td>5464</td>\n",
       "      <td>Petrol</td>\n",
       "      <td>Dealer</td>\n",
       "      <td>Manual</td>\n",
       "      <td>0</td>\n",
       "      <td>5</td>\n",
       "      <td>5.3033</td>\n",
       "    </tr>\n",
       "  </tbody>\n",
       "</table>\n",
       "<p>301 rows × 9 columns</p>\n",
       "</div>"
      ],
      "text/plain": [
       "       Selling_Price  Present_Price  Kms_Driven Fuel_Type Seller_Type  \\\n",
       "index                                                                   \n",
       "0               3.35           5.59       27000    Petrol      Dealer   \n",
       "1               4.75           9.54       43000    Diesel      Dealer   \n",
       "2               7.25           9.85        6900    Petrol      Dealer   \n",
       "3               2.85           4.15        5200    Petrol      Dealer   \n",
       "4               4.60           6.87       42450    Diesel      Dealer   \n",
       "...              ...            ...         ...       ...         ...   \n",
       "296             9.50          11.60       33988    Diesel      Dealer   \n",
       "297             4.00           5.90       60000    Petrol      Dealer   \n",
       "298             3.35          11.00       87934    Petrol      Dealer   \n",
       "299            11.50          12.50        9000    Diesel      Dealer   \n",
       "300             5.30           5.90        5464    Petrol      Dealer   \n",
       "\n",
       "      Transmission  Owner  Years_Used    Label  \n",
       "index                                           \n",
       "0           Manual      0           7   3.3616  \n",
       "1           Manual      0           8   4.7545  \n",
       "2           Manual      0           4   7.2552  \n",
       "3           Manual      0          10   2.8464  \n",
       "4           Manual      0           7   4.4825  \n",
       "...            ...    ...         ...      ...  \n",
       "296         Manual      0           5  10.5271  \n",
       "297         Manual      0           6   4.0032  \n",
       "298         Manual      0          12   3.3505  \n",
       "299         Manual      0           4  11.5009  \n",
       "300         Manual      0           5   5.3033  \n",
       "\n",
       "[301 rows x 9 columns]"
      ]
     },
     "execution_count": 211,
     "metadata": {},
     "output_type": "execute_result"
    }
   ],
   "source": [
    "predict"
   ]
  },
  {
   "cell_type": "code",
   "execution_count": 213,
   "metadata": {},
   "outputs": [
    {
     "name": "stderr",
     "output_type": "stream",
     "text": [
      "INFO:logs:Initializing create_model()\n",
      "INFO:logs:create_model(estimator=XGBRegressor(base_score=0.5, booster='gbtree', colsample_bylevel=1,\n",
      "             colsample_bynode=1, colsample_bytree=1, gamma=0, gpu_id=-1,\n",
      "             importance_type='gain', interaction_constraints='',\n",
      "             learning_rate=0.300000012, max_delta_step=0, max_depth=6,\n",
      "             min_child_weight=1, missing=nan, monotone_constraints='()',\n",
      "             n_estimators=100, n_jobs=-1, num_parallel_tree=1,\n",
      "             objective='reg:squarederror', random_state=7605, reg_alpha=0,\n",
      "             reg_lambda=1, scale_pos_weight=1, subsample=1, tree_method='exact',\n",
      "             validate_parameters=1, verbosity=0), ensemble=False, method=None, fold=10, round=4, cross_validation=True, verbose=False, system=False)\n",
      "INFO:logs:Checking exceptions\n",
      "INFO:logs:Preloading libraries\n",
      "INFO:logs:Preparing display monitor\n",
      "INFO:logs:Copying training dataset\n",
      "INFO:logs:Importing libraries\n",
      "INFO:logs:Defining folds\n",
      "INFO:logs:Declaring metric variables\n",
      "INFO:logs:Declaring custom model\n",
      "INFO:logs:Extreme Gradient Boosting Imported succesfully\n",
      "INFO:logs:Checking ensemble method\n",
      "INFO:logs:Initializing Fold 1\n",
      "INFO:logs:Fitting Model\n",
      "INFO:logs:Evaluating Metrics\n",
      "INFO:logs:No inverse transformation\n",
      "INFO:logs:Compiling Metrics\n",
      "INFO:logs:Initializing Fold 2\n",
      "INFO:logs:Fitting Model\n",
      "INFO:logs:Evaluating Metrics\n",
      "INFO:logs:No inverse transformation\n",
      "INFO:logs:Compiling Metrics\n",
      "INFO:logs:Initializing Fold 3\n",
      "INFO:logs:Fitting Model\n",
      "INFO:logs:Evaluating Metrics\n",
      "INFO:logs:No inverse transformation\n",
      "INFO:logs:Compiling Metrics\n",
      "INFO:logs:Initializing Fold 4\n",
      "INFO:logs:Fitting Model\n",
      "INFO:logs:Evaluating Metrics\n",
      "INFO:logs:No inverse transformation\n",
      "INFO:logs:Compiling Metrics\n",
      "INFO:logs:Initializing Fold 5\n",
      "INFO:logs:Fitting Model\n",
      "INFO:logs:Evaluating Metrics\n",
      "INFO:logs:No inverse transformation\n",
      "INFO:logs:Compiling Metrics\n",
      "INFO:logs:Initializing Fold 6\n",
      "INFO:logs:Fitting Model\n",
      "INFO:logs:Evaluating Metrics\n",
      "INFO:logs:No inverse transformation\n",
      "INFO:logs:Compiling Metrics\n",
      "INFO:logs:Initializing Fold 7\n",
      "INFO:logs:Fitting Model\n",
      "INFO:logs:Evaluating Metrics\n",
      "INFO:logs:No inverse transformation\n",
      "INFO:logs:Compiling Metrics\n",
      "INFO:logs:Initializing Fold 8\n",
      "INFO:logs:Fitting Model\n",
      "INFO:logs:Evaluating Metrics\n",
      "INFO:logs:No inverse transformation\n",
      "INFO:logs:Compiling Metrics\n",
      "INFO:logs:Initializing Fold 9\n",
      "INFO:logs:Fitting Model\n",
      "INFO:logs:Evaluating Metrics\n",
      "INFO:logs:No inverse transformation\n",
      "INFO:logs:Compiling Metrics\n",
      "INFO:logs:Initializing Fold 10\n",
      "INFO:logs:Fitting Model\n",
      "INFO:logs:Evaluating Metrics\n",
      "INFO:logs:No inverse transformation\n",
      "INFO:logs:Compiling Metrics\n",
      "INFO:logs:Calculating mean and std\n",
      "INFO:logs:Creating metrics dataframe\n",
      "INFO:logs:Finalizing model\n",
      "INFO:logs:Uploading results into container\n",
      "INFO:logs:Uploading model into container\n",
      "INFO:logs:create_model_container: 6\n",
      "INFO:logs:master_model_container: 6\n",
      "INFO:logs:display_container: 9\n",
      "INFO:logs:XGBRegressor(base_score=0.5, booster='gbtree', colsample_bylevel=1,\n",
      "             colsample_bynode=1, colsample_bytree=1, gamma=0, gpu_id=-1,\n",
      "             importance_type='gain', interaction_constraints='',\n",
      "             learning_rate=0.300000012, max_delta_step=0, max_depth=6,\n",
      "             min_child_weight=1, missing=nan, monotone_constraints='()',\n",
      "             n_estimators=100, n_jobs=-1, num_parallel_tree=1,\n",
      "             objective='reg:squarederror', random_state=7605, reg_alpha=0,\n",
      "             reg_lambda=1, scale_pos_weight=1, subsample=1, tree_method='exact',\n",
      "             validate_parameters=1, verbosity=0)\n",
      "INFO:logs:create_model() succesfully completed......................................\n",
      "INFO:logs:create_model_container: 6\n",
      "INFO:logs:master_model_container: 6\n",
      "INFO:logs:display_container: 9\n",
      "INFO:logs:XGBRegressor(base_score=0.5, booster='gbtree', colsample_bylevel=1,\n",
      "             colsample_bynode=1, colsample_bytree=1, gamma=0, gpu_id=-1,\n",
      "             importance_type='gain', interaction_constraints='',\n",
      "             learning_rate=0.300000012, max_delta_step=0, max_depth=6,\n",
      "             min_child_weight=1, missing=nan, monotone_constraints='()',\n",
      "             n_estimators=100, n_jobs=-1, num_parallel_tree=1,\n",
      "             objective='reg:squarederror', random_state=7605, reg_alpha=0,\n",
      "             reg_lambda=1, scale_pos_weight=1, subsample=1, tree_method='exact',\n",
      "             validate_parameters=1, verbosity=0)\n",
      "INFO:logs:finalize_model() succesfully completed......................................\n"
     ]
    }
   ],
   "source": [
    "#Finalizing the model\n",
    "final_xgb = finalize_model(xgb)"
   ]
  },
  {
   "cell_type": "code",
   "execution_count": 214,
   "metadata": {},
   "outputs": [
    {
     "name": "stderr",
     "output_type": "stream",
     "text": [
      "INFO:logs:Initializing save_model()\n",
      "INFO:logs:save_model(model=XGBRegressor(base_score=0.5, booster='gbtree', colsample_bylevel=1,\n",
      "             colsample_bynode=1, colsample_bytree=1, gamma=0, gpu_id=-1,\n",
      "             importance_type='gain', interaction_constraints='',\n",
      "             learning_rate=0.300000012, max_delta_step=0, max_depth=6,\n",
      "             min_child_weight=1, missing=nan, monotone_constraints='()',\n",
      "             n_estimators=100, n_jobs=-1, num_parallel_tree=1,\n",
      "             objective='reg:squarederror', random_state=7605, reg_alpha=0,\n",
      "             reg_lambda=1, scale_pos_weight=1, subsample=1, tree_method='exact',\n",
      "             validate_parameters=1, verbosity=0), model_name=saved_xgbmodel, model_only=False, verbose=True)\n",
      "INFO:logs:saved_xgbmodel.pkl saved in current working directory\n",
      "INFO:logs:Pipeline(memory=None,\n",
      "         steps=[('dtypes',\n",
      "                 DataTypes_Auto_infer(categorical_features=[],\n",
      "                                      display_types=True, features_todrop=[],\n",
      "                                      ml_usecase='regression',\n",
      "                                      numerical_features=['Years_Used',\n",
      "                                                          'Owner'],\n",
      "                                      target='Selling_Price',\n",
      "                                      time_features=[])),\n",
      "                ('imputer',\n",
      "                 Simple_Imputer(categorical_strategy='not_available',\n",
      "                                numeric_strategy='mean',\n",
      "                                target_variable=None)),\n",
      "                ('new_level...\n",
      "                              interaction_constraints='',\n",
      "                              learning_rate=0.300000012, max_delta_step=0,\n",
      "                              max_depth=6, min_child_weight=1, missing=nan,\n",
      "                              monotone_constraints='()', n_estimators=100,\n",
      "                              n_jobs=-1, num_parallel_tree=1,\n",
      "                              objective='reg:squarederror', random_state=7605,\n",
      "                              reg_alpha=0, reg_lambda=1, scale_pos_weight=1,\n",
      "                              subsample=1, tree_method='exact',\n",
      "                              validate_parameters=1, verbosity=0)]],\n",
      "         verbose=False)\n",
      "INFO:logs:save_model() succesfully completed......................................\n"
     ]
    },
    {
     "name": "stdout",
     "output_type": "stream",
     "text": [
      "Transformation Pipeline and Model Succesfully Saved\n"
     ]
    }
   ],
   "source": [
    "save_model(final_xgb, 'saved_xgbmodel')"
   ]
  },
  {
   "cell_type": "markdown",
   "metadata": {},
   "source": [
    "### END"
   ]
  },
  {
   "cell_type": "markdown",
   "metadata": {},
   "source": [
    "### Testing on the sample input record"
   ]
  },
  {
   "cell_type": "code",
   "execution_count": 37,
   "metadata": {},
   "outputs": [
    {
     "name": "stdout",
     "output_type": "stream",
     "text": [
      "Transformation Pipeline and Model Successfully Loaded\n"
     ]
    }
   ],
   "source": [
    "xgb= load_model(\"saved_xgbmodel\")"
   ]
  },
  {
   "cell_type": "code",
   "execution_count": 62,
   "metadata": {},
   "outputs": [],
   "source": [
    "Present_Price = 12.3\n",
    "Kms_Driven= 45000\n",
    "Owner= 0.0\n",
    "Years_Used= 7.0\n",
    "Fuel_Type_CNG=0.0\n",
    "Fuel_Type_Diesel= 0.0\n",
    "Fuel_Type_Petrol= 1.0\n",
    "Seller_Type_Dealer= 0.0\n",
    "Seller_Type_Individual= 1.0\n",
    "Transmission_Automatic= 0.0\n",
    "Transmission_Manual= 1.0"
   ]
  },
  {
   "cell_type": "code",
   "execution_count": 64,
   "metadata": {},
   "outputs": [
    {
     "ename": "AttributeError",
     "evalue": "'list' object has no attribute 'reset_index'",
     "output_type": "error",
     "traceback": [
      "\u001b[1;31m---------------------------------------------------------------------------\u001b[0m",
      "\u001b[1;31mAttributeError\u001b[0m                            Traceback (most recent call last)",
      "\u001b[1;32m<ipython-input-64-4c4eccf723e3>\u001b[0m in \u001b[0;36m<module>\u001b[1;34m\u001b[0m\n\u001b[1;32m----> 1\u001b[1;33m \u001b[0mpredict_model\u001b[0m\u001b[1;33m(\u001b[0m\u001b[0mxgb\u001b[0m\u001b[1;33m,\u001b[0m\u001b[0mdata\u001b[0m\u001b[1;33m=\u001b[0m \u001b[1;33m[\u001b[0m\u001b[1;33m[\u001b[0m\u001b[0mPresent_Price\u001b[0m\u001b[1;33m,\u001b[0m\u001b[0mKms_Driven\u001b[0m\u001b[1;33m,\u001b[0m\u001b[0mOwner\u001b[0m\u001b[1;33m,\u001b[0m\u001b[0mYears_Used\u001b[0m\u001b[1;33m,\u001b[0m\u001b[0mFuel_Type_CNG\u001b[0m\u001b[1;33m,\u001b[0m\u001b[0mFuel_Type_Diesel\u001b[0m\u001b[1;33m,\u001b[0m\u001b[0mFuel_Type_Petrol\u001b[0m\u001b[1;33m,\u001b[0m\u001b[0mSeller_Type_Dealer\u001b[0m\u001b[1;33m,\u001b[0m\u001b[0mSeller_Type_Individual\u001b[0m\u001b[1;33m,\u001b[0m\u001b[0mTransmission_Automatic\u001b[0m\u001b[1;33m,\u001b[0m\u001b[0mTransmission_Manual\u001b[0m\u001b[1;33m]\u001b[0m\u001b[1;33m]\u001b[0m\u001b[1;33m)\u001b[0m\u001b[1;33m\u001b[0m\u001b[1;33m\u001b[0m\u001b[0m\n\u001b[0m",
      "\u001b[1;32mC:\\ProgramData\\Anaconda3\\lib\\site-packages\\pycaret\\regression.py\u001b[0m in \u001b[0;36mpredict_model\u001b[1;34m(estimator, data, round, verbose)\u001b[0m\n\u001b[0;32m   7957\u001b[0m         \u001b[0mXtest\u001b[0m \u001b[1;33m=\u001b[0m \u001b[0mdata\u001b[0m\u001b[1;33m.\u001b[0m\u001b[0mcopy\u001b[0m\u001b[1;33m(\u001b[0m\u001b[1;33m)\u001b[0m\u001b[1;33m\u001b[0m\u001b[1;33m\u001b[0m\u001b[0m\n\u001b[0;32m   7958\u001b[0m         \u001b[0mX_test_\u001b[0m \u001b[1;33m=\u001b[0m \u001b[0mdata\u001b[0m\u001b[1;33m.\u001b[0m\u001b[0mcopy\u001b[0m\u001b[1;33m(\u001b[0m\u001b[1;33m)\u001b[0m\u001b[1;33m\u001b[0m\u001b[1;33m\u001b[0m\u001b[0m\n\u001b[1;32m-> 7959\u001b[1;33m         \u001b[0mXtest\u001b[0m\u001b[1;33m.\u001b[0m\u001b[0mreset_index\u001b[0m\u001b[1;33m(\u001b[0m\u001b[0mdrop\u001b[0m\u001b[1;33m=\u001b[0m\u001b[1;32mTrue\u001b[0m\u001b[1;33m,\u001b[0m \u001b[0minplace\u001b[0m\u001b[1;33m=\u001b[0m\u001b[1;32mTrue\u001b[0m\u001b[1;33m)\u001b[0m\u001b[1;33m\u001b[0m\u001b[1;33m\u001b[0m\u001b[0m\n\u001b[0m\u001b[0;32m   7960\u001b[0m         \u001b[0mX_test_\u001b[0m\u001b[1;33m.\u001b[0m\u001b[0mreset_index\u001b[0m\u001b[1;33m(\u001b[0m\u001b[0minplace\u001b[0m\u001b[1;33m=\u001b[0m\u001b[1;32mTrue\u001b[0m\u001b[1;33m)\u001b[0m\u001b[1;33m\u001b[0m\u001b[1;33m\u001b[0m\u001b[0m\n\u001b[0;32m   7961\u001b[0m \u001b[1;33m\u001b[0m\u001b[0m\n",
      "\u001b[1;31mAttributeError\u001b[0m: 'list' object has no attribute 'reset_index'"
     ]
    }
   ],
   "source": [
    "predict_model(xgb,data= [[Present_Price,Kms_Driven,Owner,Years_Used,Fuel_Type_CNG,Fuel_Type_Diesel,Fuel_Type_Petrol,Seller_Type_Dealer,Seller_Type_Individual,Transmission_Automatic,Transmission_Manual]])"
   ]
  },
  {
   "cell_type": "code",
   "execution_count": 59,
   "metadata": {},
   "outputs": [
    {
     "data": {
      "text/html": [
       "<div>\n",
       "<style scoped>\n",
       "    .dataframe tbody tr th:only-of-type {\n",
       "        vertical-align: middle;\n",
       "    }\n",
       "\n",
       "    .dataframe tbody tr th {\n",
       "        vertical-align: top;\n",
       "    }\n",
       "\n",
       "    .dataframe thead th {\n",
       "        text-align: right;\n",
       "    }\n",
       "</style>\n",
       "<table border=\"1\" class=\"dataframe\">\n",
       "  <thead>\n",
       "    <tr style=\"text-align: right;\">\n",
       "      <th></th>\n",
       "      <th>Present_Price</th>\n",
       "      <th>Kms_Driven</th>\n",
       "      <th>Fuel_Type</th>\n",
       "      <th>Seller_Type</th>\n",
       "      <th>Transmission</th>\n",
       "      <th>Owner</th>\n",
       "      <th>Years_Used</th>\n",
       "    </tr>\n",
       "  </thead>\n",
       "  <tbody>\n",
       "    <tr>\n",
       "      <th>0</th>\n",
       "      <td>12.5</td>\n",
       "      <td>45000</td>\n",
       "      <td>Petrol</td>\n",
       "      <td>Dealer</td>\n",
       "      <td>Manual</td>\n",
       "      <td>0</td>\n",
       "      <td>8</td>\n",
       "    </tr>\n",
       "  </tbody>\n",
       "</table>\n",
       "</div>"
      ],
      "text/plain": [
       "   Present_Price  Kms_Driven Fuel_Type Seller_Type Transmission  Owner  \\\n",
       "0           12.5       45000    Petrol      Dealer       Manual      0   \n",
       "\n",
       "   Years_Used  \n",
       "0           8  "
      ]
     },
     "execution_count": 59,
     "metadata": {},
     "output_type": "execute_result"
    }
   ],
   "source": [
    "dff= pd.DataFrame({\"Present_Price\":12.5,\"Kms_Driven\":45000,\"Fuel_Type\":\"Petrol\",\"Seller_Type\":\"Dealer\",\"Transmission\":\"Manual\",\"Owner\":0,\"Years_Used\":8}, index= np.arange(1))\n",
    "# Present_Price\tKms_Driven\tFuel_Type\tSeller_Type\tTransmission\tOwner\tYears_Used\n",
    "dff"
   ]
  },
  {
   "cell_type": "code",
   "execution_count": 60,
   "metadata": {},
   "outputs": [],
   "source": [
    "pred= predict_model(xgb,data=dff)"
   ]
  },
  {
   "cell_type": "code",
   "execution_count": 61,
   "metadata": {},
   "outputs": [
    {
     "data": {
      "text/html": [
       "<div>\n",
       "<style scoped>\n",
       "    .dataframe tbody tr th:only-of-type {\n",
       "        vertical-align: middle;\n",
       "    }\n",
       "\n",
       "    .dataframe tbody tr th {\n",
       "        vertical-align: top;\n",
       "    }\n",
       "\n",
       "    .dataframe thead th {\n",
       "        text-align: right;\n",
       "    }\n",
       "</style>\n",
       "<table border=\"1\" class=\"dataframe\">\n",
       "  <thead>\n",
       "    <tr style=\"text-align: right;\">\n",
       "      <th></th>\n",
       "      <th>Present_Price</th>\n",
       "      <th>Kms_Driven</th>\n",
       "      <th>Fuel_Type</th>\n",
       "      <th>Seller_Type</th>\n",
       "      <th>Transmission</th>\n",
       "      <th>Owner</th>\n",
       "      <th>Years_Used</th>\n",
       "      <th>Label</th>\n",
       "    </tr>\n",
       "    <tr>\n",
       "      <th>index</th>\n",
       "      <th></th>\n",
       "      <th></th>\n",
       "      <th></th>\n",
       "      <th></th>\n",
       "      <th></th>\n",
       "      <th></th>\n",
       "      <th></th>\n",
       "      <th></th>\n",
       "    </tr>\n",
       "  </thead>\n",
       "  <tbody>\n",
       "    <tr>\n",
       "      <th>0</th>\n",
       "      <td>12.5</td>\n",
       "      <td>45000</td>\n",
       "      <td>Petrol</td>\n",
       "      <td>Dealer</td>\n",
       "      <td>Manual</td>\n",
       "      <td>0</td>\n",
       "      <td>8</td>\n",
       "      <td>5.2475</td>\n",
       "    </tr>\n",
       "  </tbody>\n",
       "</table>\n",
       "</div>"
      ],
      "text/plain": [
       "       Present_Price  Kms_Driven Fuel_Type Seller_Type Transmission  Owner  \\\n",
       "index                                                                        \n",
       "0               12.5       45000    Petrol      Dealer       Manual      0   \n",
       "\n",
       "       Years_Used   Label  \n",
       "index                      \n",
       "0               8  5.2475  "
      ]
     },
     "execution_count": 61,
     "metadata": {},
     "output_type": "execute_result"
    }
   ],
   "source": [
    "pred"
   ]
  },
  {
   "cell_type": "code",
   "execution_count": null,
   "metadata": {},
   "outputs": [],
   "source": []
  }
 ],
 "metadata": {
  "kernelspec": {
   "display_name": "Python 3",
   "language": "python",
   "name": "python3"
  },
  "language_info": {
   "codemirror_mode": {
    "name": "ipython",
    "version": 3
   },
   "file_extension": ".py",
   "mimetype": "text/x-python",
   "name": "python",
   "nbconvert_exporter": "python",
   "pygments_lexer": "ipython3",
   "version": "3.8.3"
  }
 },
 "nbformat": 4,
 "nbformat_minor": 4
}
